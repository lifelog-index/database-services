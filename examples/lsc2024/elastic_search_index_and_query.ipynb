{
 "cells": [
  {
   "cell_type": "code",
   "execution_count": 1,
   "metadata": {},
   "outputs": [
    {
     "data": {
      "text/html": [
       "<pre style=\"white-space:pre;overflow-x:auto;line-height:normal;font-family:Menlo,'DejaVu Sans Mono',consolas,'Courier New',monospace\"><span style=\"font-weight: bold\">{</span>\n",
       "    <span style=\"color: #008000; text-decoration-color: #008000\">'HOST'</span>: <span style=\"color: #008000; text-decoration-color: #008000\">'0.0.0.0'</span>,\n",
       "    <span style=\"color: #008000; text-decoration-color: #008000\">'PORT'</span>: <span style=\"color: #008000; text-decoration-color: #008000\">'20542'</span>,\n",
       "    <span style=\"color: #008000; text-decoration-color: #008000\">'USERNAME'</span>: <span style=\"color: #008000; text-decoration-color: #008000\">'elastic'</span>,\n",
       "    <span style=\"color: #008000; text-decoration-color: #008000\">'PASSWORD'</span>: <span style=\"color: #008000; text-decoration-color: #008000\">'123456'</span>,\n",
       "    <span style=\"color: #008000; text-decoration-color: #008000\">'INDEX'</span>: <span style=\"color: #800080; text-decoration-color: #800080; font-style: italic\">None</span>,\n",
       "    <span style=\"color: #008000; text-decoration-color: #008000\">'RETURN_SIZE'</span>: <span style=\"color: #008080; text-decoration-color: #008080; font-weight: bold\">10</span>,\n",
       "    <span style=\"color: #008000; text-decoration-color: #008000\">'CACHE_DIR'</span>: <span style=\"color: #008000; text-decoration-color: #008000\">'.cache/'</span>,\n",
       "    <span style=\"color: #008000; text-decoration-color: #008000\">'DIMENSION'</span>: <span style=\"color: #008080; text-decoration-color: #008080; font-weight: bold\">2</span>\n",
       "<span style=\"font-weight: bold\">}</span>\n",
       "</pre>\n"
      ],
      "text/plain": [
       "\u001b[1m{\u001b[0m\n",
       "    \u001b[32m'HOST'\u001b[0m: \u001b[32m'0.0.0.0'\u001b[0m,\n",
       "    \u001b[32m'PORT'\u001b[0m: \u001b[32m'20542'\u001b[0m,\n",
       "    \u001b[32m'USERNAME'\u001b[0m: \u001b[32m'elastic'\u001b[0m,\n",
       "    \u001b[32m'PASSWORD'\u001b[0m: \u001b[32m'123456'\u001b[0m,\n",
       "    \u001b[32m'INDEX'\u001b[0m: \u001b[3;35mNone\u001b[0m,\n",
       "    \u001b[32m'RETURN_SIZE'\u001b[0m: \u001b[1;36m10\u001b[0m,\n",
       "    \u001b[32m'CACHE_DIR'\u001b[0m: \u001b[32m'.cache/'\u001b[0m,\n",
       "    \u001b[32m'DIMENSION'\u001b[0m: \u001b[1;36m2\u001b[0m\n",
       "\u001b[1m}\u001b[0m\n"
      ]
     },
     "metadata": {},
     "output_type": "display_data"
    }
   ],
   "source": [
    "import os\n",
    "from dotenv import load_dotenv\n",
    "from pathlib import Path\n",
    "import rich \n",
    "\n",
    "dotenv_path = Path('../../.env')\n",
    "load_dotenv(dotenv_path=dotenv_path)\n",
    "\n",
    "ELASTIC_PORT = os.environ.get(\"ELASTIC_PORT\", None)\n",
    "ELASTIC_USERNAME = os.environ.get(\"ELASTIC_USERNAME\", None)\n",
    "ELASTIC_PASSWORD = os.environ.get(\"ELASTIC_PASSWORD\", None)\n",
    "\n",
    "assert ELASTIC_PORT is not None, \"ELASTIC_PORT is not set\"\n",
    "assert ELASTIC_USERNAME is not None, \"ELASTIC_USERNAME is not set\"\n",
    "assert ELASTIC_PASSWORD is not None, \"ELASTIC_PASSWORD is not set\"\n",
    "\n",
    "root = Path('/home/lsc/2024/')\n",
    "config = {\n",
    "    # Global config\n",
    "    \"HOST\": \"0.0.0.0\",\n",
    "    \"PORT\": ELASTIC_PORT,\n",
    "    \"USERNAME\": ELASTIC_USERNAME,\n",
    "    \"PASSWORD\": ELASTIC_PASSWORD,\n",
    "    \"INDEX\": None,\n",
    "    \"RETURN_SIZE\": 10,\n",
    "    \"CACHE_DIR\": \".cache/\",\n",
    "    \"DIMENSION\": 2,\n",
    "}\n",
    "\n",
    "rich.print(config)"
   ]
  },
  {
   "attachments": {},
   "cell_type": "markdown",
   "metadata": {},
   "source": [
    "## Prepapre DB"
   ]
  },
  {
   "cell_type": "code",
   "execution_count": 2,
   "metadata": {},
   "outputs": [],
   "source": [
    "import json \n",
    "with open(root / 'datahub/metadata/clean_metadata.json', 'r') as f:\n",
    "    metadata = json.load(f)"
   ]
  },
  {
   "attachments": {},
   "cell_type": "markdown",
   "metadata": {},
   "source": [
    "## Create index in Elasticsearch"
   ]
  },
  {
   "cell_type": "code",
   "execution_count": 3,
   "metadata": {},
   "outputs": [],
   "source": [
    "from pysearch.elastic import ElasticProcessor\n",
    "from pysearch.utils.time import nlp2datetime"
   ]
  },
  {
   "cell_type": "code",
   "execution_count": 4,
   "metadata": {},
   "outputs": [
    {
     "name": "stdout",
     "output_type": "stream",
     "text": [
      "Connected to Elasticsearch node\n"
     ]
    }
   ],
   "source": [
    "config['INDEX'] = 'lsc24'\n",
    "proc = ElasticProcessor(config, max_result_window=1000000)"
   ]
  },
  {
   "cell_type": "code",
   "execution_count": 8,
   "metadata": {},
   "outputs": [
    {
     "data": {
      "text/plain": [
       "dict_keys(['test_index_lsc', 'test_index'])"
      ]
     },
     "execution_count": 8,
     "metadata": {},
     "output_type": "execute_result"
    }
   ],
   "source": [
    "proc.available_indices()"
   ]
  },
  {
   "cell_type": "code",
   "execution_count": 9,
   "metadata": {},
   "outputs": [],
   "source": [
    "mapping = {\n",
    "    \"mappings\": {\n",
    "        \"properties\": {\n",
    "            \"image_name\": {\"type\": \"text\"},\n",
    "            \"timestamp\": {\"type\": \"date\", \"format\": \"basic_date\"},\n",
    "            \"tags\": {\"type\": \"text\"},\n",
    "            \"categories\": {\"type\": \"text\"},\n",
    "            \"semantic_time:__new_timezone\": {\"type\": \"text\"},\n",
    "            \"semantic_time:__weekday\": {\"type\": \"text\"},\n",
    "            \"semantic_time:__year\": {\"type\": \"text\"},\n",
    "            \"semantic_time:__month\": {\"type\": \"text\"},\n",
    "            \"semantic_time:__semantic_time\": {\"type\": \"text\"},\n",
    "            \"music:__album\": {\"type\": \"text\"},\n",
    "            \"music:__artist\": {\"type\": \"text\"},\n",
    "            \"music:__song\": {\"type\": \"text\"},\n",
    "            \"time:__utc_time\": {\"type\": \"text\"},\n",
    "            \"time:__local_time\": {\"type\": \"text\"},\n",
    "            \"time:__minute_id\": {\"type\": \"text\"},\n",
    "            \"activity:__movement\": {\"type\": \"text\"},\n",
    "            \"activity:__movement_prob\": {\"type\": \"float\"},\n",
    "            \"activity:__stop\": {\"type\": \"boolean\"},\n",
    "            \"location:__lat\": {\"type\": \"float\"},\n",
    "            \"location:__lng\": {\"type\": \"float\"},\n",
    "            \"location:__semantic_name\": {\"type\": \"text\"},\n",
    "            \"location:__original_name\": {\"type\": \"text\"},\n",
    "            \"location:__parent\": {\"type\": \"text\"},\n",
    "            \"location:__city\": {\"type\": \"text\"},\n",
    "            \"location:__country\": {\"type\": \"text\"},\n",
    "            \"visual_concepts:__OCR\": {\"type\": \"text\"},\n",
    "            \"visual_concepts:__Caption\": {\"type\": \"text\"},\n",
    "            \"visual_concepts:__CaptionScore\": {\"type\": \"float\"}\n",
    "        }\n",
    "    }\n",
    "}"
   ]
  },
  {
   "cell_type": "code",
   "execution_count": 10,
   "metadata": {},
   "outputs": [
    {
     "name": "stderr",
     "output_type": "stream",
     "text": [
      "100%|██████████| 723329/723329 [00:54<00:00, 13297.41it/s]\n"
     ]
    }
   ],
   "source": [
    "proc.index_json(metadata, mapping)"
   ]
  },
  {
   "cell_type": "code",
   "execution_count": 11,
   "metadata": {},
   "outputs": [
    {
     "data": {
      "text/html": [
       "<pre style=\"white-space:pre;overflow-x:auto;line-height:normal;font-family:Menlo,'DejaVu Sans Mono',consolas,'Courier New',monospace\"><span style=\"font-weight: bold\">{</span>\n",
       "    <span style=\"color: #008000; text-decoration-color: #008000\">'properties'</span>: <span style=\"font-weight: bold\">{</span>\n",
       "        <span style=\"color: #008000; text-decoration-color: #008000\">'activity:__movement'</span>: <span style=\"font-weight: bold\">{</span><span style=\"color: #008000; text-decoration-color: #008000\">'type'</span>: <span style=\"color: #008000; text-decoration-color: #008000\">'text'</span><span style=\"font-weight: bold\">}</span>,\n",
       "        <span style=\"color: #008000; text-decoration-color: #008000\">'activity:__movement_prob'</span>: <span style=\"font-weight: bold\">{</span><span style=\"color: #008000; text-decoration-color: #008000\">'type'</span>: <span style=\"color: #008000; text-decoration-color: #008000\">'float'</span><span style=\"font-weight: bold\">}</span>,\n",
       "        <span style=\"color: #008000; text-decoration-color: #008000\">'activity:__stop'</span>: <span style=\"font-weight: bold\">{</span><span style=\"color: #008000; text-decoration-color: #008000\">'type'</span>: <span style=\"color: #008000; text-decoration-color: #008000\">'boolean'</span><span style=\"font-weight: bold\">}</span>,\n",
       "        <span style=\"color: #008000; text-decoration-color: #008000\">'categories'</span>: <span style=\"font-weight: bold\">{</span><span style=\"color: #008000; text-decoration-color: #008000\">'type'</span>: <span style=\"color: #008000; text-decoration-color: #008000\">'text'</span><span style=\"font-weight: bold\">}</span>,\n",
       "        <span style=\"color: #008000; text-decoration-color: #008000\">'image_name'</span>: <span style=\"font-weight: bold\">{</span><span style=\"color: #008000; text-decoration-color: #008000\">'type'</span>: <span style=\"color: #008000; text-decoration-color: #008000\">'text'</span><span style=\"font-weight: bold\">}</span>,\n",
       "        <span style=\"color: #008000; text-decoration-color: #008000\">'location:__city'</span>: <span style=\"font-weight: bold\">{</span><span style=\"color: #008000; text-decoration-color: #008000\">'type'</span>: <span style=\"color: #008000; text-decoration-color: #008000\">'text'</span><span style=\"font-weight: bold\">}</span>,\n",
       "        <span style=\"color: #008000; text-decoration-color: #008000\">'location:__country'</span>: <span style=\"font-weight: bold\">{</span><span style=\"color: #008000; text-decoration-color: #008000\">'type'</span>: <span style=\"color: #008000; text-decoration-color: #008000\">'text'</span><span style=\"font-weight: bold\">}</span>,\n",
       "        <span style=\"color: #008000; text-decoration-color: #008000\">'location:__lat'</span>: <span style=\"font-weight: bold\">{</span><span style=\"color: #008000; text-decoration-color: #008000\">'type'</span>: <span style=\"color: #008000; text-decoration-color: #008000\">'float'</span><span style=\"font-weight: bold\">}</span>,\n",
       "        <span style=\"color: #008000; text-decoration-color: #008000\">'location:__lng'</span>: <span style=\"font-weight: bold\">{</span><span style=\"color: #008000; text-decoration-color: #008000\">'type'</span>: <span style=\"color: #008000; text-decoration-color: #008000\">'float'</span><span style=\"font-weight: bold\">}</span>,\n",
       "        <span style=\"color: #008000; text-decoration-color: #008000\">'location:__original_name'</span>: <span style=\"font-weight: bold\">{</span><span style=\"color: #008000; text-decoration-color: #008000\">'type'</span>: <span style=\"color: #008000; text-decoration-color: #008000\">'text'</span><span style=\"font-weight: bold\">}</span>,\n",
       "        <span style=\"color: #008000; text-decoration-color: #008000\">'location:__parent'</span>: <span style=\"font-weight: bold\">{</span><span style=\"color: #008000; text-decoration-color: #008000\">'type'</span>: <span style=\"color: #008000; text-decoration-color: #008000\">'text'</span><span style=\"font-weight: bold\">}</span>,\n",
       "        <span style=\"color: #008000; text-decoration-color: #008000\">'location:__semantic_name'</span>: <span style=\"font-weight: bold\">{</span><span style=\"color: #008000; text-decoration-color: #008000\">'type'</span>: <span style=\"color: #008000; text-decoration-color: #008000\">'text'</span><span style=\"font-weight: bold\">}</span>,\n",
       "        <span style=\"color: #008000; text-decoration-color: #008000\">'music:__album'</span>: <span style=\"font-weight: bold\">{</span><span style=\"color: #008000; text-decoration-color: #008000\">'type'</span>: <span style=\"color: #008000; text-decoration-color: #008000\">'text'</span><span style=\"font-weight: bold\">}</span>,\n",
       "        <span style=\"color: #008000; text-decoration-color: #008000\">'music:__artist'</span>: <span style=\"font-weight: bold\">{</span><span style=\"color: #008000; text-decoration-color: #008000\">'type'</span>: <span style=\"color: #008000; text-decoration-color: #008000\">'text'</span><span style=\"font-weight: bold\">}</span>,\n",
       "        <span style=\"color: #008000; text-decoration-color: #008000\">'music:__song'</span>: <span style=\"font-weight: bold\">{</span><span style=\"color: #008000; text-decoration-color: #008000\">'type'</span>: <span style=\"color: #008000; text-decoration-color: #008000\">'text'</span><span style=\"font-weight: bold\">}</span>,\n",
       "        <span style=\"color: #008000; text-decoration-color: #008000\">'semantic_time:__month'</span>: <span style=\"font-weight: bold\">{</span><span style=\"color: #008000; text-decoration-color: #008000\">'type'</span>: <span style=\"color: #008000; text-decoration-color: #008000\">'text'</span><span style=\"font-weight: bold\">}</span>,\n",
       "        <span style=\"color: #008000; text-decoration-color: #008000\">'semantic_time:__new_timezone'</span>: <span style=\"font-weight: bold\">{</span><span style=\"color: #008000; text-decoration-color: #008000\">'type'</span>: <span style=\"color: #008000; text-decoration-color: #008000\">'text'</span><span style=\"font-weight: bold\">}</span>,\n",
       "        <span style=\"color: #008000; text-decoration-color: #008000\">'semantic_time:__semantic_time'</span>: <span style=\"font-weight: bold\">{</span><span style=\"color: #008000; text-decoration-color: #008000\">'type'</span>: <span style=\"color: #008000; text-decoration-color: #008000\">'text'</span><span style=\"font-weight: bold\">}</span>,\n",
       "        <span style=\"color: #008000; text-decoration-color: #008000\">'semantic_time:__weekday'</span>: <span style=\"font-weight: bold\">{</span><span style=\"color: #008000; text-decoration-color: #008000\">'type'</span>: <span style=\"color: #008000; text-decoration-color: #008000\">'text'</span><span style=\"font-weight: bold\">}</span>,\n",
       "        <span style=\"color: #008000; text-decoration-color: #008000\">'semantic_time:__year'</span>: <span style=\"font-weight: bold\">{</span><span style=\"color: #008000; text-decoration-color: #008000\">'type'</span>: <span style=\"color: #008000; text-decoration-color: #008000\">'text'</span><span style=\"font-weight: bold\">}</span>,\n",
       "        <span style=\"color: #008000; text-decoration-color: #008000\">'tags'</span>: <span style=\"font-weight: bold\">{</span><span style=\"color: #008000; text-decoration-color: #008000\">'type'</span>: <span style=\"color: #008000; text-decoration-color: #008000\">'text'</span><span style=\"font-weight: bold\">}</span>,\n",
       "        <span style=\"color: #008000; text-decoration-color: #008000\">'time:__local_time'</span>: <span style=\"font-weight: bold\">{</span><span style=\"color: #008000; text-decoration-color: #008000\">'type'</span>: <span style=\"color: #008000; text-decoration-color: #008000\">'text'</span><span style=\"font-weight: bold\">}</span>,\n",
       "        <span style=\"color: #008000; text-decoration-color: #008000\">'time:__minute_id'</span>: <span style=\"font-weight: bold\">{</span><span style=\"color: #008000; text-decoration-color: #008000\">'type'</span>: <span style=\"color: #008000; text-decoration-color: #008000\">'text'</span><span style=\"font-weight: bold\">}</span>,\n",
       "        <span style=\"color: #008000; text-decoration-color: #008000\">'time:__utc_time'</span>: <span style=\"font-weight: bold\">{</span><span style=\"color: #008000; text-decoration-color: #008000\">'type'</span>: <span style=\"color: #008000; text-decoration-color: #008000\">'text'</span><span style=\"font-weight: bold\">}</span>,\n",
       "        <span style=\"color: #008000; text-decoration-color: #008000\">'timestamp'</span>: <span style=\"font-weight: bold\">{</span><span style=\"color: #008000; text-decoration-color: #008000\">'type'</span>: <span style=\"color: #008000; text-decoration-color: #008000\">'date'</span>, <span style=\"color: #008000; text-decoration-color: #008000\">'format'</span>: <span style=\"color: #008000; text-decoration-color: #008000\">'basic_date'</span><span style=\"font-weight: bold\">}</span>,\n",
       "        <span style=\"color: #008000; text-decoration-color: #008000\">'visual_concepts:__Caption'</span>: <span style=\"font-weight: bold\">{</span><span style=\"color: #008000; text-decoration-color: #008000\">'type'</span>: <span style=\"color: #008000; text-decoration-color: #008000\">'text'</span><span style=\"font-weight: bold\">}</span>,\n",
       "        <span style=\"color: #008000; text-decoration-color: #008000\">'visual_concepts:__CaptionScore'</span>: <span style=\"font-weight: bold\">{</span><span style=\"color: #008000; text-decoration-color: #008000\">'type'</span>: <span style=\"color: #008000; text-decoration-color: #008000\">'float'</span><span style=\"font-weight: bold\">}</span>,\n",
       "        <span style=\"color: #008000; text-decoration-color: #008000\">'visual_concepts:__OCR'</span>: <span style=\"font-weight: bold\">{</span><span style=\"color: #008000; text-decoration-color: #008000\">'type'</span>: <span style=\"color: #008000; text-decoration-color: #008000\">'text'</span><span style=\"font-weight: bold\">}</span>\n",
       "    <span style=\"font-weight: bold\">}</span>\n",
       "<span style=\"font-weight: bold\">}</span>\n",
       "</pre>\n"
      ],
      "text/plain": [
       "\u001b[1m{\u001b[0m\n",
       "    \u001b[32m'properties'\u001b[0m: \u001b[1m{\u001b[0m\n",
       "        \u001b[32m'activity:__movement'\u001b[0m: \u001b[1m{\u001b[0m\u001b[32m'type'\u001b[0m: \u001b[32m'text'\u001b[0m\u001b[1m}\u001b[0m,\n",
       "        \u001b[32m'activity:__movement_prob'\u001b[0m: \u001b[1m{\u001b[0m\u001b[32m'type'\u001b[0m: \u001b[32m'float'\u001b[0m\u001b[1m}\u001b[0m,\n",
       "        \u001b[32m'activity:__stop'\u001b[0m: \u001b[1m{\u001b[0m\u001b[32m'type'\u001b[0m: \u001b[32m'boolean'\u001b[0m\u001b[1m}\u001b[0m,\n",
       "        \u001b[32m'categories'\u001b[0m: \u001b[1m{\u001b[0m\u001b[32m'type'\u001b[0m: \u001b[32m'text'\u001b[0m\u001b[1m}\u001b[0m,\n",
       "        \u001b[32m'image_name'\u001b[0m: \u001b[1m{\u001b[0m\u001b[32m'type'\u001b[0m: \u001b[32m'text'\u001b[0m\u001b[1m}\u001b[0m,\n",
       "        \u001b[32m'location:__city'\u001b[0m: \u001b[1m{\u001b[0m\u001b[32m'type'\u001b[0m: \u001b[32m'text'\u001b[0m\u001b[1m}\u001b[0m,\n",
       "        \u001b[32m'location:__country'\u001b[0m: \u001b[1m{\u001b[0m\u001b[32m'type'\u001b[0m: \u001b[32m'text'\u001b[0m\u001b[1m}\u001b[0m,\n",
       "        \u001b[32m'location:__lat'\u001b[0m: \u001b[1m{\u001b[0m\u001b[32m'type'\u001b[0m: \u001b[32m'float'\u001b[0m\u001b[1m}\u001b[0m,\n",
       "        \u001b[32m'location:__lng'\u001b[0m: \u001b[1m{\u001b[0m\u001b[32m'type'\u001b[0m: \u001b[32m'float'\u001b[0m\u001b[1m}\u001b[0m,\n",
       "        \u001b[32m'location:__original_name'\u001b[0m: \u001b[1m{\u001b[0m\u001b[32m'type'\u001b[0m: \u001b[32m'text'\u001b[0m\u001b[1m}\u001b[0m,\n",
       "        \u001b[32m'location:__parent'\u001b[0m: \u001b[1m{\u001b[0m\u001b[32m'type'\u001b[0m: \u001b[32m'text'\u001b[0m\u001b[1m}\u001b[0m,\n",
       "        \u001b[32m'location:__semantic_name'\u001b[0m: \u001b[1m{\u001b[0m\u001b[32m'type'\u001b[0m: \u001b[32m'text'\u001b[0m\u001b[1m}\u001b[0m,\n",
       "        \u001b[32m'music:__album'\u001b[0m: \u001b[1m{\u001b[0m\u001b[32m'type'\u001b[0m: \u001b[32m'text'\u001b[0m\u001b[1m}\u001b[0m,\n",
       "        \u001b[32m'music:__artist'\u001b[0m: \u001b[1m{\u001b[0m\u001b[32m'type'\u001b[0m: \u001b[32m'text'\u001b[0m\u001b[1m}\u001b[0m,\n",
       "        \u001b[32m'music:__song'\u001b[0m: \u001b[1m{\u001b[0m\u001b[32m'type'\u001b[0m: \u001b[32m'text'\u001b[0m\u001b[1m}\u001b[0m,\n",
       "        \u001b[32m'semantic_time:__month'\u001b[0m: \u001b[1m{\u001b[0m\u001b[32m'type'\u001b[0m: \u001b[32m'text'\u001b[0m\u001b[1m}\u001b[0m,\n",
       "        \u001b[32m'semantic_time:__new_timezone'\u001b[0m: \u001b[1m{\u001b[0m\u001b[32m'type'\u001b[0m: \u001b[32m'text'\u001b[0m\u001b[1m}\u001b[0m,\n",
       "        \u001b[32m'semantic_time:__semantic_time'\u001b[0m: \u001b[1m{\u001b[0m\u001b[32m'type'\u001b[0m: \u001b[32m'text'\u001b[0m\u001b[1m}\u001b[0m,\n",
       "        \u001b[32m'semantic_time:__weekday'\u001b[0m: \u001b[1m{\u001b[0m\u001b[32m'type'\u001b[0m: \u001b[32m'text'\u001b[0m\u001b[1m}\u001b[0m,\n",
       "        \u001b[32m'semantic_time:__year'\u001b[0m: \u001b[1m{\u001b[0m\u001b[32m'type'\u001b[0m: \u001b[32m'text'\u001b[0m\u001b[1m}\u001b[0m,\n",
       "        \u001b[32m'tags'\u001b[0m: \u001b[1m{\u001b[0m\u001b[32m'type'\u001b[0m: \u001b[32m'text'\u001b[0m\u001b[1m}\u001b[0m,\n",
       "        \u001b[32m'time:__local_time'\u001b[0m: \u001b[1m{\u001b[0m\u001b[32m'type'\u001b[0m: \u001b[32m'text'\u001b[0m\u001b[1m}\u001b[0m,\n",
       "        \u001b[32m'time:__minute_id'\u001b[0m: \u001b[1m{\u001b[0m\u001b[32m'type'\u001b[0m: \u001b[32m'text'\u001b[0m\u001b[1m}\u001b[0m,\n",
       "        \u001b[32m'time:__utc_time'\u001b[0m: \u001b[1m{\u001b[0m\u001b[32m'type'\u001b[0m: \u001b[32m'text'\u001b[0m\u001b[1m}\u001b[0m,\n",
       "        \u001b[32m'timestamp'\u001b[0m: \u001b[1m{\u001b[0m\u001b[32m'type'\u001b[0m: \u001b[32m'date'\u001b[0m, \u001b[32m'format'\u001b[0m: \u001b[32m'basic_date'\u001b[0m\u001b[1m}\u001b[0m,\n",
       "        \u001b[32m'visual_concepts:__Caption'\u001b[0m: \u001b[1m{\u001b[0m\u001b[32m'type'\u001b[0m: \u001b[32m'text'\u001b[0m\u001b[1m}\u001b[0m,\n",
       "        \u001b[32m'visual_concepts:__CaptionScore'\u001b[0m: \u001b[1m{\u001b[0m\u001b[32m'type'\u001b[0m: \u001b[32m'float'\u001b[0m\u001b[1m}\u001b[0m,\n",
       "        \u001b[32m'visual_concepts:__OCR'\u001b[0m: \u001b[1m{\u001b[0m\u001b[32m'type'\u001b[0m: \u001b[32m'text'\u001b[0m\u001b[1m}\u001b[0m\n",
       "    \u001b[1m}\u001b[0m\n",
       "\u001b[1m}\u001b[0m\n"
      ]
     },
     "metadata": {},
     "output_type": "display_data"
    }
   ],
   "source": [
    "rich.print(proc.info())"
   ]
  },
  {
   "cell_type": "code",
   "execution_count": 18,
   "metadata": {},
   "outputs": [
    {
     "data": {
      "text/plain": [
       "datetime.datetime(2019, 12, 13, 16, 21, 52)"
      ]
     },
     "execution_count": 18,
     "metadata": {},
     "output_type": "execute_result"
    }
   ],
   "source": [
    "date = nlp2datetime('12-13-2019'); date"
   ]
  },
  {
   "cell_type": "code",
   "execution_count": 13,
   "metadata": {},
   "outputs": [],
   "source": [
    "def check_duplicate_response(responses):\n",
    "    hits_name = [hit['_id'] for hit in responses]\n",
    "    assert len(hits_name) == len(set(hits_name)), \"Duplicate response\""
   ]
  },
  {
   "cell_type": "code",
   "execution_count": 14,
   "metadata": {},
   "outputs": [
    {
     "name": "stdout",
     "output_type": "stream",
     "text": [
      "Function get_document_by_id elapsed time: 0:00:00.068057\n"
     ]
    },
    {
     "data": {
      "text/html": [
       "<pre style=\"white-space:pre;overflow-x:auto;line-height:normal;font-family:Menlo,'DejaVu Sans Mono',consolas,'Courier New',monospace\"><span style=\"font-weight: bold\">[</span>\n",
       "    <span style=\"font-weight: bold\">{</span>\n",
       "        <span style=\"color: #008000; text-decoration-color: #008000\">'_index'</span>: <span style=\"color: #008000; text-decoration-color: #008000\">'lsc24'</span>,\n",
       "        <span style=\"color: #008000; text-decoration-color: #008000\">'_id'</span>: <span style=\"color: #008000; text-decoration-color: #008000\">'20200509_133031_000'</span>,\n",
       "        <span style=\"color: #008000; text-decoration-color: #008000\">'_score'</span>: <span style=\"color: #008080; text-decoration-color: #008080; font-weight: bold\">2.0</span>,\n",
       "        <span style=\"color: #008000; text-decoration-color: #008000\">'_source'</span>: <span style=\"font-weight: bold\">{</span>\n",
       "            <span style=\"color: #008000; text-decoration-color: #008000\">'image_name'</span>: <span style=\"color: #008000; text-decoration-color: #008000\">'20200509_133031_000.jpg'</span>,\n",
       "            <span style=\"color: #008000; text-decoration-color: #008000\">'timestamp'</span>: <span style=\"color: #008000; text-decoration-color: #008000\">'20200509'</span>,\n",
       "            <span style=\"color: #008000; text-decoration-color: #008000\">'tags'</span>: <span style=\"color: #008000; text-decoration-color: #008000\">'tree,outdoor,plant'</span>,\n",
       "            <span style=\"color: #008000; text-decoration-color: #008000\">'categories'</span>: <span style=\"color: #800080; text-decoration-color: #800080; font-style: italic\">None</span>,\n",
       "            <span style=\"color: #008000; text-decoration-color: #008000\">'semantic_time:__new_timezone'</span>: <span style=\"color: #008000; text-decoration-color: #008000\">'Europe/Dublin'</span>,\n",
       "            <span style=\"color: #008000; text-decoration-color: #008000\">'semantic_time:__weekday'</span>: <span style=\"color: #008000; text-decoration-color: #008000\">'Saturday'</span>,\n",
       "            <span style=\"color: #008000; text-decoration-color: #008000\">'semantic_time:__year'</span>: <span style=\"color: #008000; text-decoration-color: #008000\">'2020'</span>,\n",
       "            <span style=\"color: #008000; text-decoration-color: #008000\">'semantic_time:__month'</span>: <span style=\"color: #008000; text-decoration-color: #008000\">'May'</span>,\n",
       "            <span style=\"color: #008000; text-decoration-color: #008000\">'semantic_time:__semantic_time'</span>: <span style=\"color: #008000; text-decoration-color: #008000\">'early afternoon'</span>,\n",
       "            <span style=\"color: #008000; text-decoration-color: #008000\">'music:__album'</span>: <span style=\"color: #800080; text-decoration-color: #800080; font-style: italic\">None</span>,\n",
       "            <span style=\"color: #008000; text-decoration-color: #008000\">'music:__artist'</span>: <span style=\"color: #800080; text-decoration-color: #800080; font-style: italic\">None</span>,\n",
       "            <span style=\"color: #008000; text-decoration-color: #008000\">'music:__song'</span>: <span style=\"color: #800080; text-decoration-color: #800080; font-style: italic\">None</span>,\n",
       "            <span style=\"color: #008000; text-decoration-color: #008000\">'time:__utc_time'</span>: <span style=\"color: #008000; text-decoration-color: #008000\">'2020-05-09 13:30:31'</span>,\n",
       "            <span style=\"color: #008000; text-decoration-color: #008000\">'time:__local_time'</span>: <span style=\"color: #008000; text-decoration-color: #008000\">'2020-05-09 14:30:31'</span>,\n",
       "            <span style=\"color: #008000; text-decoration-color: #008000\">'time:__minute_id'</span>: <span style=\"color: #008000; text-decoration-color: #008000\">'20200509_1330'</span>,\n",
       "            <span style=\"color: #008000; text-decoration-color: #008000\">'activity:__movement'</span>: <span style=\"color: #008000; text-decoration-color: #008000\">'Inside'</span>,\n",
       "            <span style=\"color: #008000; text-decoration-color: #008000\">'activity:__movement_prob'</span>: <span style=\"color: #008080; text-decoration-color: #008080; font-weight: bold\">0.8909477592</span>,\n",
       "            <span style=\"color: #008000; text-decoration-color: #008000\">'activity:__stop'</span>: <span style=\"color: #ff0000; text-decoration-color: #ff0000; font-style: italic\">False</span>,\n",
       "            <span style=\"color: #008000; text-decoration-color: #008000\">'location:__lat'</span>: <span style=\"color: #008080; text-decoration-color: #008080; font-weight: bold\">53.76520193</span>,\n",
       "            <span style=\"color: #008000; text-decoration-color: #008000\">'location:__lng'</span>: <span style=\"color: #008080; text-decoration-color: #008080; font-weight: bold\">-8.39711666</span>,\n",
       "            <span style=\"color: #008000; text-decoration-color: #008000\">'location:__semantic_name'</span>: <span style=\"color: #008000; text-decoration-color: #008000\">'Car'</span>,\n",
       "            <span style=\"color: #008000; text-decoration-color: #008000\">'location:__original_name'</span>: <span style=\"color: #800080; text-decoration-color: #800080; font-style: italic\">None</span>,\n",
       "            <span style=\"color: #008000; text-decoration-color: #008000\">'location:__parent'</span>: <span style=\"color: #800080; text-decoration-color: #800080; font-style: italic\">None</span>,\n",
       "            <span style=\"color: #008000; text-decoration-color: #008000\">'location:__city'</span>: <span style=\"color: #008000; text-decoration-color: #008000\">'Roscommon, Ireland, Roscommon Municipal District'</span>,\n",
       "            <span style=\"color: #008000; text-decoration-color: #008000\">'location:__country'</span>: <span style=\"color: #008000; text-decoration-color: #008000\">'Ireland'</span>,\n",
       "            <span style=\"color: #008000; text-decoration-color: #008000\">'visual_concepts:__OCR'</span>: <span style=\"color: #800080; text-decoration-color: #800080; font-style: italic\">None</span>,\n",
       "            <span style=\"color: #008000; text-decoration-color: #008000\">'visual_concepts:__Caption'</span>: <span style=\"color: #008000; text-decoration-color: #008000\">'a house with trees around it'</span>,\n",
       "            <span style=\"color: #008000; text-decoration-color: #008000\">'visual_concepts:__CaptionScore'</span>: <span style=\"color: #008080; text-decoration-color: #008080; font-weight: bold\">0.3369276524</span>\n",
       "        <span style=\"font-weight: bold\">}</span>\n",
       "    <span style=\"font-weight: bold\">}</span>\n",
       "<span style=\"font-weight: bold\">]</span>\n",
       "</pre>\n"
      ],
      "text/plain": [
       "\u001b[1m[\u001b[0m\n",
       "    \u001b[1m{\u001b[0m\n",
       "        \u001b[32m'_index'\u001b[0m: \u001b[32m'lsc24'\u001b[0m,\n",
       "        \u001b[32m'_id'\u001b[0m: \u001b[32m'20200509_133031_000'\u001b[0m,\n",
       "        \u001b[32m'_score'\u001b[0m: \u001b[1;36m2.0\u001b[0m,\n",
       "        \u001b[32m'_source'\u001b[0m: \u001b[1m{\u001b[0m\n",
       "            \u001b[32m'image_name'\u001b[0m: \u001b[32m'20200509_133031_000.jpg'\u001b[0m,\n",
       "            \u001b[32m'timestamp'\u001b[0m: \u001b[32m'20200509'\u001b[0m,\n",
       "            \u001b[32m'tags'\u001b[0m: \u001b[32m'tree,outdoor,plant'\u001b[0m,\n",
       "            \u001b[32m'categories'\u001b[0m: \u001b[3;35mNone\u001b[0m,\n",
       "            \u001b[32m'semantic_time:__new_timezone'\u001b[0m: \u001b[32m'Europe/Dublin'\u001b[0m,\n",
       "            \u001b[32m'semantic_time:__weekday'\u001b[0m: \u001b[32m'Saturday'\u001b[0m,\n",
       "            \u001b[32m'semantic_time:__year'\u001b[0m: \u001b[32m'2020'\u001b[0m,\n",
       "            \u001b[32m'semantic_time:__month'\u001b[0m: \u001b[32m'May'\u001b[0m,\n",
       "            \u001b[32m'semantic_time:__semantic_time'\u001b[0m: \u001b[32m'early afternoon'\u001b[0m,\n",
       "            \u001b[32m'music:__album'\u001b[0m: \u001b[3;35mNone\u001b[0m,\n",
       "            \u001b[32m'music:__artist'\u001b[0m: \u001b[3;35mNone\u001b[0m,\n",
       "            \u001b[32m'music:__song'\u001b[0m: \u001b[3;35mNone\u001b[0m,\n",
       "            \u001b[32m'time:__utc_time'\u001b[0m: \u001b[32m'2020-05-09 13:30:31'\u001b[0m,\n",
       "            \u001b[32m'time:__local_time'\u001b[0m: \u001b[32m'2020-05-09 14:30:31'\u001b[0m,\n",
       "            \u001b[32m'time:__minute_id'\u001b[0m: \u001b[32m'20200509_1330'\u001b[0m,\n",
       "            \u001b[32m'activity:__movement'\u001b[0m: \u001b[32m'Inside'\u001b[0m,\n",
       "            \u001b[32m'activity:__movement_prob'\u001b[0m: \u001b[1;36m0.8909477592\u001b[0m,\n",
       "            \u001b[32m'activity:__stop'\u001b[0m: \u001b[3;91mFalse\u001b[0m,\n",
       "            \u001b[32m'location:__lat'\u001b[0m: \u001b[1;36m53.76520193\u001b[0m,\n",
       "            \u001b[32m'location:__lng'\u001b[0m: \u001b[1;36m-8.39711666\u001b[0m,\n",
       "            \u001b[32m'location:__semantic_name'\u001b[0m: \u001b[32m'Car'\u001b[0m,\n",
       "            \u001b[32m'location:__original_name'\u001b[0m: \u001b[3;35mNone\u001b[0m,\n",
       "            \u001b[32m'location:__parent'\u001b[0m: \u001b[3;35mNone\u001b[0m,\n",
       "            \u001b[32m'location:__city'\u001b[0m: \u001b[32m'Roscommon, Ireland, Roscommon Municipal District'\u001b[0m,\n",
       "            \u001b[32m'location:__country'\u001b[0m: \u001b[32m'Ireland'\u001b[0m,\n",
       "            \u001b[32m'visual_concepts:__OCR'\u001b[0m: \u001b[3;35mNone\u001b[0m,\n",
       "            \u001b[32m'visual_concepts:__Caption'\u001b[0m: \u001b[32m'a house with trees around it'\u001b[0m,\n",
       "            \u001b[32m'visual_concepts:__CaptionScore'\u001b[0m: \u001b[1;36m0.3369276524\u001b[0m\n",
       "        \u001b[1m}\u001b[0m\n",
       "    \u001b[1m}\u001b[0m\n",
       "\u001b[1m]\u001b[0m\n"
      ]
     },
     "metadata": {},
     "output_type": "display_data"
    }
   ],
   "source": [
    "import rich \n",
    "rich.print(proc.get_document_by_id(['20200509_133031_000']))"
   ]
  },
  {
   "cell_type": "code",
   "execution_count": 15,
   "metadata": {},
   "outputs": [
    {
     "name": "stdout",
     "output_type": "stream",
     "text": [
      "Function run elapsed time: 0:00:00.000003\n"
     ]
    }
   ],
   "source": [
    "check_duplicate_response(proc.compose_pipeline({'text': {'fields': ['semantic_time:__month'], 'must': '9', 'should': None }}))"
   ]
  },
  {
   "cell_type": "code",
   "execution_count": 19,
   "metadata": {},
   "outputs": [
    {
     "name": "stdout",
     "output_type": "stream",
     "text": [
      "Function run elapsed time: 0:00:00.000005\n"
     ]
    }
   ],
   "source": [
    "check_duplicate_response(proc.search_text_closestday_pipeline('indoor', [], timefield='timestamp', timestamp=date, filter=None))"
   ]
  },
  {
   "cell_type": "code",
   "execution_count": 20,
   "metadata": {},
   "outputs": [
    {
     "name": "stdout",
     "output_type": "stream",
     "text": [
      "Function run elapsed time: 0:00:00.000005\n"
     ]
    },
    {
     "data": {
      "text/plain": [
       "[{'_index': 'lsc24',\n",
       "  '_id': '20191219_201339_000',\n",
       "  '_score': 11.58763,\n",
       "  '_source': {'image_name': '20191219_201339_000.jpg',\n",
       "   'timestamp': '20191219',\n",
       "   'tags': 'text,indoor,person,scene,shop',\n",
       "   'categories': 'Hardware Store',\n",
       "   'semantic_time:__new_timezone': 'Europe/Dublin',\n",
       "   'semantic_time:__weekday': 'Thursday',\n",
       "   'semantic_time:__year': '2019',\n",
       "   'semantic_time:__month': 'December',\n",
       "   'semantic_time:__semantic_time': 'early evening',\n",
       "   'music:__album': None,\n",
       "   'music:__artist': None,\n",
       "   'music:__song': None,\n",
       "   'time:__utc_time': '2019-12-19 20:13:00',\n",
       "   'time:__local_time': '2019-12-19 20:13:00',\n",
       "   'time:__minute_id': '20191219_2013',\n",
       "   'activity:__movement': 'Inside',\n",
       "   'activity:__movement_prob': 0.9602422118,\n",
       "   'activity:__stop': True,\n",
       "   'location:__lat': 53.3945656,\n",
       "   'location:__lng': -6.1909035,\n",
       "   'location:__semantic_name': \"Woodie's\",\n",
       "   'location:__original_name': \"Woodie's\",\n",
       "   'location:__parent': None,\n",
       "   'location:__city': 'Dublin, Ireland, Leinster',\n",
       "   'location:__country': 'Ireland',\n",
       "   'visual_concepts:__OCR': 'Indoor',\n",
       "   'visual_concepts:__Caption': 'a store with shelves of figurines',\n",
       "   'visual_concepts:__CaptionScore': 0.4208124876}},\n",
       " {'_index': 'lsc24',\n",
       "  '_id': '20191216_093502_000',\n",
       "  '_score': 10.166042,\n",
       "  '_source': {'image_name': '20191216_093502_000.jpg',\n",
       "   'timestamp': '20191216',\n",
       "   'tags': 'text,indoor,wall,computer,desk,display',\n",
       "   'categories': 'College and University',\n",
       "   'semantic_time:__new_timezone': 'Europe/Dublin',\n",
       "   'semantic_time:__weekday': 'Monday',\n",
       "   'semantic_time:__year': '2019',\n",
       "   'semantic_time:__month': 'December',\n",
       "   'semantic_time:__semantic_time': 'morning',\n",
       "   'music:__album': None,\n",
       "   'music:__artist': None,\n",
       "   'music:__song': None,\n",
       "   'time:__utc_time': '2019-12-16 09:35:02',\n",
       "   'time:__local_time': '2019-12-16 09:35:02',\n",
       "   'time:__minute_id': '20191216_0935',\n",
       "   'activity:__movement': 'Inside',\n",
       "   'activity:__movement_prob': 0.9617436528,\n",
       "   'activity:__stop': True,\n",
       "   'location:__lat': 53.38540624,\n",
       "   'location:__lng': -6.25662859,\n",
       "   'location:__semantic_name': 'Dublin City University (DCU)',\n",
       "   'location:__original_name': 'Dublin City University (DCU)',\n",
       "   'location:__parent': None,\n",
       "   'location:__city': 'Dublin, Ireland, Leinster',\n",
       "   'location:__country': 'Ireland',\n",
       "   'visual_concepts:__OCR': 'pharmheatthO,PNTS,Ch,Indoor,Posters,Poster,Printing,ם,ם.,A.םם,511,Mtan,TAPFERARY',\n",
       "   'visual_concepts:__Caption': 'a computer monitor with a keyboard and mouse on a desk',\n",
       "   'visual_concepts:__CaptionScore': 0.4180834293}},\n",
       " {'_index': 'lsc24',\n",
       "  '_id': '20191216_093546_000',\n",
       "  '_score': 9.851359,\n",
       "  '_source': {'image_name': '20191216_093546_000.jpg',\n",
       "   'timestamp': '20191216',\n",
       "   'tags': 'text,indoor,wall,computer,desk,display',\n",
       "   'categories': 'College and University',\n",
       "   'semantic_time:__new_timezone': 'Europe/Dublin',\n",
       "   'semantic_time:__weekday': 'Monday',\n",
       "   'semantic_time:__year': '2019',\n",
       "   'semantic_time:__month': 'December',\n",
       "   'semantic_time:__semantic_time': 'morning',\n",
       "   'music:__album': None,\n",
       "   'music:__artist': None,\n",
       "   'music:__song': None,\n",
       "   'time:__utc_time': '2019-12-16 09:35:46',\n",
       "   'time:__local_time': '2019-12-16 09:35:46',\n",
       "   'time:__minute_id': '20191216_0935',\n",
       "   'activity:__movement': 'Inside',\n",
       "   'activity:__movement_prob': 0.9322300553,\n",
       "   'activity:__stop': True,\n",
       "   'location:__lat': 53.38540624,\n",
       "   'location:__lng': -6.25662859,\n",
       "   'location:__semantic_name': 'Dublin City University (DCU)',\n",
       "   'location:__original_name': 'Dublin City University (DCU)',\n",
       "   'location:__parent': None,\n",
       "   'location:__city': 'Dublin, Ireland, Leinster',\n",
       "   'location:__country': 'Ireland',\n",
       "   'visual_concepts:__OCR': '...,harmhealth,C,Ch,Indoor,Posters,Poster,Printing,O,O,V,g,A,O,201,7APOERAN,CRELFE',\n",
       "   'visual_concepts:__Caption': 'a computer monitor with a keyboard and mouse on a desk',\n",
       "   'visual_concepts:__CaptionScore': 0.4087427258}},\n",
       " {'_index': 'lsc24',\n",
       "  '_id': '20191216_093144_000',\n",
       "  '_score': 8.423627,\n",
       "  '_source': {'image_name': '20191216_093144_000.jpg',\n",
       "   'timestamp': '20191216',\n",
       "   'tags': 'text,indoor,wall,computer,desk,display',\n",
       "   'categories': 'College and University',\n",
       "   'semantic_time:__new_timezone': 'Europe/Dublin',\n",
       "   'semantic_time:__weekday': 'Monday',\n",
       "   'semantic_time:__year': '2019',\n",
       "   'semantic_time:__month': 'December',\n",
       "   'semantic_time:__semantic_time': 'morning',\n",
       "   'music:__album': None,\n",
       "   'music:__artist': None,\n",
       "   'music:__song': None,\n",
       "   'time:__utc_time': '2019-12-16 09:31:44',\n",
       "   'time:__local_time': '2019-12-16 09:31:44',\n",
       "   'time:__minute_id': '20191216_0931',\n",
       "   'activity:__movement': 'Inside',\n",
       "   'activity:__movement_prob': 0.902364254,\n",
       "   'activity:__stop': True,\n",
       "   'location:__lat': 53.38540624,\n",
       "   'location:__lng': -6.25662859,\n",
       "   'location:__semantic_name': 'Dublin City University (DCU)',\n",
       "   'location:__original_name': 'Dublin City University (DCU)',\n",
       "   'location:__parent': None,\n",
       "   'location:__city': 'Dublin, Ireland, Leinster',\n",
       "   'location:__country': 'Ireland',\n",
       "   'visual_concepts:__OCR': 'I_BULUR,m,....,Indoor,Post,400,Te,re,tastee,veren,r,walon,for,d,of,m,2,Mease,mal,your,cn,The,l,M,DCU,mnt,1474',\n",
       "   'visual_concepts:__Caption': 'a computer screen with a keyboard and mouse',\n",
       "   'visual_concepts:__CaptionScore': 0.3856258094}},\n",
       " {'_index': 'lsc24',\n",
       "  '_id': '20191216_093206_000',\n",
       "  '_score': 6.821786,\n",
       "  '_source': {'image_name': '20191216_093206_000.jpg',\n",
       "   'timestamp': '20191216',\n",
       "   'tags': 'text,indoor,wall,computer,desk,display',\n",
       "   'categories': 'College and University',\n",
       "   'semantic_time:__new_timezone': 'Europe/Dublin',\n",
       "   'semantic_time:__weekday': 'Monday',\n",
       "   'semantic_time:__year': '2019',\n",
       "   'semantic_time:__month': 'December',\n",
       "   'semantic_time:__semantic_time': 'morning',\n",
       "   'music:__album': None,\n",
       "   'music:__artist': None,\n",
       "   'music:__song': None,\n",
       "   'time:__utc_time': '2019-12-16 09:32:06',\n",
       "   'time:__local_time': '2019-12-16 09:32:06',\n",
       "   'time:__minute_id': '20191216_0932',\n",
       "   'activity:__movement': 'Inside',\n",
       "   'activity:__movement_prob': 0.6788468361,\n",
       "   'activity:__stop': True,\n",
       "   'location:__lat': 53.38540624,\n",
       "   'location:__lng': -6.25662859,\n",
       "   'location:__semantic_name': 'Dublin City University (DCU)',\n",
       "   'location:__original_name': 'Dublin City University (DCU)',\n",
       "   'location:__parent': None,\n",
       "   'location:__city': 'Dublin, Ireland, Leinster',\n",
       "   'location:__country': 'Ireland',\n",
       "   'visual_concepts:__OCR': 'The,e,esee,Indoor,Post,Gift,Vouchers,w,RR,RD,ARS,ACM,CharmA,Christmas,&,N,Opening,H,Hond,Monday,Tuesday,Wednesday,16th,17th,18th,Thursday,19th-,Monday,23rd,ACM,OM,HO,y,n,s,Prek,Auhon,Laer,Htan,9,A,4,T,W,Qul',\n",
       "   'visual_concepts:__Caption': 'a computer monitor with a star on it',\n",
       "   'visual_concepts:__CaptionScore': 0.426471889}},\n",
       " {'_index': 'lsc24',\n",
       "  '_id': '20191117_180649_000',\n",
       "  '_score': 3.127291,\n",
       "  '_source': {'image_name': '20191117_180649_000.jpg',\n",
       "   'timestamp': '20191117',\n",
       "   'tags': 'indoor',\n",
       "   'categories': 'Airport',\n",
       "   'semantic_time:__new_timezone': 'Europe/Madrid',\n",
       "   'semantic_time:__weekday': 'Sunday',\n",
       "   'semantic_time:__year': '2019',\n",
       "   'semantic_time:__month': 'November',\n",
       "   'semantic_time:__semantic_time': 'early evening',\n",
       "   'music:__album': None,\n",
       "   'music:__artist': None,\n",
       "   'music:__song': None,\n",
       "   'time:__utc_time': '2019-11-17 18:06:49',\n",
       "   'time:__local_time': '2019-11-17 19:06:49',\n",
       "   'time:__minute_id': '20191117_1806',\n",
       "   'activity:__movement': 'Inside',\n",
       "   'activity:__movement_prob': 0.9946297407,\n",
       "   'activity:__stop': True,\n",
       "   'location:__lat': 40.48608367,\n",
       "   'location:__lng': -3.5915609,\n",
       "   'location:__semantic_name': 'Madrid Airport Barajas Adolfo Suárez',\n",
       "   'location:__original_name': 'Aeropuerto de Madrid Barajas Adolfo Suárez',\n",
       "   'location:__parent': None,\n",
       "   'location:__city': 'Área metropolitana de Madrid y Corredor del Henares, Madrid, Community of Madrid, Spain',\n",
       "   'location:__country': 'Spain',\n",
       "   'visual_concepts:__OCR': None,\n",
       "   'visual_concepts:__Caption': 'a large indoor swimming pool',\n",
       "   'visual_concepts:__CaptionScore': 0.3057290316}},\n",
       " {'_index': 'lsc24',\n",
       "  '_id': '20191108_173330_000',\n",
       "  '_score': 1.1168896,\n",
       "  '_source': {'image_name': '20191108_173330_000.jpg',\n",
       "   'timestamp': '20191108',\n",
       "   'tags': 'indoor',\n",
       "   'categories': 'College and University',\n",
       "   'semantic_time:__new_timezone': 'Europe/Dublin',\n",
       "   'semantic_time:__weekday': 'Friday',\n",
       "   'semantic_time:__year': '2019',\n",
       "   'semantic_time:__month': 'November',\n",
       "   'semantic_time:__semantic_time': 'early evening',\n",
       "   'music:__album': None,\n",
       "   'music:__artist': None,\n",
       "   'music:__song': None,\n",
       "   'time:__utc_time': '2019-11-08 17:33:30',\n",
       "   'time:__local_time': '2019-11-08 17:33:30',\n",
       "   'time:__minute_id': '20191108_1733',\n",
       "   'activity:__movement': 'Inside',\n",
       "   'activity:__movement_prob': 0.9989645481,\n",
       "   'activity:__stop': True,\n",
       "   'location:__lat': 53.3865532,\n",
       "   'location:__lng': -6.2590032,\n",
       "   'location:__semantic_name': 'Dublin City University (DCU)',\n",
       "   'location:__original_name': 'Dublin City University (DCU)',\n",
       "   'location:__parent': None,\n",
       "   'location:__city': 'Dublin, Ireland, Leinster',\n",
       "   'location:__country': 'Ireland',\n",
       "   'visual_concepts:__OCR': None,\n",
       "   'visual_concepts:__Caption': 'a large indoor swimming pool',\n",
       "   'visual_concepts:__CaptionScore': 0.3062861264}},\n",
       " {'_index': 'lsc24',\n",
       "  '_id': '20191108_173927_000',\n",
       "  '_score': 1.1168896,\n",
       "  '_source': {'image_name': '20191108_173927_000.jpg',\n",
       "   'timestamp': '20191108',\n",
       "   'tags': 'indoor',\n",
       "   'categories': 'College and University',\n",
       "   'semantic_time:__new_timezone': 'Europe/Dublin',\n",
       "   'semantic_time:__weekday': 'Friday',\n",
       "   'semantic_time:__year': '2019',\n",
       "   'semantic_time:__month': 'November',\n",
       "   'semantic_time:__semantic_time': 'early evening',\n",
       "   'music:__album': None,\n",
       "   'music:__artist': None,\n",
       "   'music:__song': None,\n",
       "   'time:__utc_time': '2019-11-08 17:39:08',\n",
       "   'time:__local_time': '2019-11-08 17:39:08',\n",
       "   'time:__minute_id': '20191108_1739',\n",
       "   'activity:__movement': 'Inside',\n",
       "   'activity:__movement_prob': 0.9986224174,\n",
       "   'activity:__stop': True,\n",
       "   'location:__lat': 53.3865915,\n",
       "   'location:__lng': -6.2594152,\n",
       "   'location:__semantic_name': 'Dublin City University (DCU)',\n",
       "   'location:__original_name': 'Dublin City University (DCU)',\n",
       "   'location:__parent': None,\n",
       "   'location:__city': 'Dublin, Ireland, Leinster',\n",
       "   'location:__country': 'Ireland',\n",
       "   'visual_concepts:__OCR': None,\n",
       "   'visual_concepts:__Caption': 'a large indoor swimming pool',\n",
       "   'visual_concepts:__CaptionScore': 0.3773935437}},\n",
       " {'_index': 'lsc24',\n",
       "  '_id': '20191108_175152_000',\n",
       "  '_score': 1.1168896,\n",
       "  '_source': {'image_name': '20191108_175152_000.jpg',\n",
       "   'timestamp': '20191108',\n",
       "   'tags': 'indoor',\n",
       "   'categories': 'College and University',\n",
       "   'semantic_time:__new_timezone': 'Europe/Dublin',\n",
       "   'semantic_time:__weekday': 'Friday',\n",
       "   'semantic_time:__year': '2019',\n",
       "   'semantic_time:__month': 'November',\n",
       "   'semantic_time:__semantic_time': 'early evening',\n",
       "   'music:__album': None,\n",
       "   'music:__artist': None,\n",
       "   'music:__song': None,\n",
       "   'time:__utc_time': '2019-11-08 17:51:06',\n",
       "   'time:__local_time': '2019-11-08 17:51:06',\n",
       "   'time:__minute_id': '20191108_1751',\n",
       "   'activity:__movement': 'Inside',\n",
       "   'activity:__movement_prob': 0.9923555851,\n",
       "   'activity:__stop': True,\n",
       "   'location:__lat': 53.3865915,\n",
       "   'location:__lng': -6.259415,\n",
       "   'location:__semantic_name': 'Dublin City University (DCU)',\n",
       "   'location:__original_name': 'Dublin City University (DCU)',\n",
       "   'location:__parent': None,\n",
       "   'location:__city': 'Dublin, Ireland, Leinster',\n",
       "   'location:__country': 'Ireland',\n",
       "   'visual_concepts:__OCR': None,\n",
       "   'visual_concepts:__Caption': 'a large indoor swimming pool',\n",
       "   'visual_concepts:__CaptionScore': 0.3346791565}},\n",
       " {'_index': 'lsc24',\n",
       "  '_id': '20191108_181246_000',\n",
       "  '_score': 1.1168896,\n",
       "  '_source': {'image_name': '20191108_181246_000.jpg',\n",
       "   'timestamp': '20191108',\n",
       "   'tags': 'indoor',\n",
       "   'categories': 'College and University',\n",
       "   'semantic_time:__new_timezone': 'Europe/Dublin',\n",
       "   'semantic_time:__weekday': 'Friday',\n",
       "   'semantic_time:__year': '2019',\n",
       "   'semantic_time:__month': 'November',\n",
       "   'semantic_time:__semantic_time': 'early evening',\n",
       "   'music:__album': None,\n",
       "   'music:__artist': None,\n",
       "   'music:__song': None,\n",
       "   'time:__utc_time': '2019-11-08 18:12:46',\n",
       "   'time:__local_time': '2019-11-08 18:12:46',\n",
       "   'time:__minute_id': '20191108_1812',\n",
       "   'activity:__movement': 'Inside',\n",
       "   'activity:__movement_prob': 0.9988074303,\n",
       "   'activity:__stop': True,\n",
       "   'location:__lat': 53.3865916,\n",
       "   'location:__lng': -6.2594149,\n",
       "   'location:__semantic_name': 'Dublin City University (DCU)',\n",
       "   'location:__original_name': 'Dublin City University (DCU)',\n",
       "   'location:__parent': None,\n",
       "   'location:__city': 'Dublin, Ireland, Leinster',\n",
       "   'location:__country': 'Ireland',\n",
       "   'visual_concepts:__OCR': None,\n",
       "   'visual_concepts:__Caption': 'a large indoor basketball court',\n",
       "   'visual_concepts:__CaptionScore': 0.2462551445}}]"
      ]
     },
     "execution_count": 20,
     "metadata": {},
     "output_type": "execute_result"
    }
   ],
   "source": [
    "proc.search_text_closestday_pipeline('indoor', [], timefield='timestamp', timestamp=date, filter=None)"
   ]
  },
  {
   "cell_type": "code",
   "execution_count": 21,
   "metadata": {},
   "outputs": [
    {
     "name": "stdout",
     "output_type": "stream",
     "text": [
      "Function run elapsed time: 0:00:00.000004\n"
     ]
    }
   ],
   "source": [
    "check_duplicate_response(proc.compose_pipeline({'text': {'fields': ['semantic_time:__year'], 'must': '2019', 'should': None }}))"
   ]
  },
  {
   "cell_type": "code",
   "execution_count": 22,
   "metadata": {},
   "outputs": [
    {
     "name": "stdout",
     "output_type": "stream",
     "text": [
      "Function run elapsed time: 0:00:00.000004\n"
     ]
    },
    {
     "data": {
      "text/plain": [
       "10001"
      ]
     },
     "execution_count": 22,
     "metadata": {},
     "output_type": "execute_result"
    }
   ],
   "source": [
    "len(proc.compose_pipeline({'text': {'fields': ['semantic_time:__year'], 'must': '2019', 'should': None }}, topk=10001))"
   ]
  },
  {
   "cell_type": "code",
   "execution_count": 23,
   "metadata": {},
   "outputs": [
    {
     "name": "stdout",
     "output_type": "stream",
     "text": [
      "Function run elapsed time: 0:00:00.000003\n"
     ]
    },
    {
     "data": {
      "text/html": [
       "<pre style=\"white-space:pre;overflow-x:auto;line-height:normal;font-family:Menlo,'DejaVu Sans Mono',consolas,'Courier New',monospace\"><span style=\"font-weight: bold\">{</span>\n",
       "    <span style=\"color: #008000; text-decoration-color: #008000\">'_index'</span>: <span style=\"color: #008000; text-decoration-color: #008000\">'lsc24'</span>,\n",
       "    <span style=\"color: #008000; text-decoration-color: #008000\">'_id'</span>: <span style=\"color: #008000; text-decoration-color: #008000\">'20191201_080229_000'</span>,\n",
       "    <span style=\"color: #008000; text-decoration-color: #008000\">'_score'</span>: <span style=\"color: #008080; text-decoration-color: #008080; font-weight: bold\">2.5684469</span>,\n",
       "    <span style=\"color: #008000; text-decoration-color: #008000\">'_source'</span>: <span style=\"font-weight: bold\">{</span>\n",
       "        <span style=\"color: #008000; text-decoration-color: #008000\">'image_name'</span>: <span style=\"color: #008000; text-decoration-color: #008000\">'20191201_080229_000.jpg'</span>,\n",
       "        <span style=\"color: #008000; text-decoration-color: #008000\">'timestamp'</span>: <span style=\"color: #008000; text-decoration-color: #008000\">'20191201'</span>,\n",
       "        <span style=\"color: #008000; text-decoration-color: #008000\">'tags'</span>: <span style=\"color: #008000; text-decoration-color: #008000\">'dark,night,night sky'</span>,\n",
       "        <span style=\"color: #008000; text-decoration-color: #008000\">'categories'</span>: <span style=\"color: #008000; text-decoration-color: #008000\">'Shopping Mall'</span>,\n",
       "        <span style=\"color: #008000; text-decoration-color: #008000\">'semantic_time:__new_timezone'</span>: <span style=\"color: #008000; text-decoration-color: #008000\">'Europe/Dublin'</span>,\n",
       "        <span style=\"color: #008000; text-decoration-color: #008000\">'semantic_time:__weekday'</span>: <span style=\"color: #008000; text-decoration-color: #008000\">'Sunday'</span>,\n",
       "        <span style=\"color: #008000; text-decoration-color: #008000\">'semantic_time:__year'</span>: <span style=\"color: #008000; text-decoration-color: #008000\">'2019'</span>,\n",
       "        <span style=\"color: #008000; text-decoration-color: #008000\">'semantic_time:__month'</span>: <span style=\"color: #008000; text-decoration-color: #008000\">'December'</span>,\n",
       "        <span style=\"color: #008000; text-decoration-color: #008000\">'semantic_time:__semantic_time'</span>: <span style=\"color: #008000; text-decoration-color: #008000\">'early morning'</span>,\n",
       "        <span style=\"color: #008000; text-decoration-color: #008000\">'music:__album'</span>: <span style=\"color: #800080; text-decoration-color: #800080; font-style: italic\">None</span>,\n",
       "        <span style=\"color: #008000; text-decoration-color: #008000\">'music:__artist'</span>: <span style=\"color: #800080; text-decoration-color: #800080; font-style: italic\">None</span>,\n",
       "        <span style=\"color: #008000; text-decoration-color: #008000\">'music:__song'</span>: <span style=\"color: #800080; text-decoration-color: #800080; font-style: italic\">None</span>,\n",
       "        <span style=\"color: #008000; text-decoration-color: #008000\">'time:__utc_time'</span>: <span style=\"color: #008000; text-decoration-color: #008000\">'2019-12-01 08:02:29'</span>,\n",
       "        <span style=\"color: #008000; text-decoration-color: #008000\">'time:__local_time'</span>: <span style=\"color: #008000; text-decoration-color: #008000\">'2019-12-01 08:02:29'</span>,\n",
       "        <span style=\"color: #008000; text-decoration-color: #008000\">'time:__minute_id'</span>: <span style=\"color: #008000; text-decoration-color: #008000\">'20191201_0802'</span>,\n",
       "        <span style=\"color: #008000; text-decoration-color: #008000\">'activity:__movement'</span>: <span style=\"color: #008000; text-decoration-color: #008000\">'Inside'</span>,\n",
       "        <span style=\"color: #008000; text-decoration-color: #008000\">'activity:__movement_prob'</span>: <span style=\"color: #008080; text-decoration-color: #008080; font-weight: bold\">0.9959127307</span>,\n",
       "        <span style=\"color: #008000; text-decoration-color: #008000\">'activity:__stop'</span>: <span style=\"color: #00ff00; text-decoration-color: #00ff00; font-style: italic\">True</span>,\n",
       "        <span style=\"color: #008000; text-decoration-color: #008000\">'location:__lat'</span>: <span style=\"color: #008080; text-decoration-color: #008080; font-weight: bold\">53.34896069</span>,\n",
       "        <span style=\"color: #008000; text-decoration-color: #008000\">'location:__lng'</span>: <span style=\"color: #008080; text-decoration-color: #008080; font-weight: bold\">-6.26566142</span>,\n",
       "        <span style=\"color: #008000; text-decoration-color: #008000\">'location:__semantic_name'</span>: <span style=\"color: #008000; text-decoration-color: #008000\">'Jervis Shopping Centre'</span>,\n",
       "        <span style=\"color: #008000; text-decoration-color: #008000\">'location:__original_name'</span>: <span style=\"color: #008000; text-decoration-color: #008000\">'Jervis Shopping Centre'</span>,\n",
       "        <span style=\"color: #008000; text-decoration-color: #008000\">'location:__parent'</span>: <span style=\"color: #800080; text-decoration-color: #800080; font-style: italic\">None</span>,\n",
       "        <span style=\"color: #008000; text-decoration-color: #008000\">'location:__city'</span>: <span style=\"color: #008000; text-decoration-color: #008000\">'Dublin, Ireland, Leinster'</span>,\n",
       "        <span style=\"color: #008000; text-decoration-color: #008000\">'location:__country'</span>: <span style=\"color: #008000; text-decoration-color: #008000\">'Ireland'</span>,\n",
       "        <span style=\"color: #008000; text-decoration-color: #008000\">'visual_concepts:__OCR'</span>: <span style=\"color: #800080; text-decoration-color: #800080; font-style: italic\">None</span>,\n",
       "        <span style=\"color: #008000; text-decoration-color: #008000\">'visual_concepts:__Caption'</span>: <span style=\"color: #008000; text-decoration-color: #008000\">'a dark room with a group of people in it'</span>,\n",
       "        <span style=\"color: #008000; text-decoration-color: #008000\">'visual_concepts:__CaptionScore'</span>: <span style=\"color: #008080; text-decoration-color: #008080; font-weight: bold\">0.4719054401</span>\n",
       "    <span style=\"font-weight: bold\">}</span>\n",
       "<span style=\"font-weight: bold\">}</span>\n",
       "</pre>\n"
      ],
      "text/plain": [
       "\u001b[1m{\u001b[0m\n",
       "    \u001b[32m'_index'\u001b[0m: \u001b[32m'lsc24'\u001b[0m,\n",
       "    \u001b[32m'_id'\u001b[0m: \u001b[32m'20191201_080229_000'\u001b[0m,\n",
       "    \u001b[32m'_score'\u001b[0m: \u001b[1;36m2.5684469\u001b[0m,\n",
       "    \u001b[32m'_source'\u001b[0m: \u001b[1m{\u001b[0m\n",
       "        \u001b[32m'image_name'\u001b[0m: \u001b[32m'20191201_080229_000.jpg'\u001b[0m,\n",
       "        \u001b[32m'timestamp'\u001b[0m: \u001b[32m'20191201'\u001b[0m,\n",
       "        \u001b[32m'tags'\u001b[0m: \u001b[32m'dark,night,night sky'\u001b[0m,\n",
       "        \u001b[32m'categories'\u001b[0m: \u001b[32m'Shopping Mall'\u001b[0m,\n",
       "        \u001b[32m'semantic_time:__new_timezone'\u001b[0m: \u001b[32m'Europe/Dublin'\u001b[0m,\n",
       "        \u001b[32m'semantic_time:__weekday'\u001b[0m: \u001b[32m'Sunday'\u001b[0m,\n",
       "        \u001b[32m'semantic_time:__year'\u001b[0m: \u001b[32m'2019'\u001b[0m,\n",
       "        \u001b[32m'semantic_time:__month'\u001b[0m: \u001b[32m'December'\u001b[0m,\n",
       "        \u001b[32m'semantic_time:__semantic_time'\u001b[0m: \u001b[32m'early morning'\u001b[0m,\n",
       "        \u001b[32m'music:__album'\u001b[0m: \u001b[3;35mNone\u001b[0m,\n",
       "        \u001b[32m'music:__artist'\u001b[0m: \u001b[3;35mNone\u001b[0m,\n",
       "        \u001b[32m'music:__song'\u001b[0m: \u001b[3;35mNone\u001b[0m,\n",
       "        \u001b[32m'time:__utc_time'\u001b[0m: \u001b[32m'2019-12-01 08:02:29'\u001b[0m,\n",
       "        \u001b[32m'time:__local_time'\u001b[0m: \u001b[32m'2019-12-01 08:02:29'\u001b[0m,\n",
       "        \u001b[32m'time:__minute_id'\u001b[0m: \u001b[32m'20191201_0802'\u001b[0m,\n",
       "        \u001b[32m'activity:__movement'\u001b[0m: \u001b[32m'Inside'\u001b[0m,\n",
       "        \u001b[32m'activity:__movement_prob'\u001b[0m: \u001b[1;36m0.9959127307\u001b[0m,\n",
       "        \u001b[32m'activity:__stop'\u001b[0m: \u001b[3;92mTrue\u001b[0m,\n",
       "        \u001b[32m'location:__lat'\u001b[0m: \u001b[1;36m53.34896069\u001b[0m,\n",
       "        \u001b[32m'location:__lng'\u001b[0m: \u001b[1;36m-6.26566142\u001b[0m,\n",
       "        \u001b[32m'location:__semantic_name'\u001b[0m: \u001b[32m'Jervis Shopping Centre'\u001b[0m,\n",
       "        \u001b[32m'location:__original_name'\u001b[0m: \u001b[32m'Jervis Shopping Centre'\u001b[0m,\n",
       "        \u001b[32m'location:__parent'\u001b[0m: \u001b[3;35mNone\u001b[0m,\n",
       "        \u001b[32m'location:__city'\u001b[0m: \u001b[32m'Dublin, Ireland, Leinster'\u001b[0m,\n",
       "        \u001b[32m'location:__country'\u001b[0m: \u001b[32m'Ireland'\u001b[0m,\n",
       "        \u001b[32m'visual_concepts:__OCR'\u001b[0m: \u001b[3;35mNone\u001b[0m,\n",
       "        \u001b[32m'visual_concepts:__Caption'\u001b[0m: \u001b[32m'a dark room with a group of people in it'\u001b[0m,\n",
       "        \u001b[32m'visual_concepts:__CaptionScore'\u001b[0m: \u001b[1;36m0.4719054401\u001b[0m\n",
       "    \u001b[1m}\u001b[0m\n",
       "\u001b[1m}\u001b[0m\n"
      ]
     },
     "metadata": {},
     "output_type": "display_data"
    }
   ],
   "source": [
    "rich.print(proc.compose_pipeline({'text': {'fields': ['semantic_time:__month'], 'must': None, 'should': 'december' }})[0])"
   ]
  },
  {
   "cell_type": "code",
   "execution_count": 27,
   "metadata": {},
   "outputs": [
    {
     "name": "stdout",
     "output_type": "stream",
     "text": [
      "Function run elapsed time: 0:00:00.000004\n"
     ]
    },
    {
     "data": {
      "text/html": [
       "<pre style=\"white-space:pre;overflow-x:auto;line-height:normal;font-family:Menlo,'DejaVu Sans Mono',consolas,'Courier New',monospace\"><span style=\"font-weight: bold\">{</span>\n",
       "    <span style=\"color: #008000; text-decoration-color: #008000\">'_index'</span>: <span style=\"color: #008000; text-decoration-color: #008000\">'lsc24'</span>,\n",
       "    <span style=\"color: #008000; text-decoration-color: #008000\">'_id'</span>: <span style=\"color: #008000; text-decoration-color: #008000\">'20190109_150833_000'</span>,\n",
       "    <span style=\"color: #008000; text-decoration-color: #008000\">'_score'</span>: <span style=\"color: #008080; text-decoration-color: #008080; font-weight: bold\">20.574127</span>,\n",
       "    <span style=\"color: #008000; text-decoration-color: #008000\">'_source'</span>: <span style=\"font-weight: bold\">{</span>\n",
       "        <span style=\"color: #008000; text-decoration-color: #008000\">'image_name'</span>: <span style=\"color: #008000; text-decoration-color: #008000\">'20190109_150833_000.jpg'</span>,\n",
       "        <span style=\"color: #008000; text-decoration-color: #008000\">'timestamp'</span>: <span style=\"color: #008000; text-decoration-color: #008000\">'20190109'</span>,\n",
       "        <span style=\"color: #008000; text-decoration-color: #008000\">'tags'</span>: <span style=\"color: #008000; text-decoration-color: #008000\">'text,indoor,wall,ceiling,screen'</span>,\n",
       "        <span style=\"color: #008000; text-decoration-color: #008000\">'categories'</span>: <span style=\"color: #008000; text-decoration-color: #008000\">'Office'</span>,\n",
       "        <span style=\"color: #008000; text-decoration-color: #008000\">'semantic_time:__new_timezone'</span>: <span style=\"color: #008000; text-decoration-color: #008000\">'Europe/Athens'</span>,\n",
       "        <span style=\"color: #008000; text-decoration-color: #008000\">'semantic_time:__weekday'</span>: <span style=\"color: #008000; text-decoration-color: #008000\">'Wednesday'</span>,\n",
       "        <span style=\"color: #008000; text-decoration-color: #008000\">'semantic_time:__year'</span>: <span style=\"color: #008000; text-decoration-color: #008000\">'2019'</span>,\n",
       "        <span style=\"color: #008000; text-decoration-color: #008000\">'semantic_time:__month'</span>: <span style=\"color: #008000; text-decoration-color: #008000\">'January'</span>,\n",
       "        <span style=\"color: #008000; text-decoration-color: #008000\">'semantic_time:__semantic_time'</span>: <span style=\"color: #008000; text-decoration-color: #008000\">'early evening'</span>,\n",
       "        <span style=\"color: #008000; text-decoration-color: #008000\">'music:__album'</span>: <span style=\"color: #800080; text-decoration-color: #800080; font-style: italic\">None</span>,\n",
       "        <span style=\"color: #008000; text-decoration-color: #008000\">'music:__artist'</span>: <span style=\"color: #800080; text-decoration-color: #800080; font-style: italic\">None</span>,\n",
       "        <span style=\"color: #008000; text-decoration-color: #008000\">'music:__song'</span>: <span style=\"color: #800080; text-decoration-color: #800080; font-style: italic\">None</span>,\n",
       "        <span style=\"color: #008000; text-decoration-color: #008000\">'time:__utc_time'</span>: <span style=\"color: #008000; text-decoration-color: #008000\">'2019-01-09 15:08:01'</span>,\n",
       "        <span style=\"color: #008000; text-decoration-color: #008000\">'time:__local_time'</span>: <span style=\"color: #008000; text-decoration-color: #008000\">'2019-01-09 17:08:01'</span>,\n",
       "        <span style=\"color: #008000; text-decoration-color: #008000\">'time:__minute_id'</span>: <span style=\"color: #008000; text-decoration-color: #008000\">'20190109_1508'</span>,\n",
       "        <span style=\"color: #008000; text-decoration-color: #008000\">'activity:__movement'</span>: <span style=\"color: #008000; text-decoration-color: #008000\">'Inside'</span>,\n",
       "        <span style=\"color: #008000; text-decoration-color: #008000\">'activity:__movement_prob'</span>: <span style=\"color: #008080; text-decoration-color: #008080; font-weight: bold\">0.9933500886</span>,\n",
       "        <span style=\"color: #008000; text-decoration-color: #008000\">'activity:__stop'</span>: <span style=\"color: #00ff00; text-decoration-color: #00ff00; font-style: italic\">True</span>,\n",
       "        <span style=\"color: #008000; text-decoration-color: #008000\">'location:__lat'</span>: <span style=\"color: #008080; text-decoration-color: #008080; font-weight: bold\">40.6359851</span>,\n",
       "        <span style=\"color: #008000; text-decoration-color: #008000\">'location:__lng'</span>: <span style=\"color: #008080; text-decoration-color: #008080; font-weight: bold\">22.9355687</span>,\n",
       "        <span style=\"color: #008000; text-decoration-color: #008000\">'location:__semantic_name'</span>: <span style=\"color: #008000; text-decoration-color: #008000\">'Zeus Conference Rooms'</span>,\n",
       "        <span style=\"color: #008000; text-decoration-color: #008000\">'location:__original_name'</span>: <span style=\"color: #008000; text-decoration-color: #008000\">'Zeus Conference Rooms'</span>,\n",
       "        <span style=\"color: #008000; text-decoration-color: #008000\">'location:__parent'</span>: <span style=\"color: #008000; text-decoration-color: #008000\">'Mediterranean Palace Hotel'</span>,\n",
       "        <span style=\"color: #008000; text-decoration-color: #008000\">'location:__city'</span>: <span style=\"color: #008000; text-decoration-color: #008000\">'Thessaloniki Regional Unit, Thessaloniki Municipal Unit, Macedonia and Thrace, Greece'</span>,\n",
       "        <span style=\"color: #008000; text-decoration-color: #008000\">'location:__country'</span>: <span style=\"color: #008000; text-decoration-color: #008000\">'Greece'</span>,\n",
       "        <span style=\"color: #008000; text-decoration-color: #008000\">'visual_concepts:__OCR'</span>: <span style=\"color: #800080; text-decoration-color: #800080; font-style: italic\">None</span>,\n",
       "        <span style=\"color: #008000; text-decoration-color: #008000\">'visual_concepts:__Caption'</span>: <span style=\"color: #008000; text-decoration-color: #008000\">'a few people in a conference room'</span>,\n",
       "        <span style=\"color: #008000; text-decoration-color: #008000\">'visual_concepts:__CaptionScore'</span>: <span style=\"color: #008080; text-decoration-color: #008080; font-weight: bold\">0.4219984114</span>\n",
       "    <span style=\"font-weight: bold\">}</span>\n",
       "<span style=\"font-weight: bold\">}</span>\n",
       "</pre>\n"
      ],
      "text/plain": [
       "\u001b[1m{\u001b[0m\n",
       "    \u001b[32m'_index'\u001b[0m: \u001b[32m'lsc24'\u001b[0m,\n",
       "    \u001b[32m'_id'\u001b[0m: \u001b[32m'20190109_150833_000'\u001b[0m,\n",
       "    \u001b[32m'_score'\u001b[0m: \u001b[1;36m20.574127\u001b[0m,\n",
       "    \u001b[32m'_source'\u001b[0m: \u001b[1m{\u001b[0m\n",
       "        \u001b[32m'image_name'\u001b[0m: \u001b[32m'20190109_150833_000.jpg'\u001b[0m,\n",
       "        \u001b[32m'timestamp'\u001b[0m: \u001b[32m'20190109'\u001b[0m,\n",
       "        \u001b[32m'tags'\u001b[0m: \u001b[32m'text,indoor,wall,ceiling,screen'\u001b[0m,\n",
       "        \u001b[32m'categories'\u001b[0m: \u001b[32m'Office'\u001b[0m,\n",
       "        \u001b[32m'semantic_time:__new_timezone'\u001b[0m: \u001b[32m'Europe/Athens'\u001b[0m,\n",
       "        \u001b[32m'semantic_time:__weekday'\u001b[0m: \u001b[32m'Wednesday'\u001b[0m,\n",
       "        \u001b[32m'semantic_time:__year'\u001b[0m: \u001b[32m'2019'\u001b[0m,\n",
       "        \u001b[32m'semantic_time:__month'\u001b[0m: \u001b[32m'January'\u001b[0m,\n",
       "        \u001b[32m'semantic_time:__semantic_time'\u001b[0m: \u001b[32m'early evening'\u001b[0m,\n",
       "        \u001b[32m'music:__album'\u001b[0m: \u001b[3;35mNone\u001b[0m,\n",
       "        \u001b[32m'music:__artist'\u001b[0m: \u001b[3;35mNone\u001b[0m,\n",
       "        \u001b[32m'music:__song'\u001b[0m: \u001b[3;35mNone\u001b[0m,\n",
       "        \u001b[32m'time:__utc_time'\u001b[0m: \u001b[32m'2019-01-09 15:08:01'\u001b[0m,\n",
       "        \u001b[32m'time:__local_time'\u001b[0m: \u001b[32m'2019-01-09 17:08:01'\u001b[0m,\n",
       "        \u001b[32m'time:__minute_id'\u001b[0m: \u001b[32m'20190109_1508'\u001b[0m,\n",
       "        \u001b[32m'activity:__movement'\u001b[0m: \u001b[32m'Inside'\u001b[0m,\n",
       "        \u001b[32m'activity:__movement_prob'\u001b[0m: \u001b[1;36m0.9933500886\u001b[0m,\n",
       "        \u001b[32m'activity:__stop'\u001b[0m: \u001b[3;92mTrue\u001b[0m,\n",
       "        \u001b[32m'location:__lat'\u001b[0m: \u001b[1;36m40.6359851\u001b[0m,\n",
       "        \u001b[32m'location:__lng'\u001b[0m: \u001b[1;36m22.9355687\u001b[0m,\n",
       "        \u001b[32m'location:__semantic_name'\u001b[0m: \u001b[32m'Zeus Conference Rooms'\u001b[0m,\n",
       "        \u001b[32m'location:__original_name'\u001b[0m: \u001b[32m'Zeus Conference Rooms'\u001b[0m,\n",
       "        \u001b[32m'location:__parent'\u001b[0m: \u001b[32m'Mediterranean Palace Hotel'\u001b[0m,\n",
       "        \u001b[32m'location:__city'\u001b[0m: \u001b[32m'Thessaloniki Regional Unit, Thessaloniki Municipal Unit, Macedonia and Thrace, Greece'\u001b[0m,\n",
       "        \u001b[32m'location:__country'\u001b[0m: \u001b[32m'Greece'\u001b[0m,\n",
       "        \u001b[32m'visual_concepts:__OCR'\u001b[0m: \u001b[3;35mNone\u001b[0m,\n",
       "        \u001b[32m'visual_concepts:__Caption'\u001b[0m: \u001b[32m'a few people in a conference room'\u001b[0m,\n",
       "        \u001b[32m'visual_concepts:__CaptionScore'\u001b[0m: \u001b[1;36m0.4219984114\u001b[0m\n",
       "    \u001b[1m}\u001b[0m\n",
       "\u001b[1m}\u001b[0m\n"
      ]
     },
     "metadata": {},
     "output_type": "display_data"
    }
   ],
   "source": [
    "rich.print(proc.compose_pipeline({'text': {'fields': ['location:__semantic_name', 'visual_concepts:__OCR', 'visual_concepts:__Caption', 'location:__country', 'tags'], 'must': \"Zeus Conference\", 'should': None }})[0])"
   ]
  },
  {
   "cell_type": "code",
   "execution_count": 29,
   "metadata": {},
   "outputs": [
    {
     "name": "stdout",
     "output_type": "stream",
     "text": [
      "Function run elapsed time: 0:00:00.000003\n"
     ]
    },
    {
     "data": {
      "text/html": [
       "<pre style=\"white-space:pre;overflow-x:auto;line-height:normal;font-family:Menlo,'DejaVu Sans Mono',consolas,'Courier New',monospace\"><span style=\"font-weight: bold\">{</span>\n",
       "    <span style=\"color: #008000; text-decoration-color: #008000\">'_index'</span>: <span style=\"color: #008000; text-decoration-color: #008000\">'lsc24'</span>,\n",
       "    <span style=\"color: #008000; text-decoration-color: #008000\">'_id'</span>: <span style=\"color: #008000; text-decoration-color: #008000\">'20190109_150833_000'</span>,\n",
       "    <span style=\"color: #008000; text-decoration-color: #008000\">'_score'</span>: <span style=\"color: #008080; text-decoration-color: #008080; font-weight: bold\">20.574127</span>,\n",
       "    <span style=\"color: #008000; text-decoration-color: #008000\">'_source'</span>: <span style=\"font-weight: bold\">{</span>\n",
       "        <span style=\"color: #008000; text-decoration-color: #008000\">'image_name'</span>: <span style=\"color: #008000; text-decoration-color: #008000\">'20190109_150833_000.jpg'</span>,\n",
       "        <span style=\"color: #008000; text-decoration-color: #008000\">'timestamp'</span>: <span style=\"color: #008000; text-decoration-color: #008000\">'20190109'</span>,\n",
       "        <span style=\"color: #008000; text-decoration-color: #008000\">'tags'</span>: <span style=\"color: #008000; text-decoration-color: #008000\">'text,indoor,wall,ceiling,screen'</span>,\n",
       "        <span style=\"color: #008000; text-decoration-color: #008000\">'categories'</span>: <span style=\"color: #008000; text-decoration-color: #008000\">'Office'</span>,\n",
       "        <span style=\"color: #008000; text-decoration-color: #008000\">'semantic_time:__new_timezone'</span>: <span style=\"color: #008000; text-decoration-color: #008000\">'Europe/Athens'</span>,\n",
       "        <span style=\"color: #008000; text-decoration-color: #008000\">'semantic_time:__weekday'</span>: <span style=\"color: #008000; text-decoration-color: #008000\">'Wednesday'</span>,\n",
       "        <span style=\"color: #008000; text-decoration-color: #008000\">'semantic_time:__year'</span>: <span style=\"color: #008000; text-decoration-color: #008000\">'2019'</span>,\n",
       "        <span style=\"color: #008000; text-decoration-color: #008000\">'semantic_time:__month'</span>: <span style=\"color: #008000; text-decoration-color: #008000\">'January'</span>,\n",
       "        <span style=\"color: #008000; text-decoration-color: #008000\">'semantic_time:__semantic_time'</span>: <span style=\"color: #008000; text-decoration-color: #008000\">'early evening'</span>,\n",
       "        <span style=\"color: #008000; text-decoration-color: #008000\">'music:__album'</span>: <span style=\"color: #800080; text-decoration-color: #800080; font-style: italic\">None</span>,\n",
       "        <span style=\"color: #008000; text-decoration-color: #008000\">'music:__artist'</span>: <span style=\"color: #800080; text-decoration-color: #800080; font-style: italic\">None</span>,\n",
       "        <span style=\"color: #008000; text-decoration-color: #008000\">'music:__song'</span>: <span style=\"color: #800080; text-decoration-color: #800080; font-style: italic\">None</span>,\n",
       "        <span style=\"color: #008000; text-decoration-color: #008000\">'time:__utc_time'</span>: <span style=\"color: #008000; text-decoration-color: #008000\">'2019-01-09 15:08:01'</span>,\n",
       "        <span style=\"color: #008000; text-decoration-color: #008000\">'time:__local_time'</span>: <span style=\"color: #008000; text-decoration-color: #008000\">'2019-01-09 17:08:01'</span>,\n",
       "        <span style=\"color: #008000; text-decoration-color: #008000\">'time:__minute_id'</span>: <span style=\"color: #008000; text-decoration-color: #008000\">'20190109_1508'</span>,\n",
       "        <span style=\"color: #008000; text-decoration-color: #008000\">'activity:__movement'</span>: <span style=\"color: #008000; text-decoration-color: #008000\">'Inside'</span>,\n",
       "        <span style=\"color: #008000; text-decoration-color: #008000\">'activity:__movement_prob'</span>: <span style=\"color: #008080; text-decoration-color: #008080; font-weight: bold\">0.9933500886</span>,\n",
       "        <span style=\"color: #008000; text-decoration-color: #008000\">'activity:__stop'</span>: <span style=\"color: #00ff00; text-decoration-color: #00ff00; font-style: italic\">True</span>,\n",
       "        <span style=\"color: #008000; text-decoration-color: #008000\">'location:__lat'</span>: <span style=\"color: #008080; text-decoration-color: #008080; font-weight: bold\">40.6359851</span>,\n",
       "        <span style=\"color: #008000; text-decoration-color: #008000\">'location:__lng'</span>: <span style=\"color: #008080; text-decoration-color: #008080; font-weight: bold\">22.9355687</span>,\n",
       "        <span style=\"color: #008000; text-decoration-color: #008000\">'location:__semantic_name'</span>: <span style=\"color: #008000; text-decoration-color: #008000\">'Zeus Conference Rooms'</span>,\n",
       "        <span style=\"color: #008000; text-decoration-color: #008000\">'location:__original_name'</span>: <span style=\"color: #008000; text-decoration-color: #008000\">'Zeus Conference Rooms'</span>,\n",
       "        <span style=\"color: #008000; text-decoration-color: #008000\">'location:__parent'</span>: <span style=\"color: #008000; text-decoration-color: #008000\">'Mediterranean Palace Hotel'</span>,\n",
       "        <span style=\"color: #008000; text-decoration-color: #008000\">'location:__city'</span>: <span style=\"color: #008000; text-decoration-color: #008000\">'Thessaloniki Regional Unit, Thessaloniki Municipal Unit, Macedonia and Thrace, Greece'</span>,\n",
       "        <span style=\"color: #008000; text-decoration-color: #008000\">'location:__country'</span>: <span style=\"color: #008000; text-decoration-color: #008000\">'Greece'</span>,\n",
       "        <span style=\"color: #008000; text-decoration-color: #008000\">'visual_concepts:__OCR'</span>: <span style=\"color: #800080; text-decoration-color: #800080; font-style: italic\">None</span>,\n",
       "        <span style=\"color: #008000; text-decoration-color: #008000\">'visual_concepts:__Caption'</span>: <span style=\"color: #008000; text-decoration-color: #008000\">'a few people in a conference room'</span>,\n",
       "        <span style=\"color: #008000; text-decoration-color: #008000\">'visual_concepts:__CaptionScore'</span>: <span style=\"color: #008080; text-decoration-color: #008080; font-weight: bold\">0.4219984114</span>\n",
       "    <span style=\"font-weight: bold\">}</span>\n",
       "<span style=\"font-weight: bold\">}</span>\n",
       "</pre>\n"
      ],
      "text/plain": [
       "\u001b[1m{\u001b[0m\n",
       "    \u001b[32m'_index'\u001b[0m: \u001b[32m'lsc24'\u001b[0m,\n",
       "    \u001b[32m'_id'\u001b[0m: \u001b[32m'20190109_150833_000'\u001b[0m,\n",
       "    \u001b[32m'_score'\u001b[0m: \u001b[1;36m20.574127\u001b[0m,\n",
       "    \u001b[32m'_source'\u001b[0m: \u001b[1m{\u001b[0m\n",
       "        \u001b[32m'image_name'\u001b[0m: \u001b[32m'20190109_150833_000.jpg'\u001b[0m,\n",
       "        \u001b[32m'timestamp'\u001b[0m: \u001b[32m'20190109'\u001b[0m,\n",
       "        \u001b[32m'tags'\u001b[0m: \u001b[32m'text,indoor,wall,ceiling,screen'\u001b[0m,\n",
       "        \u001b[32m'categories'\u001b[0m: \u001b[32m'Office'\u001b[0m,\n",
       "        \u001b[32m'semantic_time:__new_timezone'\u001b[0m: \u001b[32m'Europe/Athens'\u001b[0m,\n",
       "        \u001b[32m'semantic_time:__weekday'\u001b[0m: \u001b[32m'Wednesday'\u001b[0m,\n",
       "        \u001b[32m'semantic_time:__year'\u001b[0m: \u001b[32m'2019'\u001b[0m,\n",
       "        \u001b[32m'semantic_time:__month'\u001b[0m: \u001b[32m'January'\u001b[0m,\n",
       "        \u001b[32m'semantic_time:__semantic_time'\u001b[0m: \u001b[32m'early evening'\u001b[0m,\n",
       "        \u001b[32m'music:__album'\u001b[0m: \u001b[3;35mNone\u001b[0m,\n",
       "        \u001b[32m'music:__artist'\u001b[0m: \u001b[3;35mNone\u001b[0m,\n",
       "        \u001b[32m'music:__song'\u001b[0m: \u001b[3;35mNone\u001b[0m,\n",
       "        \u001b[32m'time:__utc_time'\u001b[0m: \u001b[32m'2019-01-09 15:08:01'\u001b[0m,\n",
       "        \u001b[32m'time:__local_time'\u001b[0m: \u001b[32m'2019-01-09 17:08:01'\u001b[0m,\n",
       "        \u001b[32m'time:__minute_id'\u001b[0m: \u001b[32m'20190109_1508'\u001b[0m,\n",
       "        \u001b[32m'activity:__movement'\u001b[0m: \u001b[32m'Inside'\u001b[0m,\n",
       "        \u001b[32m'activity:__movement_prob'\u001b[0m: \u001b[1;36m0.9933500886\u001b[0m,\n",
       "        \u001b[32m'activity:__stop'\u001b[0m: \u001b[3;92mTrue\u001b[0m,\n",
       "        \u001b[32m'location:__lat'\u001b[0m: \u001b[1;36m40.6359851\u001b[0m,\n",
       "        \u001b[32m'location:__lng'\u001b[0m: \u001b[1;36m22.9355687\u001b[0m,\n",
       "        \u001b[32m'location:__semantic_name'\u001b[0m: \u001b[32m'Zeus Conference Rooms'\u001b[0m,\n",
       "        \u001b[32m'location:__original_name'\u001b[0m: \u001b[32m'Zeus Conference Rooms'\u001b[0m,\n",
       "        \u001b[32m'location:__parent'\u001b[0m: \u001b[32m'Mediterranean Palace Hotel'\u001b[0m,\n",
       "        \u001b[32m'location:__city'\u001b[0m: \u001b[32m'Thessaloniki Regional Unit, Thessaloniki Municipal Unit, Macedonia and Thrace, Greece'\u001b[0m,\n",
       "        \u001b[32m'location:__country'\u001b[0m: \u001b[32m'Greece'\u001b[0m,\n",
       "        \u001b[32m'visual_concepts:__OCR'\u001b[0m: \u001b[3;35mNone\u001b[0m,\n",
       "        \u001b[32m'visual_concepts:__Caption'\u001b[0m: \u001b[32m'a few people in a conference room'\u001b[0m,\n",
       "        \u001b[32m'visual_concepts:__CaptionScore'\u001b[0m: \u001b[1;36m0.4219984114\u001b[0m\n",
       "    \u001b[1m}\u001b[0m\n",
       "\u001b[1m}\u001b[0m\n"
      ]
     },
     "metadata": {},
     "output_type": "display_data"
    }
   ],
   "source": [
    "rich.print(proc.compose_pipeline({'text': {'fields': ['location:__semantic_name', 'visual_concepts:__OCR', 'visual_concepts:__Caption', 'location:__country', 'tags'], 'must': None, 'should': \"Zeus Conference\" }})[0])\n"
   ]
  }
 ],
 "metadata": {
  "kernelspec": {
   "display_name": "elastic",
   "language": "python",
   "name": "python3"
  },
  "language_info": {
   "codemirror_mode": {
    "name": "ipython",
    "version": 3
   },
   "file_extension": ".py",
   "mimetype": "text/x-python",
   "name": "python",
   "nbconvert_exporter": "python",
   "pygments_lexer": "ipython3",
   "version": "3.11.8"
  },
  "orig_nbformat": 4,
  "vscode": {
   "interpreter": {
    "hash": "3e242d2624af79f4ab82e775fce7e2f7901da21f9b094faabf8c3149972e54fd"
   }
  }
 },
 "nbformat": 4,
 "nbformat_minor": 2
}
