{
 "cells": [
  {
   "cell_type": "code",
   "execution_count": 33,
   "metadata": {},
   "outputs": [],
   "source": [
    "import os\n",
    "from pathlib import Path\n",
    "import rich\n",
    "import numpy as np\n",
    "from dotenv import load_dotenv\n",
    "\n",
    "dotenv_path = Path('../../.env')\n",
    "root = Path('/home/lsc/2024/')\n",
    "\n",
    "load_dotenv(dotenv_path=dotenv_path)\n",
    "\n",
    "CLIP_PORT = os.environ.get(\"CLIP_PORT\", None)\n",
    "MILVUS_PORT = os.environ.get(\"MILVUS_PORT\", None)\n",
    "\n",
    "assert CLIP_PORT is not None, \"CLIP_PORT is not set\"\n",
    "assert MILVUS_PORT is not None, \"MILVUS_PORT is not set\"\n",
    "\n",
    "from pysearch.milvus import Milvus2Processor as MilvusProcessor"
   ]
  },
  {
   "cell_type": "code",
   "execution_count": 34,
   "metadata": {},
   "outputs": [],
   "source": [
    "config = {\n",
    "    # Global config\n",
    "    \"HOST\": \"0.0.0.0\",\n",
    "    \"PORT\": MILVUS_PORT,\n",
    "    \"INDEX\": \"lsc24\",\n",
    "    \"RETURN_SIZE\": 10,\n",
    "    \"CACHE_DIR\": \".cache/\",\n",
    "    # Milvus config\n",
    "    \"DIMENSION\": 768,\n",
    "}"
   ]
  },
  {
   "cell_type": "code",
   "execution_count": 38,
   "metadata": {},
   "outputs": [
    {
     "data": {
      "text/html": [
       "<pre style=\"white-space:pre;overflow-x:auto;line-height:normal;font-family:Menlo,'DejaVu Sans Mono',consolas,'Courier New',monospace\"><span style=\"font-weight: bold\">{</span>\n",
       "    <span style=\"color: #008000; text-decoration-color: #008000\">'name'</span>: <span style=\"color: #008000; text-decoration-color: #008000\">'lsc24'</span>,\n",
       "    <span style=\"color: #008000; text-decoration-color: #008000\">'description'</span>: <span style=\"color: #008000; text-decoration-color: #008000\">'Pysearch collection'</span>,\n",
       "    <span style=\"color: #008000; text-decoration-color: #008000\">'num_entities'</span>: <span style=\"color: #008080; text-decoration-color: #008080; font-weight: bold\">0</span>,\n",
       "    <span style=\"color: #008000; text-decoration-color: #008000\">'collections'</span>: <span style=\"font-weight: bold\">[</span><span style=\"color: #008000; text-decoration-color: #008000\">'test_index'</span>, <span style=\"color: #008000; text-decoration-color: #008000\">'lsc24'</span><span style=\"font-weight: bold\">]</span>,\n",
       "    <span style=\"color: #008000; text-decoration-color: #008000\">'details'</span>: <span style=\"font-weight: bold\">[{</span><span style=\"color: #008000; text-decoration-color: #008000\">'metric_type'</span>: <span style=\"color: #008000; text-decoration-color: #008000\">'L2'</span>, <span style=\"color: #008000; text-decoration-color: #008000\">'index_type'</span>: <span style=\"color: #008000; text-decoration-color: #008000\">'IVF_FLAT'</span>, <span style=\"color: #008000; text-decoration-color: #008000\">'params'</span>: <span style=\"font-weight: bold\">{</span><span style=\"color: #008000; text-decoration-color: #008000\">'nlist'</span>: <span style=\"color: #008080; text-decoration-color: #008080; font-weight: bold\">2048</span><span style=\"font-weight: bold\">}}]</span>\n",
       "<span style=\"font-weight: bold\">}</span>\n",
       "</pre>\n"
      ],
      "text/plain": [
       "\u001b[1m{\u001b[0m\n",
       "    \u001b[32m'name'\u001b[0m: \u001b[32m'lsc24'\u001b[0m,\n",
       "    \u001b[32m'description'\u001b[0m: \u001b[32m'Pysearch collection'\u001b[0m,\n",
       "    \u001b[32m'num_entities'\u001b[0m: \u001b[1;36m0\u001b[0m,\n",
       "    \u001b[32m'collections'\u001b[0m: \u001b[1m[\u001b[0m\u001b[32m'test_index'\u001b[0m, \u001b[32m'lsc24'\u001b[0m\u001b[1m]\u001b[0m,\n",
       "    \u001b[32m'details'\u001b[0m: \u001b[1m[\u001b[0m\u001b[1m{\u001b[0m\u001b[32m'metric_type'\u001b[0m: \u001b[32m'L2'\u001b[0m, \u001b[32m'index_type'\u001b[0m: \u001b[32m'IVF_FLAT'\u001b[0m, \u001b[32m'params'\u001b[0m: \u001b[1m{\u001b[0m\u001b[32m'nlist'\u001b[0m: \u001b[1;36m2048\u001b[0m\u001b[1m}\u001b[0m\u001b[1m}\u001b[0m\u001b[1m]\u001b[0m\n",
       "\u001b[1m}\u001b[0m\n"
      ]
     },
     "metadata": {},
     "output_type": "display_data"
    }
   ],
   "source": [
    "proc = MilvusProcessor(config, autoload_collection=False)\n",
    "rich.print(proc.info())"
   ]
  },
  {
   "cell_type": "code",
   "execution_count": 37,
   "metadata": {},
   "outputs": [],
   "source": [
    "proc.kill(\"lsc24\")"
   ]
  },
  {
   "cell_type": "code",
   "execution_count": 49,
   "metadata": {},
   "outputs": [
    {
     "data": {
      "text/plain": [
       "296663"
      ]
     },
     "execution_count": 49,
     "metadata": {},
     "output_type": "execute_result"
    }
   ],
   "source": [
    "with open(root / \"datahub/metadata/image_list_contracted.txt\") as f:\n",
    "    lines = f.readlines()\n",
    "    lines = [line.strip() for line in lines]\n",
    "\n",
    "using_ids = set(lines)\n",
    "\n",
    "new_lines = [] \n",
    "for line in lines:\n",
    "    if line.startswith(\"2000\"):\n",
    "        continue\n",
    "    new_lines.append(line)\n",
    "# only use a subset ids \n",
    "using_ids1 = set(new_lines)\n",
    "\n",
    "len(using_ids1)"
   ]
  },
  {
   "cell_type": "code",
   "execution_count": 43,
   "metadata": {},
   "outputs": [
    {
     "data": {
      "text/plain": [
       "721823"
      ]
     },
     "execution_count": 43,
     "metadata": {},
     "output_type": "execute_result"
    }
   ],
   "source": [
    "with open(root / \"datahub/metadata/raw/image_list_full.txt\") as f:\n",
    "    lines = f.readlines()\n",
    "    lines = [line.strip() for line in lines]\n",
    "\n",
    "using_ids = set(lines)\n",
    "\n",
    "new_lines = [] \n",
    "for line in lines:\n",
    "    if line.startswith(\"2000\"):\n",
    "        continue\n",
    "    new_lines.append(line)\n",
    "# only use a subset ids \n",
    "using_ids = set(new_lines)\n",
    "len(using_ids)"
   ]
  },
  {
   "cell_type": "code",
   "execution_count": 18,
   "metadata": {},
   "outputs": [
    {
     "data": {
      "text/plain": [
       "725226"
      ]
     },
     "execution_count": 18,
     "metadata": {},
     "output_type": "execute_result"
    }
   ],
   "source": [
    "data = np.load(root / \"datahub/embeddings/lsc23_clip768_embeddings.npy\", allow_pickle=True)\n",
    "data = data.item()\n",
    "len(data)"
   ]
  },
  {
   "cell_type": "code",
   "execution_count": 22,
   "metadata": {},
   "outputs": [],
   "source": [
    "# print(list(data.items())[0])\n",
    "# '201901/01/20190101_103717_000.jpg' : []"
   ]
  },
  {
   "cell_type": "code",
   "execution_count": 21,
   "metadata": {},
   "outputs": [
    {
     "data": {
      "text/plain": [
       "'20190101_103717_000'"
      ]
     },
     "execution_count": 21,
     "metadata": {},
     "output_type": "execute_result"
    }
   ],
   "source": [
    "# Path('201901/01/20190101_103717_000.jpg').stem\n",
    "# 20190101_103717_000"
   ]
  },
  {
   "cell_type": "code",
   "execution_count": 50,
   "metadata": {},
   "outputs": [],
   "source": [
    "data = {Path(k).stem: v for k, v in data.items()} # remove extension, e.g. .jpg. From 000000.jpg to 000000\n",
    "data = {k: v for k, v in data.items() if k in using_ids1}"
   ]
  },
  {
   "cell_type": "code",
   "execution_count": 51,
   "metadata": {},
   "outputs": [],
   "source": [
    "features = np.array([x[1] for x in  data.items()])\n",
    "ids = np.array([x[0] for x in data.items()])"
   ]
  },
  {
   "cell_type": "code",
   "execution_count": 46,
   "metadata": {},
   "outputs": [
    {
     "name": "stdout",
     "output_type": "stream",
     "text": [
      "20190101_103717_000\n",
      "(768,)\n"
     ]
    }
   ],
   "source": [
    "# example of an id and a feature vector \n",
    "print(ids[0])\n",
    "print(features[0].shape)"
   ]
  },
  {
   "cell_type": "code",
   "execution_count": 52,
   "metadata": {},
   "outputs": [
    {
     "name": "stdout",
     "output_type": "stream",
     "text": [
      "296663\n"
     ]
    }
   ],
   "source": [
    "assert features.shape[0] == len(ids), \"vectors and ids must have the same length\"\n",
    "print(len(ids))"
   ]
  },
  {
   "cell_type": "code",
   "execution_count": 53,
   "metadata": {},
   "outputs": [
    {
     "name": "stderr",
     "output_type": "stream",
     "text": [
      "(insert count: 215, delete count: 0, upsert count: 0, timestamp: 448493545498345476, success count: 215, err count: 0): 100%|██████████| 257/257 [00:28<00:00,  9.02it/s]  \n"
     ]
    },
    {
     "name": "stdout",
     "output_type": "stream",
     "text": [
      "Function update_list_document elapsed time: 0:00:28.505985\n"
     ]
    }
   ],
   "source": [
    "proc.index_list_document(features, ids)"
   ]
  },
  {
   "cell_type": "code",
   "execution_count": 55,
   "metadata": {},
   "outputs": [
    {
     "name": "stdout",
     "output_type": "stream",
     "text": [
      "Function search elapsed time: 0:00:00.398008\n",
      "(['20190421_105512_000', '20191009_064951_000', '20190416_090317_000'], [37583.96875, 37584.62890625, 37584.86328125])\n"
     ]
    }
   ],
   "source": [
    "query = np.ones((1, 768)) * 7\n",
    "results = proc.search(query, top_k=3)\n",
    "print(results)"
   ]
  },
  {
   "cell_type": "code",
   "execution_count": 56,
   "metadata": {},
   "outputs": [],
   "source": [
    "assert results[0] == ['20190421_105512_000', '20191009_064951_000', '20190416_090317_000'], \"Results are not as expected, index not belong to the CLIP embeddings\""
   ]
  },
  {
   "cell_type": "code",
   "execution_count": 57,
   "metadata": {},
   "outputs": [
    {
     "name": "stdout",
     "output_type": "stream",
     "text": [
      "Function search elapsed time: 0:00:00.270500\n"
     ]
    },
    {
     "data": {
      "text/plain": [
       "(['20190421_105512_000', '20190416_090317_000'], [37583.96875, 37584.86328125])"
      ]
     },
     "execution_count": 57,
     "metadata": {},
     "output_type": "execute_result"
    }
   ],
   "source": [
    "results = proc.search(query, top_k=10, filter=[\"20190421_105512_000\", \"20190416_090317_000\"])\n",
    "results"
   ]
  }
 ],
 "metadata": {
  "kernelspec": {
   "display_name": "service",
   "language": "python",
   "name": "python3"
  },
  "language_info": {
   "codemirror_mode": {
    "name": "ipython",
    "version": 3
   },
   "file_extension": ".py",
   "mimetype": "text/x-python",
   "name": "python",
   "nbconvert_exporter": "python",
   "pygments_lexer": "ipython3",
   "version": "3.11.8"
  },
  "orig_nbformat": 4,
  "vscode": {
   "interpreter": {
    "hash": "6f7d53329a8c7a3f02b52915f9761e1a636f352b70762b0e0e639d14f259ce92"
   }
  }
 },
 "nbformat": 4,
 "nbformat_minor": 2
}
