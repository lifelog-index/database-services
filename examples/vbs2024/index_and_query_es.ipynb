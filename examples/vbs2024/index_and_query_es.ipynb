{
 "cells": [
  {
   "cell_type": "code",
   "execution_count": 1,
   "metadata": {},
   "outputs": [],
   "source": [
    "import requests\n",
    "import os\n",
    "from datetime import datetime\n",
    "from dotenv import load_dotenv\n",
    "from pathlib import Path\n",
    "import numpy as np\n",
    "import pandas as pd \n",
    "\n",
    "dotenv_path = Path('.env')\n",
    "load_dotenv(dotenv_path=dotenv_path)\n",
    "\n",
    "ELASTIC_PORT = os.environ.get(\"ELASTIC_PORT\", None)\n",
    "ELASTIC_USERNAME = os.environ.get(\"ELASTIC_USERNAME\", None)\n",
    "ELASTIC_PASSWORD = os.environ.get(\"ELASTIC_PASSWORD\", None)\n",
    "\n",
    "assert ELASTIC_PORT is not None, \"ELASTIC_PORT is not set\"\n",
    "assert ELASTIC_USERNAME is not None, \"ELASTIC_USERNAME is not set\"\n",
    "assert ELASTIC_PASSWORD is not None, \"ELASTIC_PASSWORD is not set\"\n",
    "\n",
    "config = {\n",
    "    # Global config\n",
    "    \"HOST\": \"0.0.0.0\",\n",
    "    \"PORT\": ELASTIC_PORT,\n",
    "    \"USERNAME\": ELASTIC_USERNAME,\n",
    "    \"PASSWORD\": ELASTIC_PASSWORD,\n",
    "    \"INDEX\": None,\n",
    "    \"RETURN_SIZE\": 10,\n",
    "    \"CACHE_DIR\": \".cache/\",\n",
    "    \"DIMENSION\": 2,\n",
    "}"
   ]
  },
  {
   "cell_type": "markdown",
   "metadata": {},
   "source": [
    "## Prepapre DB"
   ]
  },
  {
   "cell_type": "code",
   "execution_count": 2,
   "metadata": {},
   "outputs": [],
   "source": [
    "import pandas as pd \n",
    "from tqdm import tqdm \n",
    "df = pd.read_csv('vbs22_meta.csv')"
   ]
  },
  {
   "cell_type": "code",
   "execution_count": 3,
   "metadata": {},
   "outputs": [
    {
     "data": {
      "text/html": [
       "<div>\n",
       "<style scoped>\n",
       "    .dataframe tbody tr th:only-of-type {\n",
       "        vertical-align: middle;\n",
       "    }\n",
       "\n",
       "    .dataframe tbody tr th {\n",
       "        vertical-align: top;\n",
       "    }\n",
       "\n",
       "    .dataframe thead th {\n",
       "        text-align: right;\n",
       "    }\n",
       "</style>\n",
       "<table border=\"1\" class=\"dataframe\">\n",
       "  <thead>\n",
       "    <tr style=\"text-align: right;\">\n",
       "      <th></th>\n",
       "      <th>path</th>\n",
       "      <th>filename</th>\n",
       "      <th>dataset</th>\n",
       "      <th>video</th>\n",
       "      <th>shot</th>\n",
       "      <th>score</th>\n",
       "      <th>yolo_concept</th>\n",
       "      <th>color</th>\n",
       "      <th>ocr</th>\n",
       "    </tr>\n",
       "  </thead>\n",
       "  <tbody>\n",
       "    <tr>\n",
       "      <th>0</th>\n",
       "      <td>VBS2022/keyframes/00001/shot00001_1_RKF.png</td>\n",
       "      <td>shot00001_1_RKF</td>\n",
       "      <td>V3C</td>\n",
       "      <td>1</td>\n",
       "      <td>1</td>\n",
       "      <td>0</td>\n",
       "      <td>{'person': 5, 'bicycle': 2, 'cell phone': 1}</td>\n",
       "      <td>['gray', 'black']</td>\n",
       "      <td>['']</td>\n",
       "    </tr>\n",
       "    <tr>\n",
       "      <th>1</th>\n",
       "      <td>VBS2022/keyframes/00001/shot00001_2_RKF.png</td>\n",
       "      <td>shot00001_2_RKF</td>\n",
       "      <td>V3C</td>\n",
       "      <td>1</td>\n",
       "      <td>2</td>\n",
       "      <td>0</td>\n",
       "      <td>{'person': 4}</td>\n",
       "      <td>['pink', 'purple', 'skin-color']</td>\n",
       "      <td>['']</td>\n",
       "    </tr>\n",
       "    <tr>\n",
       "      <th>2</th>\n",
       "      <td>VBS2022/keyframes/00001/shot00001_3_RKF.png</td>\n",
       "      <td>shot00001_3_RKF</td>\n",
       "      <td>V3C</td>\n",
       "      <td>1</td>\n",
       "      <td>3</td>\n",
       "      <td>0</td>\n",
       "      <td>{}</td>\n",
       "      <td>['pink', 'skin-color', 'gray']</td>\n",
       "      <td>['']</td>\n",
       "    </tr>\n",
       "    <tr>\n",
       "      <th>3</th>\n",
       "      <td>VBS2022/keyframes/00001/shot00001_4_RKF.png</td>\n",
       "      <td>shot00001_4_RKF</td>\n",
       "      <td>V3C</td>\n",
       "      <td>1</td>\n",
       "      <td>4</td>\n",
       "      <td>0</td>\n",
       "      <td>{'person': 5, 'bicycle': 5}</td>\n",
       "      <td>['pink', 'purple', 'white']</td>\n",
       "      <td>['']</td>\n",
       "    </tr>\n",
       "    <tr>\n",
       "      <th>4</th>\n",
       "      <td>VBS2022/keyframes/00001/shot00001_5_RKF.png</td>\n",
       "      <td>shot00001_5_RKF</td>\n",
       "      <td>V3C</td>\n",
       "      <td>1</td>\n",
       "      <td>5</td>\n",
       "      <td>0</td>\n",
       "      <td>{'person': 1, 'bicycle': 3}</td>\n",
       "      <td>['gray', 'black', 'blue']</td>\n",
       "      <td>['']</td>\n",
       "    </tr>\n",
       "  </tbody>\n",
       "</table>\n",
       "</div>"
      ],
      "text/plain": [
       "                                          path         filename dataset  \\\n",
       "0  VBS2022/keyframes/00001/shot00001_1_RKF.png  shot00001_1_RKF     V3C   \n",
       "1  VBS2022/keyframes/00001/shot00001_2_RKF.png  shot00001_2_RKF     V3C   \n",
       "2  VBS2022/keyframes/00001/shot00001_3_RKF.png  shot00001_3_RKF     V3C   \n",
       "3  VBS2022/keyframes/00001/shot00001_4_RKF.png  shot00001_4_RKF     V3C   \n",
       "4  VBS2022/keyframes/00001/shot00001_5_RKF.png  shot00001_5_RKF     V3C   \n",
       "\n",
       "   video  shot  score                                  yolo_concept  \\\n",
       "0      1     1      0  {'person': 5, 'bicycle': 2, 'cell phone': 1}   \n",
       "1      1     2      0                                 {'person': 4}   \n",
       "2      1     3      0                                            {}   \n",
       "3      1     4      0                   {'person': 5, 'bicycle': 5}   \n",
       "4      1     5      0                   {'person': 1, 'bicycle': 3}   \n",
       "\n",
       "                              color   ocr  \n",
       "0                 ['gray', 'black']  ['']  \n",
       "1  ['pink', 'purple', 'skin-color']  ['']  \n",
       "2    ['pink', 'skin-color', 'gray']  ['']  \n",
       "3       ['pink', 'purple', 'white']  ['']  \n",
       "4         ['gray', 'black', 'blue']  ['']  "
      ]
     },
     "execution_count": 3,
     "metadata": {},
     "output_type": "execute_result"
    }
   ],
   "source": [
    "df.head()"
   ]
  },
  {
   "cell_type": "markdown",
   "metadata": {},
   "source": [
    "## Create index in Elasticsearch"
   ]
  },
  {
   "cell_type": "code",
   "execution_count": 4,
   "metadata": {},
   "outputs": [],
   "source": [
    "from pysearch.elastic import ElasticProcessor\n",
    "from pysearch.utils.time import nlp2datetime"
   ]
  },
  {
   "cell_type": "code",
   "execution_count": 5,
   "metadata": {},
   "outputs": [
    {
     "name": "stdout",
     "output_type": "stream",
     "text": [
      "Connected to Elasticsearch node\n"
     ]
    }
   ],
   "source": [
    "config['INDEX'] = 'vbs24_db'\n",
    "proc = ElasticProcessor(config)"
   ]
  },
  {
   "cell_type": "code",
   "execution_count": 14,
   "metadata": {},
   "outputs": [
    {
     "name": "stderr",
     "output_type": "stream",
     "text": [
      "/home/lsc/miniforge3/envs/lsc/lib/python3.10/site-packages/elasticsearch/connection/base.py:208: ElasticsearchWarning: this request accesses system indices: [.kibana_ingest_8.11.0_001, .kibana_8.11.0_001, .kibana_task_manager_8.11.0_001, .kibana_alerting_cases_8.11.0_001, .apm-custom-link, .transform-internal-007, .kibana_analytics_8.11.0_001, .apm-agent-configuration, .kibana_security_solution_8.11.0_001], but in a future major version, direct access to system indices will be prevented by default\n",
      "  warnings.warn(message, category=ElasticsearchWarning)\n"
     ]
    },
    {
     "data": {
      "text/plain": [
       "['lsc24', 'test_index_lsc', 'vbs24_db', 'test_index']"
      ]
     },
     "execution_count": 14,
     "metadata": {},
     "output_type": "execute_result"
    }
   ],
   "source": [
    "[name for name in proc.available_indices() if not(name.startswith('.'))]"
   ]
  },
  {
   "cell_type": "code",
   "execution_count": 7,
   "metadata": {},
   "outputs": [],
   "source": [
    "# proc.kill('vbs22_db')"
   ]
  },
  {
   "cell_type": "code",
   "execution_count": 8,
   "metadata": {},
   "outputs": [],
   "source": [
    "df_structure = {  \n",
    "    \"mappings\": {\n",
    "        \"properties\": {\n",
    "            'index': {\"type\": \"text\"}, # required for pysearch\n",
    "            # \"date\": {\"type\": \"date\", \"format\": \"basic_date\"}, # required for pysearch            \n",
    "            'id': {\"type\": \"integer\"},\n",
    "            'path': {\"type\": \"text\"},\n",
    "            'video_id': {\"type\": \"text\"},\n",
    "            'shot_id': {\"type\": \"text\"},\n",
    "            'yolo_concept': {\"type\": \"text\"},\n",
    "            'color': {\"type\": \"text\"},\n",
    "            'ocr': {\"type\": \"text\"},\n",
    "        }\n",
    "    }\n",
    "}"
   ]
  },
  {
   "cell_type": "code",
   "execution_count": 9,
   "metadata": {},
   "outputs": [
    {
     "name": "stderr",
     "output_type": "stream",
     "text": [
      "100%|██████████| 2508110/2508110 [05:08<00:00, 8127.13it/s] \n"
     ]
    }
   ],
   "source": [
    "df['index'] = df['filename'] \n",
    "df.head()\n",
    "proc.index_dataframe(df, df_structure)"
   ]
  },
  {
   "cell_type": "code",
   "execution_count": 10,
   "metadata": {},
   "outputs": [
    {
     "data": {
      "text/html": [
       "<pre style=\"white-space:pre;overflow-x:auto;line-height:normal;font-family:Menlo,'DejaVu Sans Mono',consolas,'Courier New',monospace\"><span style=\"font-weight: bold\">{</span>\n",
       "    <span style=\"color: #008000; text-decoration-color: #008000\">'mapping'</span>: <span style=\"font-weight: bold\">{</span>\n",
       "        <span style=\"color: #008000; text-decoration-color: #008000\">'properties'</span>: <span style=\"font-weight: bold\">{</span>\n",
       "            <span style=\"color: #008000; text-decoration-color: #008000\">'color'</span>: <span style=\"font-weight: bold\">{</span><span style=\"color: #008000; text-decoration-color: #008000\">'type'</span>: <span style=\"color: #008000; text-decoration-color: #008000\">'text'</span><span style=\"font-weight: bold\">}</span>,\n",
       "            <span style=\"color: #008000; text-decoration-color: #008000\">'dataset'</span>: <span style=\"font-weight: bold\">{</span><span style=\"color: #008000; text-decoration-color: #008000\">'type'</span>: <span style=\"color: #008000; text-decoration-color: #008000\">'text'</span>, <span style=\"color: #008000; text-decoration-color: #008000\">'fields'</span>: <span style=\"font-weight: bold\">{</span><span style=\"color: #008000; text-decoration-color: #008000\">'keyword'</span>: <span style=\"font-weight: bold\">{</span><span style=\"color: #008000; text-decoration-color: #008000\">'type'</span>: <span style=\"color: #008000; text-decoration-color: #008000\">'keyword'</span>, <span style=\"color: #008000; text-decoration-color: #008000\">'ignore_above'</span>: <span style=\"color: #008080; text-decoration-color: #008080; font-weight: bold\">256</span><span style=\"font-weight: bold\">}}}</span>,\n",
       "            <span style=\"color: #008000; text-decoration-color: #008000\">'filename'</span>: <span style=\"font-weight: bold\">{</span><span style=\"color: #008000; text-decoration-color: #008000\">'type'</span>: <span style=\"color: #008000; text-decoration-color: #008000\">'text'</span>, <span style=\"color: #008000; text-decoration-color: #008000\">'fields'</span>: <span style=\"font-weight: bold\">{</span><span style=\"color: #008000; text-decoration-color: #008000\">'keyword'</span>: <span style=\"font-weight: bold\">{</span><span style=\"color: #008000; text-decoration-color: #008000\">'type'</span>: <span style=\"color: #008000; text-decoration-color: #008000\">'keyword'</span>, <span style=\"color: #008000; text-decoration-color: #008000\">'ignore_above'</span>: <span style=\"color: #008080; text-decoration-color: #008080; font-weight: bold\">256</span><span style=\"font-weight: bold\">}}}</span>,\n",
       "            <span style=\"color: #008000; text-decoration-color: #008000\">'id'</span>: <span style=\"font-weight: bold\">{</span><span style=\"color: #008000; text-decoration-color: #008000\">'type'</span>: <span style=\"color: #008000; text-decoration-color: #008000\">'integer'</span><span style=\"font-weight: bold\">}</span>,\n",
       "            <span style=\"color: #008000; text-decoration-color: #008000\">'index'</span>: <span style=\"font-weight: bold\">{</span><span style=\"color: #008000; text-decoration-color: #008000\">'type'</span>: <span style=\"color: #008000; text-decoration-color: #008000\">'text'</span><span style=\"font-weight: bold\">}</span>,\n",
       "            <span style=\"color: #008000; text-decoration-color: #008000\">'ocr'</span>: <span style=\"font-weight: bold\">{</span><span style=\"color: #008000; text-decoration-color: #008000\">'type'</span>: <span style=\"color: #008000; text-decoration-color: #008000\">'text'</span><span style=\"font-weight: bold\">}</span>,\n",
       "            <span style=\"color: #008000; text-decoration-color: #008000\">'path'</span>: <span style=\"font-weight: bold\">{</span><span style=\"color: #008000; text-decoration-color: #008000\">'type'</span>: <span style=\"color: #008000; text-decoration-color: #008000\">'text'</span><span style=\"font-weight: bold\">}</span>,\n",
       "            <span style=\"color: #008000; text-decoration-color: #008000\">'score'</span>: <span style=\"font-weight: bold\">{</span><span style=\"color: #008000; text-decoration-color: #008000\">'type'</span>: <span style=\"color: #008000; text-decoration-color: #008000\">'long'</span><span style=\"font-weight: bold\">}</span>,\n",
       "            <span style=\"color: #008000; text-decoration-color: #008000\">'shot'</span>: <span style=\"font-weight: bold\">{</span><span style=\"color: #008000; text-decoration-color: #008000\">'type'</span>: <span style=\"color: #008000; text-decoration-color: #008000\">'long'</span><span style=\"font-weight: bold\">}</span>,\n",
       "            <span style=\"color: #008000; text-decoration-color: #008000\">'shot_id'</span>: <span style=\"font-weight: bold\">{</span><span style=\"color: #008000; text-decoration-color: #008000\">'type'</span>: <span style=\"color: #008000; text-decoration-color: #008000\">'text'</span><span style=\"font-weight: bold\">}</span>,\n",
       "            <span style=\"color: #008000; text-decoration-color: #008000\">'video'</span>: <span style=\"font-weight: bold\">{</span><span style=\"color: #008000; text-decoration-color: #008000\">'type'</span>: <span style=\"color: #008000; text-decoration-color: #008000\">'long'</span><span style=\"font-weight: bold\">}</span>,\n",
       "            <span style=\"color: #008000; text-decoration-color: #008000\">'video_id'</span>: <span style=\"font-weight: bold\">{</span><span style=\"color: #008000; text-decoration-color: #008000\">'type'</span>: <span style=\"color: #008000; text-decoration-color: #008000\">'text'</span><span style=\"font-weight: bold\">}</span>,\n",
       "            <span style=\"color: #008000; text-decoration-color: #008000\">'yolo_concept'</span>: <span style=\"font-weight: bold\">{</span><span style=\"color: #008000; text-decoration-color: #008000\">'type'</span>: <span style=\"color: #008000; text-decoration-color: #008000\">'text'</span><span style=\"font-weight: bold\">}</span>\n",
       "        <span style=\"font-weight: bold\">}</span>\n",
       "    <span style=\"font-weight: bold\">}</span>,\n",
       "    <span style=\"color: #008000; text-decoration-color: #008000\">'num_documents'</span>: <span style=\"color: #008080; text-decoration-color: #008080; font-weight: bold\">2508110</span>\n",
       "<span style=\"font-weight: bold\">}</span>\n",
       "</pre>\n"
      ],
      "text/plain": [
       "\u001b[1m{\u001b[0m\n",
       "    \u001b[32m'mapping'\u001b[0m: \u001b[1m{\u001b[0m\n",
       "        \u001b[32m'properties'\u001b[0m: \u001b[1m{\u001b[0m\n",
       "            \u001b[32m'color'\u001b[0m: \u001b[1m{\u001b[0m\u001b[32m'type'\u001b[0m: \u001b[32m'text'\u001b[0m\u001b[1m}\u001b[0m,\n",
       "            \u001b[32m'dataset'\u001b[0m: \u001b[1m{\u001b[0m\u001b[32m'type'\u001b[0m: \u001b[32m'text'\u001b[0m, \u001b[32m'fields'\u001b[0m: \u001b[1m{\u001b[0m\u001b[32m'keyword'\u001b[0m: \u001b[1m{\u001b[0m\u001b[32m'type'\u001b[0m: \u001b[32m'keyword'\u001b[0m, \u001b[32m'ignore_above'\u001b[0m: \u001b[1;36m256\u001b[0m\u001b[1m}\u001b[0m\u001b[1m}\u001b[0m\u001b[1m}\u001b[0m,\n",
       "            \u001b[32m'filename'\u001b[0m: \u001b[1m{\u001b[0m\u001b[32m'type'\u001b[0m: \u001b[32m'text'\u001b[0m, \u001b[32m'fields'\u001b[0m: \u001b[1m{\u001b[0m\u001b[32m'keyword'\u001b[0m: \u001b[1m{\u001b[0m\u001b[32m'type'\u001b[0m: \u001b[32m'keyword'\u001b[0m, \u001b[32m'ignore_above'\u001b[0m: \u001b[1;36m256\u001b[0m\u001b[1m}\u001b[0m\u001b[1m}\u001b[0m\u001b[1m}\u001b[0m,\n",
       "            \u001b[32m'id'\u001b[0m: \u001b[1m{\u001b[0m\u001b[32m'type'\u001b[0m: \u001b[32m'integer'\u001b[0m\u001b[1m}\u001b[0m,\n",
       "            \u001b[32m'index'\u001b[0m: \u001b[1m{\u001b[0m\u001b[32m'type'\u001b[0m: \u001b[32m'text'\u001b[0m\u001b[1m}\u001b[0m,\n",
       "            \u001b[32m'ocr'\u001b[0m: \u001b[1m{\u001b[0m\u001b[32m'type'\u001b[0m: \u001b[32m'text'\u001b[0m\u001b[1m}\u001b[0m,\n",
       "            \u001b[32m'path'\u001b[0m: \u001b[1m{\u001b[0m\u001b[32m'type'\u001b[0m: \u001b[32m'text'\u001b[0m\u001b[1m}\u001b[0m,\n",
       "            \u001b[32m'score'\u001b[0m: \u001b[1m{\u001b[0m\u001b[32m'type'\u001b[0m: \u001b[32m'long'\u001b[0m\u001b[1m}\u001b[0m,\n",
       "            \u001b[32m'shot'\u001b[0m: \u001b[1m{\u001b[0m\u001b[32m'type'\u001b[0m: \u001b[32m'long'\u001b[0m\u001b[1m}\u001b[0m,\n",
       "            \u001b[32m'shot_id'\u001b[0m: \u001b[1m{\u001b[0m\u001b[32m'type'\u001b[0m: \u001b[32m'text'\u001b[0m\u001b[1m}\u001b[0m,\n",
       "            \u001b[32m'video'\u001b[0m: \u001b[1m{\u001b[0m\u001b[32m'type'\u001b[0m: \u001b[32m'long'\u001b[0m\u001b[1m}\u001b[0m,\n",
       "            \u001b[32m'video_id'\u001b[0m: \u001b[1m{\u001b[0m\u001b[32m'type'\u001b[0m: \u001b[32m'text'\u001b[0m\u001b[1m}\u001b[0m,\n",
       "            \u001b[32m'yolo_concept'\u001b[0m: \u001b[1m{\u001b[0m\u001b[32m'type'\u001b[0m: \u001b[32m'text'\u001b[0m\u001b[1m}\u001b[0m\n",
       "        \u001b[1m}\u001b[0m\n",
       "    \u001b[1m}\u001b[0m,\n",
       "    \u001b[32m'num_documents'\u001b[0m: \u001b[1;36m2508110\u001b[0m\n",
       "\u001b[1m}\u001b[0m\n"
      ]
     },
     "metadata": {},
     "output_type": "display_data"
    }
   ],
   "source": [
    "import rich\n",
    "rich.print(proc.info())"
   ]
  },
  {
   "cell_type": "code",
   "execution_count": 11,
   "metadata": {},
   "outputs": [
    {
     "name": "stdout",
     "output_type": "stream",
     "text": [
      "[Pysearch] Function run elapsed time: 0:00:00.000006\n"
     ]
    },
    {
     "data": {
      "text/plain": [
       "[{'_index': 'vbs24_db',\n",
       "  '_id': 'shot10437_67_RKF',\n",
       "  '_score': 13.235781,\n",
       "  '_source': {'path': 'VBS2022/keyframes/10437/shot10437_67_RKF.png',\n",
       "   'filename': 'shot10437_67_RKF',\n",
       "   'dataset': 'V3C',\n",
       "   'video': 10437,\n",
       "   'shot': 67,\n",
       "   'score': 0,\n",
       "   'yolo_concept': \"{'person': 1}\",\n",
       "   'color': \"['skin-color', 'black', 'purple', 'orange', 'white']\",\n",
       "   'ocr': \"['You put on airplane mode and you take that s*#%!']\"}},\n",
       " {'_index': 'vbs24_db',\n",
       "  '_id': 'shot00478_28_RKF',\n",
       "  '_score': 5.8676715,\n",
       "  '_source': {'path': 'VBS2022/keyframes/00478/shot00478_28_RKF.png',\n",
       "   'filename': 'shot00478_28_RKF',\n",
       "   'dataset': 'V3C',\n",
       "   'video': 478,\n",
       "   'shot': 28,\n",
       "   'score': 0,\n",
       "   'yolo_concept': \"{'airplane': 2}\",\n",
       "   'color': \"['gray', 'black']\",\n",
       "   'ocr': \"['']\"}},\n",
       " {'_index': 'vbs24_db',\n",
       "  '_id': 'shot00478_37_RKF',\n",
       "  '_score': 5.8676715,\n",
       "  '_source': {'path': 'VBS2022/keyframes/00478/shot00478_37_RKF.png',\n",
       "   'filename': 'shot00478_37_RKF',\n",
       "   'dataset': 'V3C',\n",
       "   'video': 478,\n",
       "   'shot': 37,\n",
       "   'score': 0,\n",
       "   'yolo_concept': \"{'airplane': 1}\",\n",
       "   'color': \"['gray', 'black', 'purple']\",\n",
       "   'ocr': \"['']\"}},\n",
       " {'_index': 'vbs24_db',\n",
       "  '_id': 'shot00480_193_RKF',\n",
       "  '_score': 5.8676715,\n",
       "  '_source': {'path': 'VBS2022/keyframes/00480/shot00480_193_RKF.png',\n",
       "   'filename': 'shot00480_193_RKF',\n",
       "   'dataset': 'V3C',\n",
       "   'video': 480,\n",
       "   'shot': 193,\n",
       "   'score': 0,\n",
       "   'yolo_concept': \"{'airplane': 1}\",\n",
       "   'color': \"['black', 'gray']\",\n",
       "   'ocr': \"['']\"}},\n",
       " {'_index': 'vbs24_db',\n",
       "  '_id': 'shot00485_270_RKF',\n",
       "  '_score': 5.8676715,\n",
       "  '_source': {'path': 'VBS2022/keyframes/00485/shot00485_270_RKF.png',\n",
       "   'filename': 'shot00485_270_RKF',\n",
       "   'dataset': 'V3C',\n",
       "   'video': 485,\n",
       "   'shot': 270,\n",
       "   'score': 0,\n",
       "   'yolo_concept': \"{'airplane': 1}\",\n",
       "   'color': \"['green', 'black']\",\n",
       "   'ocr': \"['']\"}},\n",
       " {'_index': 'vbs24_db',\n",
       "  '_id': 'shot00492_103_RKF',\n",
       "  '_score': 5.8676715,\n",
       "  '_source': {'path': 'VBS2022/keyframes/00492/shot00492_103_RKF.png',\n",
       "   'filename': 'shot00492_103_RKF',\n",
       "   'dataset': 'V3C',\n",
       "   'video': 492,\n",
       "   'shot': 103,\n",
       "   'score': 0,\n",
       "   'yolo_concept': \"{'airplane': 1}\",\n",
       "   'color': \"['green', 'white', 'black', 'blue']\",\n",
       "   'ocr': \"['']\"}},\n",
       " {'_index': 'vbs24_db',\n",
       "  '_id': 'shot00492_106_RKF',\n",
       "  '_score': 5.8676715,\n",
       "  '_source': {'path': 'VBS2022/keyframes/00492/shot00492_106_RKF.png',\n",
       "   'filename': 'shot00492_106_RKF',\n",
       "   'dataset': 'V3C',\n",
       "   'video': 492,\n",
       "   'shot': 106,\n",
       "   'score': 0,\n",
       "   'yolo_concept': \"{'airplane': 1}\",\n",
       "   'color': \"['green', 'blue']\",\n",
       "   'ocr': \"['']\"}},\n",
       " {'_index': 'vbs24_db',\n",
       "  '_id': 'shot00492_135_RKF',\n",
       "  '_score': 5.8676715,\n",
       "  '_source': {'path': 'VBS2022/keyframes/00492/shot00492_135_RKF.png',\n",
       "   'filename': 'shot00492_135_RKF',\n",
       "   'dataset': 'V3C',\n",
       "   'video': 492,\n",
       "   'shot': 135,\n",
       "   'score': 0,\n",
       "   'yolo_concept': \"{'airplane': 2}\",\n",
       "   'color': \"['white', 'green', 'yellow', 'black']\",\n",
       "   'ocr': \"['']\"}},\n",
       " {'_index': 'vbs24_db',\n",
       "  '_id': 'shot00493_49_RKF',\n",
       "  '_score': 5.8676715,\n",
       "  '_source': {'path': 'VBS2022/keyframes/00493/shot00493_49_RKF.png',\n",
       "   'filename': 'shot00493_49_RKF',\n",
       "   'dataset': 'V3C',\n",
       "   'video': 493,\n",
       "   'shot': 49,\n",
       "   'score': 0,\n",
       "   'yolo_concept': \"{'airplane': 1}\",\n",
       "   'color': \"['gray', 'skin-color', 'white']\",\n",
       "   'ocr': \"['']\"}},\n",
       " {'_index': 'vbs24_db',\n",
       "  '_id': 'shot00493_50_RKF',\n",
       "  '_score': 5.8676715,\n",
       "  '_source': {'path': 'VBS2022/keyframes/00493/shot00493_50_RKF.png',\n",
       "   'filename': 'shot00493_50_RKF',\n",
       "   'dataset': 'V3C',\n",
       "   'video': 493,\n",
       "   'shot': 50,\n",
       "   'score': 0,\n",
       "   'yolo_concept': \"{'airplane': 2}\",\n",
       "   'color': \"['green', 'yellow']\",\n",
       "   'ocr': \"['']\"}}]"
      ]
     },
     "execution_count": 11,
     "metadata": {},
     "output_type": "execute_result"
    }
   ],
   "source": [
    "proc.search(\"airplane\")"
   ]
  },
  {
   "cell_type": "code",
   "execution_count": 12,
   "metadata": {},
   "outputs": [
    {
     "name": "stdout",
     "output_type": "stream",
     "text": [
      "[Pysearch] Function run elapsed time: 0:00:00.000007\n"
     ]
    },
    {
     "data": {
      "text/plain": [
       "[{'_index': 'vbs24_db',\n",
       "  '_id': 'shot00608_141_RKF',\n",
       "  '_score': 6.8676715,\n",
       "  '_source': {'path': 'VBS2022/keyframes/00608/shot00608_141_RKF.png',\n",
       "   'filename': 'shot00608_141_RKF',\n",
       "   'dataset': 'V3C',\n",
       "   'video': 608,\n",
       "   'shot': 141,\n",
       "   'score': 0,\n",
       "   'yolo_concept': \"{'airplane': 1}\",\n",
       "   'color': \"['white', 'purple', 'blue', 'pink']\",\n",
       "   'ocr': \"['']\"}},\n",
       " {'_index': 'vbs24_db',\n",
       "  '_id': 'shot00627_273_RKF',\n",
       "  '_score': 6.8676715,\n",
       "  '_source': {'path': 'VBS2022/keyframes/00627/shot00627_273_RKF.png',\n",
       "   'filename': 'shot00627_273_RKF',\n",
       "   'dataset': 'V3C',\n",
       "   'video': 627,\n",
       "   'shot': 273,\n",
       "   'score': 0,\n",
       "   'yolo_concept': \"{'airplane': 1}\",\n",
       "   'color': \"['white', 'green', 'gray']\",\n",
       "   'ocr': \"['']\"}}]"
      ]
     },
     "execution_count": 12,
     "metadata": {},
     "output_type": "execute_result"
    }
   ],
   "source": [
    "proc.search(\"airplane\", top_k=10, filter=[\"shot00627_273_RKF\", \"shot00608_141_RKF\"])"
   ]
  },
  {
   "cell_type": "code",
   "execution_count": 13,
   "metadata": {},
   "outputs": [
    {
     "name": "stdout",
     "output_type": "stream",
     "text": [
      "[Pysearch] Function get_document_by_id elapsed time: 0:00:00.022315\n"
     ]
    },
    {
     "data": {
      "text/html": [
       "<pre style=\"white-space:pre;overflow-x:auto;line-height:normal;font-family:Menlo,'DejaVu Sans Mono',consolas,'Courier New',monospace\"><span style=\"font-weight: bold\">[</span>\n",
       "    <span style=\"font-weight: bold\">{</span>\n",
       "        <span style=\"color: #008000; text-decoration-color: #008000\">'_index'</span>: <span style=\"color: #008000; text-decoration-color: #008000\">'vbs24_db'</span>,\n",
       "        <span style=\"color: #008000; text-decoration-color: #008000\">'_id'</span>: <span style=\"color: #008000; text-decoration-color: #008000\">'shot00627_273_RKF'</span>,\n",
       "        <span style=\"color: #008000; text-decoration-color: #008000\">'_score'</span>: <span style=\"color: #008080; text-decoration-color: #008080; font-weight: bold\">2.0</span>,\n",
       "        <span style=\"color: #008000; text-decoration-color: #008000\">'_source'</span>: <span style=\"font-weight: bold\">{</span>\n",
       "            <span style=\"color: #008000; text-decoration-color: #008000\">'path'</span>: <span style=\"color: #008000; text-decoration-color: #008000\">'VBS2022/keyframes/00627/shot00627_273_RKF.png'</span>,\n",
       "            <span style=\"color: #008000; text-decoration-color: #008000\">'filename'</span>: <span style=\"color: #008000; text-decoration-color: #008000\">'shot00627_273_RKF'</span>,\n",
       "            <span style=\"color: #008000; text-decoration-color: #008000\">'dataset'</span>: <span style=\"color: #008000; text-decoration-color: #008000\">'V3C'</span>,\n",
       "            <span style=\"color: #008000; text-decoration-color: #008000\">'video'</span>: <span style=\"color: #008080; text-decoration-color: #008080; font-weight: bold\">627</span>,\n",
       "            <span style=\"color: #008000; text-decoration-color: #008000\">'shot'</span>: <span style=\"color: #008080; text-decoration-color: #008080; font-weight: bold\">273</span>,\n",
       "            <span style=\"color: #008000; text-decoration-color: #008000\">'score'</span>: <span style=\"color: #008080; text-decoration-color: #008080; font-weight: bold\">0</span>,\n",
       "            <span style=\"color: #008000; text-decoration-color: #008000\">'yolo_concept'</span>: <span style=\"color: #008000; text-decoration-color: #008000\">\"{'airplane': 1}\"</span>,\n",
       "            <span style=\"color: #008000; text-decoration-color: #008000\">'color'</span>: <span style=\"color: #008000; text-decoration-color: #008000\">\"['white', 'green', 'gray']\"</span>,\n",
       "            <span style=\"color: #008000; text-decoration-color: #008000\">'ocr'</span>: <span style=\"color: #008000; text-decoration-color: #008000\">\"['']\"</span>\n",
       "        <span style=\"font-weight: bold\">}</span>\n",
       "    <span style=\"font-weight: bold\">}</span>\n",
       "<span style=\"font-weight: bold\">]</span>\n",
       "</pre>\n"
      ],
      "text/plain": [
       "\u001b[1m[\u001b[0m\n",
       "    \u001b[1m{\u001b[0m\n",
       "        \u001b[32m'_index'\u001b[0m: \u001b[32m'vbs24_db'\u001b[0m,\n",
       "        \u001b[32m'_id'\u001b[0m: \u001b[32m'shot00627_273_RKF'\u001b[0m,\n",
       "        \u001b[32m'_score'\u001b[0m: \u001b[1;36m2.0\u001b[0m,\n",
       "        \u001b[32m'_source'\u001b[0m: \u001b[1m{\u001b[0m\n",
       "            \u001b[32m'path'\u001b[0m: \u001b[32m'VBS2022/keyframes/00627/shot00627_273_RKF.png'\u001b[0m,\n",
       "            \u001b[32m'filename'\u001b[0m: \u001b[32m'shot00627_273_RKF'\u001b[0m,\n",
       "            \u001b[32m'dataset'\u001b[0m: \u001b[32m'V3C'\u001b[0m,\n",
       "            \u001b[32m'video'\u001b[0m: \u001b[1;36m627\u001b[0m,\n",
       "            \u001b[32m'shot'\u001b[0m: \u001b[1;36m273\u001b[0m,\n",
       "            \u001b[32m'score'\u001b[0m: \u001b[1;36m0\u001b[0m,\n",
       "            \u001b[32m'yolo_concept'\u001b[0m: \u001b[32m\"\u001b[0m\u001b[32m{\u001b[0m\u001b[32m'airplane': 1\u001b[0m\u001b[32m}\u001b[0m\u001b[32m\"\u001b[0m,\n",
       "            \u001b[32m'color'\u001b[0m: \u001b[32m\"\u001b[0m\u001b[32m[\u001b[0m\u001b[32m'white', 'green', 'gray'\u001b[0m\u001b[32m]\u001b[0m\u001b[32m\"\u001b[0m,\n",
       "            \u001b[32m'ocr'\u001b[0m: \u001b[32m\"\u001b[0m\u001b[32m[\u001b[0m\u001b[32m''\u001b[0m\u001b[32m]\u001b[0m\u001b[32m\"\u001b[0m\n",
       "        \u001b[1m}\u001b[0m\n",
       "    \u001b[1m}\u001b[0m\n",
       "\u001b[1m]\u001b[0m\n"
      ]
     },
     "metadata": {},
     "output_type": "display_data"
    }
   ],
   "source": [
    "rich.print(proc.get_document_by_id(['shot00627_273_RKF']))"
   ]
  }
 ],
 "metadata": {
  "kernelspec": {
   "display_name": "elastic",
   "language": "python",
   "name": "python3"
  },
  "language_info": {
   "codemirror_mode": {
    "name": "ipython",
    "version": 3
   },
   "file_extension": ".py",
   "mimetype": "text/x-python",
   "name": "python",
   "nbconvert_exporter": "python",
   "pygments_lexer": "ipython3",
   "version": "3.10.14"
  },
  "orig_nbformat": 4,
  "vscode": {
   "interpreter": {
    "hash": "3e242d2624af79f4ab82e775fce7e2f7901da21f9b094faabf8c3149972e54fd"
   }
  }
 },
 "nbformat": 4,
 "nbformat_minor": 2
}
