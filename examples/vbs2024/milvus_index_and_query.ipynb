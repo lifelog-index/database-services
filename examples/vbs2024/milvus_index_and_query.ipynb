{
 "cells": [
  {
   "cell_type": "code",
   "execution_count": 1,
   "metadata": {},
   "outputs": [],
   "source": [
    "import os\n",
    "from pathlib import Path\n",
    "import rich\n",
    "import numpy as np\n",
    "from dotenv import load_dotenv\n",
    "from tqdm import tqdm\n",
    "dotenv_path = Path('.env')\n",
    "\n",
    "load_dotenv(dotenv_path=dotenv_path)\n",
    "\n",
    "CLIP_PORT = os.environ.get(\"CLIP_PORT\", None)\n",
    "MILVUS_PORT = os.environ.get(\"MILVUS_PORT\", None)\n",
    "\n",
    "assert CLIP_PORT is not None, \"CLIP_PORT is not set\"\n",
    "assert MILVUS_PORT is not None, \"MILVUS_PORT is not set\"\n",
    "\n",
    "from pysearch.milvus import Milvus2Processor as MilvusProcessor"
   ]
  },
  {
   "cell_type": "code",
   "execution_count": 2,
   "metadata": {},
   "outputs": [],
   "source": [
    "config = {\n",
    "    # Global config\n",
    "    \"HOST\": \"0.0.0.0\",\n",
    "    \"PORT\": MILVUS_PORT,\n",
    "    \"INDEX\": \"vbs24vector\",\n",
    "    \"RETURN_SIZE\": 10,\n",
    "    \"CACHE_DIR\": \".cache/\",\n",
    "    # Milvus config\n",
    "    \"DIMENSION\": 768,\n",
    "}"
   ]
  },
  {
   "cell_type": "code",
   "execution_count": 3,
   "metadata": {},
   "outputs": [
    {
     "name": "stdout",
     "output_type": "stream",
     "text": [
      "\n",
      "Create connection...\n"
     ]
    },
    {
     "data": {
      "text/html": [
       "<pre style=\"white-space:pre;overflow-x:auto;line-height:normal;font-family:Menlo,'DejaVu Sans Mono',consolas,'Courier New',monospace\"><span style=\"font-weight: bold\">{</span>\n",
       "    <span style=\"color: #008000; text-decoration-color: #008000\">'name'</span>: <span style=\"color: #008000; text-decoration-color: #008000\">'vbs24vector'</span>,\n",
       "    <span style=\"color: #008000; text-decoration-color: #008000\">'description'</span>: <span style=\"color: #008000; text-decoration-color: #008000\">'Pysearch collection'</span>,\n",
       "    <span style=\"color: #008000; text-decoration-color: #008000\">'num_entities'</span>: <span style=\"color: #008080; text-decoration-color: #008080; font-weight: bold\">0</span>,\n",
       "    <span style=\"color: #008000; text-decoration-color: #008000\">'collections'</span>: <span style=\"font-weight: bold\">[</span><span style=\"color: #008000; text-decoration-color: #008000\">'vbs24vector'</span><span style=\"font-weight: bold\">]</span>,\n",
       "    <span style=\"color: #008000; text-decoration-color: #008000\">'details'</span>: <span style=\"font-weight: bold\">[{</span><span style=\"color: #008000; text-decoration-color: #008000\">'metric_type'</span>: <span style=\"color: #008000; text-decoration-color: #008000\">'L2'</span>, <span style=\"color: #008000; text-decoration-color: #008000\">'index_type'</span>: <span style=\"color: #008000; text-decoration-color: #008000\">'IVF_FLAT'</span>, <span style=\"color: #008000; text-decoration-color: #008000\">'params'</span>: <span style=\"font-weight: bold\">{</span><span style=\"color: #008000; text-decoration-color: #008000\">'nlist'</span>: <span style=\"color: #008080; text-decoration-color: #008080; font-weight: bold\">2048</span><span style=\"font-weight: bold\">}}]</span>\n",
       "<span style=\"font-weight: bold\">}</span>\n",
       "</pre>\n"
      ],
      "text/plain": [
       "\u001b[1m{\u001b[0m\n",
       "    \u001b[32m'name'\u001b[0m: \u001b[32m'vbs24vector'\u001b[0m,\n",
       "    \u001b[32m'description'\u001b[0m: \u001b[32m'Pysearch collection'\u001b[0m,\n",
       "    \u001b[32m'num_entities'\u001b[0m: \u001b[1;36m0\u001b[0m,\n",
       "    \u001b[32m'collections'\u001b[0m: \u001b[1m[\u001b[0m\u001b[32m'vbs24vector'\u001b[0m\u001b[1m]\u001b[0m,\n",
       "    \u001b[32m'details'\u001b[0m: \u001b[1m[\u001b[0m\u001b[1m{\u001b[0m\u001b[32m'metric_type'\u001b[0m: \u001b[32m'L2'\u001b[0m, \u001b[32m'index_type'\u001b[0m: \u001b[32m'IVF_FLAT'\u001b[0m, \u001b[32m'params'\u001b[0m: \u001b[1m{\u001b[0m\u001b[32m'nlist'\u001b[0m: \u001b[1;36m2048\u001b[0m\u001b[1m}\u001b[0m\u001b[1m}\u001b[0m\u001b[1m]\u001b[0m\n",
       "\u001b[1m}\u001b[0m\n"
      ]
     },
     "metadata": {},
     "output_type": "display_data"
    }
   ],
   "source": [
    "proc = MilvusProcessor(config, autoload_collection=False)\n",
    "rich.print(proc.info())"
   ]
  },
  {
   "cell_type": "code",
   "execution_count": 4,
   "metadata": {},
   "outputs": [],
   "source": [
    "proc.kill('vbs24vector')"
   ]
  },
  {
   "cell_type": "code",
   "execution_count": 5,
   "metadata": {},
   "outputs": [],
   "source": [
    "root = Path('/home/lsc/2024/vbs24/datahub/')"
   ]
  },
  {
   "cell_type": "code",
   "execution_count": 6,
   "metadata": {},
   "outputs": [
    {
     "name": "stdout",
     "output_type": "stream",
     "text": [
      "head: error reading '/home/lsc/2024/vbs24/datahub': Is a directory\n"
     ]
    }
   ],
   "source": [
    "!head -n 10 {root}"
   ]
  },
  {
   "cell_type": "code",
   "execution_count": 7,
   "metadata": {},
   "outputs": [
    {
     "data": {
      "text/plain": [
       "2508110"
      ]
     },
     "execution_count": 7,
     "metadata": {},
     "output_type": "execute_result"
    }
   ],
   "source": [
    "with open(root / \"filenames/V3C_image_names.txt\") as f:\n",
    "    lines = f.readlines()\n",
    "    lines = [line.strip() for line in lines]\n",
    "\n",
    "using_ids = set(lines)\n",
    "using_ids = [Path(x).stem for x in using_ids]\n",
    "len(using_ids)"
   ]
  },
  {
   "cell_type": "code",
   "execution_count": 8,
   "metadata": {},
   "outputs": [
    {
     "data": {
      "text/plain": [
       "2508110"
      ]
     },
     "execution_count": 8,
     "metadata": {},
     "output_type": "execute_result"
    }
   ],
   "source": [
    "data = np.load(root / \"embedding_features/V3C_L14_336_features_128.pkl\", allow_pickle=True)\n",
    "# data = data.item()\n",
    "len(data)"
   ]
  },
  {
   "cell_type": "code",
   "execution_count": 9,
   "metadata": {},
   "outputs": [],
   "source": [
    "# print(list(data.items())[0])\n",
    "# 'shot00001_1_RKF.png' : []"
   ]
  },
  {
   "cell_type": "code",
   "execution_count": 10,
   "metadata": {},
   "outputs": [],
   "source": [
    "# Path('shot00001_1_RKF.png').stem\n",
    "# 20190101_103717_000"
   ]
  },
  {
   "cell_type": "code",
   "execution_count": 11,
   "metadata": {},
   "outputs": [
    {
     "name": "stderr",
     "output_type": "stream",
     "text": [
      "  0%|          | 0/2508110 [00:00<?, ?it/s]"
     ]
    },
    {
     "name": "stderr",
     "output_type": "stream",
     "text": [
      "100%|██████████| 2508110/2508110 [00:06<00:00, 372748.96it/s]\n"
     ]
    }
   ],
   "source": [
    "data = {Path(k).stem: v for k, v in tqdm(data.items())} # remove extension, e.g. .jpg. From 000000.jpg to 000000"
   ]
  },
  {
   "cell_type": "code",
   "execution_count": 12,
   "metadata": {},
   "outputs": [],
   "source": [
    "# data = {k: v for k, v in tqdm(data.items()) if k in using_ids}"
   ]
  },
  {
   "cell_type": "code",
   "execution_count": 13,
   "metadata": {},
   "outputs": [],
   "source": [
    "features = np.array([x[1] for x in  data.items()])\n",
    "ids = np.array([x[0] for x in data.items()])"
   ]
  },
  {
   "cell_type": "code",
   "execution_count": 14,
   "metadata": {},
   "outputs": [
    {
     "name": "stdout",
     "output_type": "stream",
     "text": [
      "shot00001_1_RKF\n",
      "(768,)\n"
     ]
    }
   ],
   "source": [
    "# example of an id and a feature vector \n",
    "print(ids[0])\n",
    "print(features[0].shape)"
   ]
  },
  {
   "cell_type": "code",
   "execution_count": 15,
   "metadata": {},
   "outputs": [
    {
     "name": "stdout",
     "output_type": "stream",
     "text": [
      "2508110\n"
     ]
    }
   ],
   "source": [
    "assert features.shape[0] == len(ids), \"vectors and ids must have the same length\"\n",
    "print(len(ids))"
   ]
  },
  {
   "cell_type": "code",
   "execution_count": 16,
   "metadata": {},
   "outputs": [
    {
     "name": "stderr",
     "output_type": "stream",
     "text": [
      "(insert count: 78, delete count: 0, upsert count: 0, timestamp: 452570097410375682, success count: 78, err count: 0): 100%|██████████| 257/257 [06:03<00:00,  1.41s/it]    \n"
     ]
    },
    {
     "name": "stdout",
     "output_type": "stream",
     "text": [
      "[Pysearch] Function update_list_document elapsed time: 0:06:03.419476\n"
     ]
    }
   ],
   "source": [
    "proc.index_list_document(features, ids)"
   ]
  },
  {
   "cell_type": "code",
   "execution_count": 17,
   "metadata": {},
   "outputs": [
    {
     "name": "stdout",
     "output_type": "stream",
     "text": [
      "[Pysearch] Function search elapsed time: 0:00:01.240800\n",
      "(['shot10862_141_RKF', 'shot07511_1_RKF', 'shot07511_72_RKF'], [37576.9921875, 37579.0078125, 37581.796875])\n"
     ]
    }
   ],
   "source": [
    "query = np.ones((1, 768)) * 7\n",
    "results = proc.search(query, top_k=3)\n",
    "print(results)"
   ]
  },
  {
   "cell_type": "code",
   "execution_count": 18,
   "metadata": {},
   "outputs": [
    {
     "name": "stdout",
     "output_type": "stream",
     "text": [
      "[Pysearch] Function search elapsed time: 0:00:00.451108\n"
     ]
    },
    {
     "data": {
      "text/plain": [
       "(['shot07511_1_RKF', 'shot00770_24_RKF'], [37579.0078125, 37581.04296875])"
      ]
     },
     "execution_count": 18,
     "metadata": {},
     "output_type": "execute_result"
    }
   ],
   "source": [
    "results = proc.search(query, top_k=10, filter=['shot07511_1_RKF', 'shot00770_24_RKF'])\n",
    "results"
   ]
  }
 ],
 "metadata": {
  "kernelspec": {
   "display_name": "service",
   "language": "python",
   "name": "python3"
  },
  "language_info": {
   "codemirror_mode": {
    "name": "ipython",
    "version": 3
   },
   "file_extension": ".py",
   "mimetype": "text/x-python",
   "name": "python",
   "nbconvert_exporter": "python",
   "pygments_lexer": "ipython3",
   "version": "3.10.14"
  },
  "orig_nbformat": 4,
  "vscode": {
   "interpreter": {
    "hash": "6f7d53329a8c7a3f02b52915f9761e1a636f352b70762b0e0e639d14f259ce92"
   }
  }
 },
 "nbformat": 4,
 "nbformat_minor": 2
}
