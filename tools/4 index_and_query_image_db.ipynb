{
 "cells": [
  {
   "cell_type": "markdown",
   "metadata": {},
   "source": [
    "```\n",
    "before go through this notebook, please start MILVUS sever by using `docker-compose up -d` command\n",
    "```"
   ]
  },
  {
   "cell_type": "code",
   "execution_count": 4,
   "metadata": {},
   "outputs": [],
   "source": [
    "import os\n",
    "from pathlib import Path\n",
    "\n",
    "import numpy as np\n",
    "import requests\n",
    "from dotenv import load_dotenv\n",
    "\n",
    "dotenv_path = Path('../.env.dev')\n",
    "load_dotenv(dotenv_path=dotenv_path)\n",
    "\n",
    "CLIP_PORT = os.environ.get(\"CLIP_PORT\", None)\n",
    "MILVUS_PORT = os.environ.get(\"MILVUS_PORT\", None)\n",
    "\n",
    "assert CLIP_PORT is not None, \"CLIP_PORT is not set\"\n",
    "assert MILVUS_PORT is not None, \"MILVUS_PORT is not set\"\n",
    "\n",
    "from pysearch.milvus import Milvus2Processor as MilvusProcessor\n",
    "\n",
    "config = {\n",
    "    # Global config\n",
    "    \"HOST\": \"0.0.0.0\",\n",
    "    \"PORT\": MILVUS_PORT,\n",
    "    \"INDEX\": \"image_fact\",\n",
    "    \"RETURN_SIZE\": 10,\n",
    "    \"CACHE_DIR\": \".cache/\",\n",
    "    # Milvus config\n",
    "    \"DIMENSION\": 768,\n",
    "}"
   ]
  },
  {
   "cell_type": "code",
   "execution_count": 5,
   "metadata": {},
   "outputs": [
    {
     "data": {
      "text/plain": [
       "{'name': 'image_fact',\n",
       " 'description': 'Pysearch collection',\n",
       " 'num_entities': 0,\n",
       " 'collections': ['test_index', 'lsc23_full_db', 'image_fact', 'test'],\n",
       " 'details': [{'metric_type': 'L2',\n",
       "   'index_type': 'IVF_FLAT',\n",
       "   'params': {'nlist': 2048}}]}"
      ]
     },
     "execution_count": 5,
     "metadata": {},
     "output_type": "execute_result"
    }
   ],
   "source": [
    "proc = MilvusProcessor(config, autoload_collection=False)\n",
    "proc.info()"
   ]
  },
  {
   "cell_type": "markdown",
   "metadata": {},
   "source": [
    "## Prepapre DB"
   ]
  },
  {
   "cell_type": "code",
   "execution_count": 6,
   "metadata": {},
   "outputs": [
    {
     "data": {
      "text/html": [
       "<div>\n",
       "<style scoped>\n",
       "    .dataframe tbody tr th:only-of-type {\n",
       "        vertical-align: middle;\n",
       "    }\n",
       "\n",
       "    .dataframe tbody tr th {\n",
       "        vertical-align: top;\n",
       "    }\n",
       "\n",
       "    .dataframe thead th {\n",
       "        text-align: right;\n",
       "    }\n",
       "</style>\n",
       "<table border=\"1\" class=\"dataframe\">\n",
       "  <thead>\n",
       "    <tr style=\"text-align: right;\">\n",
       "      <th></th>\n",
       "      <th>url</th>\n",
       "      <th>claim</th>\n",
       "      <th>content</th>\n",
       "      <th>top_image</th>\n",
       "      <th>index</th>\n",
       "      <th>embeddings</th>\n",
       "    </tr>\n",
       "  </thead>\n",
       "  <tbody>\n",
       "    <tr>\n",
       "      <th>0</th>\n",
       "      <td>https://leadstories.com/hoax-alert/2022/07/fac...</td>\n",
       "      <td>NASA used images of Devon Island to fake photo...</td>\n",
       "      <td>Analog Mission Did NASA use the landscape of a...</td>\n",
       "      <td>https://leadstories.com/caption_3479233.jpg</td>\n",
       "      <td>https://leadstories.com/hoax-alert/2022/07/fac...</td>\n",
       "      <td>[-0.022705078125, -0.056243896484375, -0.01136...</td>\n",
       "    </tr>\n",
       "  </tbody>\n",
       "</table>\n",
       "</div>"
      ],
      "text/plain": [
       "                                                 url  \\\n",
       "0  https://leadstories.com/hoax-alert/2022/07/fac...   \n",
       "\n",
       "                                               claim  \\\n",
       "0  NASA used images of Devon Island to fake photo...   \n",
       "\n",
       "                                             content  \\\n",
       "0  Analog Mission Did NASA use the landscape of a...   \n",
       "\n",
       "                                     top_image  \\\n",
       "0  https://leadstories.com/caption_3479233.jpg   \n",
       "\n",
       "                                               index  \\\n",
       "0  https://leadstories.com/hoax-alert/2022/07/fac...   \n",
       "\n",
       "                                          embeddings  \n",
       "0  [-0.022705078125, -0.056243896484375, -0.01136...  "
      ]
     },
     "execution_count": 6,
     "metadata": {},
     "output_type": "execute_result"
    }
   ],
   "source": [
    "import pandas as pd \n",
    "from tqdm import tqdm \n",
    "df = pd.read_csv('../data/fact_embs.csv')\n",
    "df.head(1)"
   ]
  },
  {
   "cell_type": "code",
   "execution_count": 18,
   "metadata": {},
   "outputs": [
    {
     "data": {
      "text/html": [
       "<div>\n",
       "<style scoped>\n",
       "    .dataframe tbody tr th:only-of-type {\n",
       "        vertical-align: middle;\n",
       "    }\n",
       "\n",
       "    .dataframe tbody tr th {\n",
       "        vertical-align: top;\n",
       "    }\n",
       "\n",
       "    .dataframe thead th {\n",
       "        text-align: right;\n",
       "    }\n",
       "</style>\n",
       "<table border=\"1\" class=\"dataframe\">\n",
       "  <thead>\n",
       "    <tr style=\"text-align: right;\">\n",
       "      <th></th>\n",
       "      <th>url</th>\n",
       "      <th>claim</th>\n",
       "      <th>content</th>\n",
       "      <th>top_image</th>\n",
       "      <th>index</th>\n",
       "      <th>embeddings</th>\n",
       "    </tr>\n",
       "  </thead>\n",
       "  <tbody>\n",
       "    <tr>\n",
       "      <th>0</th>\n",
       "      <td>https://leadstories.com/hoax-alert/2022/07/fac...</td>\n",
       "      <td>NASA used images of Devon Island to fake photo...</td>\n",
       "      <td>Analog Mission Did NASA use the landscape of a...</td>\n",
       "      <td>https://leadstories.com/caption_3479233.jpg</td>\n",
       "      <td>https://leadstories.com/hoax-alert/2022/07/fac...</td>\n",
       "      <td>[-0.022705078125, -0.056243896484375, -0.01136...</td>\n",
       "    </tr>\n",
       "    <tr>\n",
       "      <th>1</th>\n",
       "      <td>https://www.boomlive.in/fact-check/no-this-is-...</td>\n",
       "      <td>Photo shows image of death certificate with PM...</td>\n",
       "      <td>An image of a provisional certificate of COVID...</td>\n",
       "      <td>https://www.boomlive.in/h-upload/2021/04/22/94...</td>\n",
       "      <td>https://www.boomlive.in/fact-check/no-this-is-...</td>\n",
       "      <td>[0.009429931640625, 0.006649017333984375, -0.0...</td>\n",
       "    </tr>\n",
       "  </tbody>\n",
       "</table>\n",
       "</div>"
      ],
      "text/plain": [
       "                                                 url  \\\n",
       "0  https://leadstories.com/hoax-alert/2022/07/fac...   \n",
       "1  https://www.boomlive.in/fact-check/no-this-is-...   \n",
       "\n",
       "                                               claim  \\\n",
       "0  NASA used images of Devon Island to fake photo...   \n",
       "1  Photo shows image of death certificate with PM...   \n",
       "\n",
       "                                             content  \\\n",
       "0  Analog Mission Did NASA use the landscape of a...   \n",
       "1  An image of a provisional certificate of COVID...   \n",
       "\n",
       "                                           top_image  \\\n",
       "0        https://leadstories.com/caption_3479233.jpg   \n",
       "1  https://www.boomlive.in/h-upload/2021/04/22/94...   \n",
       "\n",
       "                                               index  \\\n",
       "0  https://leadstories.com/hoax-alert/2022/07/fac...   \n",
       "1  https://www.boomlive.in/fact-check/no-this-is-...   \n",
       "\n",
       "                                          embeddings  \n",
       "0  [-0.022705078125, -0.056243896484375, -0.01136...  \n",
       "1  [0.009429931640625, 0.006649017333984375, -0.0...  "
      ]
     },
     "execution_count": 18,
     "metadata": {},
     "output_type": "execute_result"
    }
   ],
   "source": [
    "df = df.dropna()\n",
    "import json\n",
    "df['embeddings'] = df['embeddings'].apply(json.loads)\n",
    "df"
   ]
  },
  {
   "cell_type": "code",
   "execution_count": 19,
   "metadata": {},
   "outputs": [],
   "source": [
    "features = np.array([x['embeddings'] for i, x in df.iterrows()])\n",
    "ids = np.array([x['url'] for i, x in df.iterrows()])"
   ]
  },
  {
   "cell_type": "code",
   "execution_count": 24,
   "metadata": {},
   "outputs": [
    {
     "name": "stdout",
     "output_type": "stream",
     "text": [
      "https://leadstories.com/hoax-alert/2022/07/fact-check-nasa-did-not-represent-devon-island-canada-as-mars.html\n",
      "(2, 768)\n"
     ]
    }
   ],
   "source": [
    "print(ids[0])\n",
    "print(features.shape)"
   ]
  },
  {
   "cell_type": "code",
   "execution_count": 25,
   "metadata": {},
   "outputs": [
    {
     "name": "stderr",
     "output_type": "stream",
     "text": [
      "(insert count: 2, delete count: 0, upsert count: 0, timestamp: 445979445836120065, success count: 2, err count: 0): 100%|██████████| 1/1 [00:00<00:00, 66.90it/s]\n"
     ]
    },
    {
     "name": "stdout",
     "output_type": "stream",
     "text": [
      "Function update_list_document elapsed time: 0:00:00.025549\n"
     ]
    }
   ],
   "source": [
    "proc.index_list_document(features, ids)"
   ]
  },
  {
   "cell_type": "code",
   "execution_count": 26,
   "metadata": {},
   "outputs": [
    {
     "name": "stdout",
     "output_type": "stream",
     "text": [
      "Function search elapsed time: 0:00:00.275259\n"
     ]
    },
    {
     "data": {
      "text/plain": [
       "(['https://leadstories.com/hoax-alert/2022/07/fact-check-nasa-did-not-represent-devon-island-canada-as-mars.html', 'https://www.boomlive.in/fact-check/no-this-is-not-a-death-certificate-with-pm-modis-image-on-it-12868'],\n",
       " [37621.0390625, 37659.984375])"
      ]
     },
     "execution_count": 26,
     "metadata": {},
     "output_type": "execute_result"
    }
   ],
   "source": [
    "query = np.ones((1, 768)) * 7\n",
    "results = proc.search(query, top_k=3)\n",
    "results"
   ]
  },
  {
   "cell_type": "code",
   "execution_count": 27,
   "metadata": {},
   "outputs": [
    {
     "name": "stdout",
     "output_type": "stream",
     "text": [
      "Function search elapsed time: 0:00:00.153989\n"
     ]
    },
    {
     "data": {
      "text/plain": [
       "(['https://leadstories.com/hoax-alert/2022/07/fact-check-nasa-did-not-represent-devon-island-canada-as-mars.html'],\n",
       " [37621.0390625])"
      ]
     },
     "execution_count": 27,
     "metadata": {},
     "output_type": "execute_result"
    }
   ],
   "source": [
    "results = proc.search(query, top_k=10, filter=[\"https://leadstories.com/hoax-alert/2022/07/fact-check-nasa-did-not-represent-devon-island-canada-as-mars.html\"])\n",
    "results"
   ]
  }
 ],
 "metadata": {
  "kernelspec": {
   "display_name": "elastic",
   "language": "python",
   "name": "python3"
  },
  "language_info": {
   "codemirror_mode": {
    "name": "ipython",
    "version": 3
   },
   "file_extension": ".py",
   "mimetype": "text/x-python",
   "name": "python",
   "nbconvert_exporter": "python",
   "pygments_lexer": "ipython3",
   "version": "3.11.6"
  },
  "orig_nbformat": 4,
  "vscode": {
   "interpreter": {
    "hash": "3e242d2624af79f4ab82e775fce7e2f7901da21f9b094faabf8c3149972e54fd"
   }
  }
 },
 "nbformat": 4,
 "nbformat_minor": 2
}
