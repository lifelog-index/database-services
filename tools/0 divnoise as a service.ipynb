{
 "cells": [
  {
   "cell_type": "markdown",
   "metadata": {},
   "source": [
    "```bash\n",
    "before go through this notebook, please start DIVNOISE server by using \n",
    "DOCKER_BUILDKIT=1 docker-compose -f services/docker-compose.svc.yml --env-file .env up -d \n",
    "```"
   ]
  },
  {
   "cell_type": "code",
   "execution_count": 7,
   "metadata": {},
   "outputs": [
    {
     "data": {
      "text/html": [
       "<pre style=\"white-space:pre;overflow-x:auto;line-height:normal;font-family:Menlo,'DejaVu Sans Mono',consolas,'Courier New',monospace\">Apple iPadmini5 Frontal\n",
       "</pre>\n"
      ],
      "text/plain": [
       "Apple iPadmini5 Frontal\n"
      ]
     },
     "metadata": {},
     "output_type": "display_data"
    },
    {
     "data": {
      "text/html": [
       "<pre style=\"white-space:pre;overflow-x:auto;line-height:normal;font-family:Menlo,'DejaVu Sans Mono',consolas,'Courier New',monospace\"><span style=\"font-weight: bold\">{</span>\n",
       "    <span style=\"color: #008000; text-decoration-color: #008000\">'Image Size'</span>: <span style=\"font-weight: bold\">[</span><span style=\"color: #008080; text-decoration-color: #008080; font-weight: bold\">3088</span>, <span style=\"color: #008080; text-decoration-color: #008080; font-weight: bold\">2320</span><span style=\"font-weight: bold\">]</span>,\n",
       "    <span style=\"color: #008000; text-decoration-color: #008000\">'Image Height'</span>: <span style=\"color: #008080; text-decoration-color: #008080; font-weight: bold\">2320</span>,\n",
       "    <span style=\"color: #008000; text-decoration-color: #008000\">'Image Width'</span>: <span style=\"color: #008080; text-decoration-color: #008080; font-weight: bold\">3088</span>,\n",
       "    <span style=\"color: #008000; text-decoration-color: #008000\">'Image Format'</span>: <span style=\"color: #008000; text-decoration-color: #008000\">'JPEG'</span>,\n",
       "    <span style=\"color: #008000; text-decoration-color: #008000\">'Image Mode'</span>: <span style=\"color: #008000; text-decoration-color: #008000\">'RGB'</span>,\n",
       "    <span style=\"color: #008000; text-decoration-color: #008000\">'Image is Animated'</span>: <span style=\"color: #ff0000; text-decoration-color: #ff0000; font-style: italic\">False</span>,\n",
       "    <span style=\"color: #008000; text-decoration-color: #008000\">'Frames in Image'</span>: <span style=\"color: #008080; text-decoration-color: #008080; font-weight: bold\">1</span>,\n",
       "    <span style=\"color: #008000; text-decoration-color: #008000\">'ResolutionUnit'</span>: <span style=\"color: #008080; text-decoration-color: #008080; font-weight: bold\">2</span>,\n",
       "    <span style=\"color: #008000; text-decoration-color: #008000\">'ExifOffset'</span>: <span style=\"color: #008080; text-decoration-color: #008080; font-weight: bold\">212</span>,\n",
       "    <span style=\"color: #008000; text-decoration-color: #008000\">'Make'</span>: <span style=\"color: #008000; text-decoration-color: #008000\">'Apple'</span>,\n",
       "    <span style=\"color: #008000; text-decoration-color: #008000\">'Model'</span>: <span style=\"color: #008000; text-decoration-color: #008000\">'iPad mini (5th generation)'</span>,\n",
       "    <span style=\"color: #008000; text-decoration-color: #008000\">'Software'</span>: <span style=\"color: #008000; text-decoration-color: #008000\">'13.1.3'</span>,\n",
       "    <span style=\"color: #008000; text-decoration-color: #008000\">'Orientation'</span>: <span style=\"color: #008080; text-decoration-color: #008080; font-weight: bold\">6</span>,\n",
       "    <span style=\"color: #008000; text-decoration-color: #008000\">'DateTime'</span>: <span style=\"color: #008000; text-decoration-color: #008000\">'2023:05:12 14:46:38'</span>,\n",
       "    <span style=\"color: #008000; text-decoration-color: #008000\">'YCbCrPositioning'</span>: <span style=\"color: #008080; text-decoration-color: #008080; font-weight: bold\">1</span>,\n",
       "    <span style=\"color: #008000; text-decoration-color: #008000\">'XResolution'</span>: <span style=\"color: #008080; text-decoration-color: #008080; font-weight: bold\">72.0</span>,\n",
       "    <span style=\"color: #008000; text-decoration-color: #008000\">'YResolution'</span>: <span style=\"color: #008080; text-decoration-color: #008080; font-weight: bold\">72.0</span>\n",
       "<span style=\"font-weight: bold\">}</span>\n",
       "</pre>\n"
      ],
      "text/plain": [
       "\u001b[1m{\u001b[0m\n",
       "    \u001b[32m'Image Size'\u001b[0m: \u001b[1m[\u001b[0m\u001b[1;36m3088\u001b[0m, \u001b[1;36m2320\u001b[0m\u001b[1m]\u001b[0m,\n",
       "    \u001b[32m'Image Height'\u001b[0m: \u001b[1;36m2320\u001b[0m,\n",
       "    \u001b[32m'Image Width'\u001b[0m: \u001b[1;36m3088\u001b[0m,\n",
       "    \u001b[32m'Image Format'\u001b[0m: \u001b[32m'JPEG'\u001b[0m,\n",
       "    \u001b[32m'Image Mode'\u001b[0m: \u001b[32m'RGB'\u001b[0m,\n",
       "    \u001b[32m'Image is Animated'\u001b[0m: \u001b[3;91mFalse\u001b[0m,\n",
       "    \u001b[32m'Frames in Image'\u001b[0m: \u001b[1;36m1\u001b[0m,\n",
       "    \u001b[32m'ResolutionUnit'\u001b[0m: \u001b[1;36m2\u001b[0m,\n",
       "    \u001b[32m'ExifOffset'\u001b[0m: \u001b[1;36m212\u001b[0m,\n",
       "    \u001b[32m'Make'\u001b[0m: \u001b[32m'Apple'\u001b[0m,\n",
       "    \u001b[32m'Model'\u001b[0m: \u001b[32m'iPad mini \u001b[0m\u001b[32m(\u001b[0m\u001b[32m5th generation\u001b[0m\u001b[32m)\u001b[0m\u001b[32m'\u001b[0m,\n",
       "    \u001b[32m'Software'\u001b[0m: \u001b[32m'13.1.3'\u001b[0m,\n",
       "    \u001b[32m'Orientation'\u001b[0m: \u001b[1;36m6\u001b[0m,\n",
       "    \u001b[32m'DateTime'\u001b[0m: \u001b[32m'2023:05:12 14:46:38'\u001b[0m,\n",
       "    \u001b[32m'YCbCrPositioning'\u001b[0m: \u001b[1;36m1\u001b[0m,\n",
       "    \u001b[32m'XResolution'\u001b[0m: \u001b[1;36m72.0\u001b[0m,\n",
       "    \u001b[32m'YResolution'\u001b[0m: \u001b[1;36m72.0\u001b[0m\n",
       "\u001b[1m}\u001b[0m\n"
      ]
     },
     "metadata": {},
     "output_type": "display_data"
    }
   ],
   "source": [
    "import requests\n",
    "import rich\n",
    "from dotenv import load_dotenv\n",
    "from pathlib import Path \n",
    "import os \n",
    "\n",
    "dotenv_path = Path('../.env')\n",
    "load_dotenv(dotenv_path=dotenv_path)\n",
    "\n",
    "DIV_NOISE_PORT = os.environ.get(\"DIV_NOISE_PORT\", None)\n",
    "\n",
    "assert DIV_NOISE_PORT is not None, \"DIV_NOISE_PORT is not set\"\n",
    "\n",
    "def test_divnoise():\n",
    "    urls = [f'http://localhost:{DIV_NOISE_PORT}/api/extract_descriptors',f'http://localhost:{DIV_NOISE_PORT}/api/extract_noiseprint',f'http://localhost:{DIV_NOISE_PORT}/api/extract_exif']\n",
    "    # avoid messy logs\n",
    "    urls = [f'http://localhost:{DIV_NOISE_PORT}/api/extract_noiseprint',f'http://localhost:{DIV_NOISE_PORT}/api/extract_exif']\n",
    "    for url in urls:\n",
    "        img_path = 'tmp.jpg'\n",
    "        resp = requests.post(url=url, files=[('file', open(img_path, 'rb'))])\n",
    "        rich.print(resp.json())\n",
    "\n",
    "test_divnoise()"
   ]
  }
 ],
 "metadata": {
  "kernelspec": {
   "display_name": "elastic",
   "language": "python",
   "name": "python3"
  },
  "language_info": {
   "codemirror_mode": {
    "name": "ipython",
    "version": 3
   },
   "file_extension": ".py",
   "mimetype": "text/x-python",
   "name": "python",
   "nbconvert_exporter": "python",
   "pygments_lexer": "ipython3",
   "version": "3.11.6"
  },
  "orig_nbformat": 4,
  "vscode": {
   "interpreter": {
    "hash": "3e242d2624af79f4ab82e775fce7e2f7901da21f9b094faabf8c3149972e54fd"
   }
  }
 },
 "nbformat": 4,
 "nbformat_minor": 2
}
