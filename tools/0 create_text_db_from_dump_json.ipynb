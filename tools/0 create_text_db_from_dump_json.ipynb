{
 "cells": [
  {
   "cell_type": "code",
   "execution_count": 2,
   "metadata": {},
   "outputs": [
    {
     "data": {
      "text/plain": [
       "True"
      ]
     },
     "execution_count": 2,
     "metadata": {},
     "output_type": "execute_result"
    }
   ],
   "source": [
    "from pathlib import Path\n",
    "import json\n",
    "from datetime import datetime\n",
    "import re\n",
    "\n",
    "from tqdm import tqdm\n",
    "json_dump_db_file = Path('../data/dumps/fact_checks_images_30k.json')\n",
    "json_dump_db_file.exists()"
   ]
  },
  {
   "cell_type": "code",
   "execution_count": 3,
   "metadata": {},
   "outputs": [],
   "source": [
    "import rich\n",
    "json_dump_db = json.load(open(json_dump_db_file))"
   ]
  },
  {
   "cell_type": "code",
   "execution_count": 4,
   "metadata": {},
   "outputs": [
    {
     "data": {
      "text/plain": [
       "({'value': 116296, 'relation': 'eq'}, 30000)"
      ]
     },
     "execution_count": 4,
     "metadata": {},
     "output_type": "execute_result"
    }
   ],
   "source": [
    "json_dump_db['hits']['total'], len(json_dump_db['hits']['hits'])"
   ]
  },
  {
   "cell_type": "code",
   "execution_count": 5,
   "metadata": {},
   "outputs": [
    {
     "data": {
      "text/plain": [
       "{'_index': 'fact_checks',\n",
       " '_id': 'PT/OsahOxrKsZGO38sGNKzCfIcU=',\n",
       " '_score': 13.485861,\n",
       " '_ignored': ['np3k_summary.keyword', 'gpt3_summary.keyword'],\n",
       " '_source': {'url': 'https://leadstories.com/hoax-alert/2022/07/fact-check-nasa-did-not-represent-devon-island-canada-as-mars.html',\n",
       "  'claim': {'default': 'NASA used images of Devon Island to fake photos from Mars'},\n",
       "  'doc': {'default': 'Analog Mission Did NASA use the landscape of a remote Arctic island in Canada to produce fake images that were then falsely represented as exploration on the planet Mars? No, that\\'s not true: This accusation lacks a key element -- there is no evidence that NASA has misrepresented images from the Haughton Mars Project (HMP) or any other analog mission conducted on Earth as if they were images of Mars. NASA\\'s website has a page describing analog missions as \"field tests in locations that have physical similarities to the extreme space environments.\" It is true that the terrain of Devon Island, Canada, does resemble that of Mars -- that\\'s why this uninhabited and rocky terrain was chosen to conduct a variety of analog missions. The Haughton Mars Project is not a secret setting for manufacturing hoaxes, it is one part of a well-documented research program. The accusation that NASA is using Devon Island as a set for Mars hoaxes is not new. Buzzfeed wrote that it had already been around for two years when they reported on the conspiracy in 2017. A January 1, 2018, article published under \"conspiracies\" on soulask.com was titled, \"NASA Lies: The \\'Mars Rover\\' Is Not On Mars, Is The Island Of Devon, Canada.\" Another example is a video that had been circulating on social media and uploaded again to Facebook on May 23, 2022. The caption of the Facebook post has 21 hashtags and promotes a song, which is the soundtrack of this copy of the video: Hidden in PLAIN SIGHT! I love u...walk wit me! \"SPOOKY\" by @jamaar produced by @nasteeluvzyou NOW AVAILABLE on ALL STREAMING PLATFORMS!! #jamaarmilton #outerspace #nasa #researchflatearth #research #canada #mars #truth #spaceprogram #proof #hiddenhistory #hiddentruth #kemeticscience #science #planet #planetearth #knowledgeispower #blackhistory #staywoke #staywoke #heliocentrichoax The text added in the video frame reads: WE HAVE BEEN LIED TO @JAMAAR MARS IS IN CANADA BELIEVE NO LIES This is how the post appeared at the time of writing: (Image source: Facebook screenshot taken on Wed Jul 27 17:46:01 2022 UTC) The video opens with a map of the Earth and the view zooms in to a specific red pin in the Arctic far north of Canada, finally zooming in to view a cluster of white tents making up a camp in a barren brown landscape. The next frame shows a diagram of the Haughton-Mars Project Research Station with the function of each tent labeled. This map of the research station and additional aerial views can be found on the Haughton-Mars Project (HMP) page of the Mars Institute, which describes the project this way: The Haughton-Mars Project is an international multidisciplinary field research project dedicated to advancing planetary science and exploration. The HMP is centered on the scientific study of the Haughton meteorite impact crater and surrounding terrain on Devon Island, High Arctic, viewed as a planetary analog, in particular for the Moon and Mars. The NASA website also has a page dedicated to HMP, and Google Earth has created a way to virtually explore Devon Island with 360 degree Street View images of some of the landmarks (here is a video of the making of that project). The next three cuts in the Facebook video show three comparison images (below) that are purportedly examples of NASA trying to pass off Earth\\'s landscape as if it is Mars. For these claims to stick, the people making them would need to prove that the landscape in the image is indeed Earth, and then they would need to demonstrate that NASA is presenting an image of Earth as if it is Mars. This has not been done. From a verification standpoint, this would be achieved by archiving the deception in an internet archive so there could be no question if the image, or the representation, had been tampered with. That did not happen with this post. (Image source: Lead Stories composite image of the claims in the video from screenshots taken on Wed Jul 27 17:46:01 2022 UTC) We will review these claims one at a time. The image of Mars on the far left can be found on nasa.gov. There is no evidence that the grey tinted version of this image is actually Devon Island. The NASA caption on this high-resolution raw image reads: This image was taken by Mast Camera (Mastcam) onboard NASA\\'s Mars rover Curiosity on Sol 588 (2014-04-02 10:00:36 UTC). (Image source: Lead Stories composite image with screenshots from Facebook and NASA/JPL-Caltech/MSSS taken on Thu Jul 28 17:42:08 2022 UTC) Next (below) is another widely circulated example of a purported NASA deception. This image of Mars did not come from NASA. How to make this hoax image is recorded in a satirical YouTube tutorial. Some online examples of this naturally green landscape and a copy toned with a red filter are falsely labeled as Greenland. In reality, the green image is hosted on Wikimedia commons, showing the karst (limestone) landscape in the Burren, Ireland. The caption at the bottom of the \"fake Mars\" image, says satirically: \"NASA Training Course - Mars Photography 101.\" This caption led us to a video credited to Danny Wilten that was reposted on YouTube on November 28, 2018 (pictured below right). This satirical video, which is a real digital editing tutorial, is presented as if the narrator is a NASA instructor demonstrating how to create a hoax image of Mars. At 3:24 the narrator says: We just need to add our final touch ... and once you throw our little Rover on there, those idiots won\\'t know any better. So what we\\'re gonna do here real quick is we\\'re going to take a look at the comparison and see what you can accomplish with just five minutes of work. The screenshot shows the 2:00 mark in the video, where all the color has been removed from the image, and the Irish sky has been selected in preparation for the featureless orange Mars sky to take its place. (Image source: Lead Stories composite image with screenshots from Facebook and YouTube taken on Thu Jul 28 17:42:08 2022 UTC) The final image has captioning that says: MERA HILLS, MARS? AFTER SELECTING \\'AUTO TONE\\' IN PHOTOSHOP BECOMES EARTH IMAGE SOURCE: https://nssdc.gsfc.nasa.gov/planetary/image/mera_hills.jpg The source URL opens a large high-definition image of Mars on the nasa.gov website. Lead Stories conducted our own experiment with the Adobe Photoshop Auto Tone color correction effect (below right) and achieved a similar result with one click. This does not demonstrate deception by NASA, but a feature of the Photoshop editing program. (Image source: Lead Stories composite image with screenshots from Facebook and nasa.gov Mera Hills image made on Wed Jul 27 21:11:12 2022 UTC) There have been times when NASA has adjusted the color balance on photos taken on Mars, but it identifies when that has been done. The example below was posted on the NASA website on March 18, 2013. The description explains: These three versions of the same image taken by the Mast Camera (Mastcam) on NASA\\'s Mars rover Curiosity illustrate different choices that scientists can make in presenting the colors recorded by the camera. The left image is the raw, unprocessed color, as it is received directly from Mars (and as available on the MSL Raw Images Web site: http://mars.jpl.nasa.gov/msl/multimedia/raw/). The center rendering was produced after calibration of the image to show an estimate of \\'natural\\' color, or approximately what the colors would look like if we were to view the scene ourselves on Mars. The right image shows the result of then applying a processing method called white-balancing, which shows an estimate of the colors of the terrain as if illuminated under Earth-like, rather than Martian, lighting. (Image source: \\'Raw,\\' \\'Natural\\' and \\'White-Balanced\\' Views of Martian Terrain NASA/JPL-Caltech/MSSS) Lead Stories has debunked several hoaxes and false claims about Mars in the past, footage \"with sound,\" which was misrepresented, a claim that a helicopter can\\'t fly in the Martian atmosphere, that scientists found mushrooms growing there and that the sunset was first photographed on Mars in 2021.'},\n",
       "  'np3k_top_image': 'https://leadstories.com/caption_3479233.jpg'}}"
      ]
     },
     "execution_count": 5,
     "metadata": {},
     "output_type": "execute_result"
    }
   ],
   "source": [
    "example_record = json_dump_db['hits']['hits'][0]\n",
    "example_record"
   ]
  },
  {
   "cell_type": "code",
   "execution_count": 6,
   "metadata": {},
   "outputs": [],
   "source": [
    "article = example_record['_source']['url']"
   ]
  },
  {
   "cell_type": "code",
   "execution_count": 7,
   "metadata": {},
   "outputs": [
    {
     "name": "stdout",
     "output_type": "stream",
     "text": [
      "{'https://leadstories.com/hoax-alert/2022/07/fact-check-nasa-did-not-represent-devon-island-canada-as-mars.html': ['https://leadstories.com/assets_c/2022/07/screenshot_3479233-thumb-352xauto-3093025.jpg', 'https://static.xx.fbcdn.net/images/emoji.php/v9/te8/1/16/1f451.png', 'https://static.xx.fbcdn.net/images/emoji.php/v9/tfb/1/16/1f5e3.png', 'https://static.xx.fbcdn.net/images/emoji.php/v9/t9e/1/16/1f3b5.png', 'https://static.xx.fbcdn.net/images/emoji.php/v9/t1f/1/16/1f3b6.png', 'https://static.xx.fbcdn.net/images/emoji.php/v9/t49/1/16/1f441.png', 'https://static.xx.fbcdn.net/images/emoji.php/v9/tc8/1/16/1f440.png', 'https://leadstories.com/assets_c/2022/07/liedtopost-thumb-700xauto-3093032.jpg', 'https://leadstories.com/assets_c/2022/07/threeframes-thumb-900x375-3093040.jpg', 'https://leadstories.com/assets_c/2022/07/mastcamcompare-thumb-900x503-3093112.jpg', 'https://leadstories.com/assets_c/2022/07/irelandcompare-thumb-900x429-3093120.jpg', 'https://leadstories.com/assets_c/2022/07/autotonecompare-thumb-900x301-3093122.jpg', 'https://leadstories.com/assets_c/2022/07/naturalcolor-thumb-900x519-3093077.jpg', 'https://leadstories.com/assets_c/2020/03/b19a8b274cca87e6b40aaa3fd25457b1abf46ab6-thumb-100x100-3063454.png', 'https://leadstories.com/theme/img/tracking.png?id=3479233']}\n",
      "{'https://leadstories.com/assets_c/2022/07/mastcamcompare-thumb-900x503-3093112.jpg': '/tmp/tmpgvb752mm.jpg', 'https://leadstories.com/assets_c/2022/07/naturalcolor-thumb-900x519-3093077.jpg': '/tmp/tmpbqai5_qe.jpg', 'https://leadstories.com/assets_c/2022/07/irelandcompare-thumb-900x429-3093120.jpg': '/tmp/tmpadfs3lw_.jpg', 'https://leadstories.com/assets_c/2022/07/autotonecompare-thumb-900x301-3093122.jpg': '/tmp/tmptw9d88dg.jpg', 'https://leadstories.com/assets_c/2022/07/threeframes-thumb-900x375-3093040.jpg': '/tmp/tmp56ck8vc2.jpg', 'https://leadstories.com/assets_c/2022/07/liedtopost-thumb-700xauto-3093032.jpg': '/tmp/tmp1bj4er9p.jpg'}\n"
     ]
    }
   ],
   "source": [
    "import sys \n",
    "sys.path.append('../')\n",
    "from src.web_scraper import WebScraper\n",
    "articles = [article]\n",
    "scraper = WebScraper(articles)\n",
    "\n",
    "await scraper.fetch_img_sources()\n",
    "await scraper.fetch_img_contents()\n",
    "\n",
    "print(scraper.articles_images)\n",
    "print(scraper.image_links_files)"
   ]
  },
  {
   "cell_type": "code",
   "execution_count": 8,
   "metadata": {},
   "outputs": [
    {
     "name": "stderr",
     "output_type": "stream",
     "text": [
      "100%|██████████| 30000/30000 [00:00<00:00, 515530.43it/s]\n"
     ]
    }
   ],
   "source": [
    "clean_db = {}\n",
    "for x in tqdm(json_dump_db['hits']['hits']):\n",
    "    _id = x['_source']['url']\n",
    "    clean_db[_id] = {\n",
    "        'url': x['_source']['url'],\n",
    "        'claim': x['_source']['claim']['default'],\n",
    "        'content': x['_source']['doc']['default'],\n",
    "        'top_image': x['_source']['np3k_top_image'],\n",
    "    }"
   ]
  },
  {
   "cell_type": "code",
   "execution_count": 9,
   "metadata": {},
   "outputs": [
    {
     "name": "stdout",
     "output_type": "stream",
     "text": [
      "from typing import List, Optional\n",
      "from pydantic import BaseModel\n",
      "\n",
      "class ESFactModelV2(BaseModel):\n",
      "    _id: str\n",
      "    url: str\n",
      "    claim: str\n",
      "    content: str\n",
      "    top_image: str\n",
      "\n",
      "class ESFactModel(BaseModel):\n",
      "    claim: str\n",
      "    label: str\n",
      "    label4level: str\n",
      "    doc: str\n",
      "    url: str\n",
      "    domain: str\n",
      "    domain_name: str\n",
      "    publish_date: str\n",
      "    keywords: list[str]\n",
      "    authors: list\n",
      "    search_engine: str\n",
      "    lang: str\n",
      "    score: float\n",
      "    exact_match: bool\n",
      "\n",
      "\n"
     ]
    }
   ],
   "source": [
    "!cat db_schema.py"
   ]
  },
  {
   "cell_type": "code",
   "execution_count": 18,
   "metadata": {},
   "outputs": [
    {
     "data": {
      "text/plain": [
       "('https://leadstories.com/hoax-alert/2022/07/fact-check-nasa-did-not-represent-devon-island-canada-as-mars.html',\n",
       " {'url': 'https://leadstories.com/hoax-alert/2022/07/fact-check-nasa-did-not-represent-devon-island-canada-as-mars.html',\n",
       "  'claim': 'NASA used images of Devon Island to fake photos from Mars',\n",
       "  'content': 'Analog Mission Did NASA use the landscape of a remote Arctic island in Canada to produce fake images that were then falsely represented as exploration on the planet Mars? No, that\\'s not true: This accusation lacks a key element -- there is no evidence that NASA has misrepresented images from the Haughton Mars Project (HMP) or any other analog mission conducted on Earth as if they were images of Mars. NASA\\'s website has a page describing analog missions as \"field tests in locations that have physical similarities to the extreme space environments.\" It is true that the terrain of Devon Island, Canada, does resemble that of Mars -- that\\'s why this uninhabited and rocky terrain was chosen to conduct a variety of analog missions. The Haughton Mars Project is not a secret setting for manufacturing hoaxes, it is one part of a well-documented research program. The accusation that NASA is using Devon Island as a set for Mars hoaxes is not new. Buzzfeed wrote that it had already been around for two years when they reported on the conspiracy in 2017. A January 1, 2018, article published under \"conspiracies\" on soulask.com was titled, \"NASA Lies: The \\'Mars Rover\\' Is Not On Mars, Is The Island Of Devon, Canada.\" Another example is a video that had been circulating on social media and uploaded again to Facebook on May 23, 2022. The caption of the Facebook post has 21 hashtags and promotes a song, which is the soundtrack of this copy of the video: Hidden in PLAIN SIGHT! I love u...walk wit me! \"SPOOKY\" by @jamaar produced by @nasteeluvzyou NOW AVAILABLE on ALL STREAMING PLATFORMS!! #jamaarmilton #outerspace #nasa #researchflatearth #research #canada #mars #truth #spaceprogram #proof #hiddenhistory #hiddentruth #kemeticscience #science #planet #planetearth #knowledgeispower #blackhistory #staywoke #staywoke #heliocentrichoax The text added in the video frame reads: WE HAVE BEEN LIED TO @JAMAAR MARS IS IN CANADA BELIEVE NO LIES This is how the post appeared at the time of writing: (Image source: Facebook screenshot taken on Wed Jul 27 17:46:01 2022 UTC) The video opens with a map of the Earth and the view zooms in to a specific red pin in the Arctic far north of Canada, finally zooming in to view a cluster of white tents making up a camp in a barren brown landscape. The next frame shows a diagram of the Haughton-Mars Project Research Station with the function of each tent labeled. This map of the research station and additional aerial views can be found on the Haughton-Mars Project (HMP) page of the Mars Institute, which describes the project this way: The Haughton-Mars Project is an international multidisciplinary field research project dedicated to advancing planetary science and exploration. The HMP is centered on the scientific study of the Haughton meteorite impact crater and surrounding terrain on Devon Island, High Arctic, viewed as a planetary analog, in particular for the Moon and Mars. The NASA website also has a page dedicated to HMP, and Google Earth has created a way to virtually explore Devon Island with 360 degree Street View images of some of the landmarks (here is a video of the making of that project). The next three cuts in the Facebook video show three comparison images (below) that are purportedly examples of NASA trying to pass off Earth\\'s landscape as if it is Mars. For these claims to stick, the people making them would need to prove that the landscape in the image is indeed Earth, and then they would need to demonstrate that NASA is presenting an image of Earth as if it is Mars. This has not been done. From a verification standpoint, this would be achieved by archiving the deception in an internet archive so there could be no question if the image, or the representation, had been tampered with. That did not happen with this post. (Image source: Lead Stories composite image of the claims in the video from screenshots taken on Wed Jul 27 17:46:01 2022 UTC) We will review these claims one at a time. The image of Mars on the far left can be found on nasa.gov. There is no evidence that the grey tinted version of this image is actually Devon Island. The NASA caption on this high-resolution raw image reads: This image was taken by Mast Camera (Mastcam) onboard NASA\\'s Mars rover Curiosity on Sol 588 (2014-04-02 10:00:36 UTC). (Image source: Lead Stories composite image with screenshots from Facebook and NASA/JPL-Caltech/MSSS taken on Thu Jul 28 17:42:08 2022 UTC) Next (below) is another widely circulated example of a purported NASA deception. This image of Mars did not come from NASA. How to make this hoax image is recorded in a satirical YouTube tutorial. Some online examples of this naturally green landscape and a copy toned with a red filter are falsely labeled as Greenland. In reality, the green image is hosted on Wikimedia commons, showing the karst (limestone) landscape in the Burren, Ireland. The caption at the bottom of the \"fake Mars\" image, says satirically: \"NASA Training Course - Mars Photography 101.\" This caption led us to a video credited to Danny Wilten that was reposted on YouTube on November 28, 2018 (pictured below right). This satirical video, which is a real digital editing tutorial, is presented as if the narrator is a NASA instructor demonstrating how to create a hoax image of Mars. At 3:24 the narrator says: We just need to add our final touch ... and once you throw our little Rover on there, those idiots won\\'t know any better. So what we\\'re gonna do here real quick is we\\'re going to take a look at the comparison and see what you can accomplish with just five minutes of work. The screenshot shows the 2:00 mark in the video, where all the color has been removed from the image, and the Irish sky has been selected in preparation for the featureless orange Mars sky to take its place. (Image source: Lead Stories composite image with screenshots from Facebook and YouTube taken on Thu Jul 28 17:42:08 2022 UTC) The final image has captioning that says: MERA HILLS, MARS? AFTER SELECTING \\'AUTO TONE\\' IN PHOTOSHOP BECOMES EARTH IMAGE SOURCE: https://nssdc.gsfc.nasa.gov/planetary/image/mera_hills.jpg The source URL opens a large high-definition image of Mars on the nasa.gov website. Lead Stories conducted our own experiment with the Adobe Photoshop Auto Tone color correction effect (below right) and achieved a similar result with one click. This does not demonstrate deception by NASA, but a feature of the Photoshop editing program. (Image source: Lead Stories composite image with screenshots from Facebook and nasa.gov Mera Hills image made on Wed Jul 27 21:11:12 2022 UTC) There have been times when NASA has adjusted the color balance on photos taken on Mars, but it identifies when that has been done. The example below was posted on the NASA website on March 18, 2013. The description explains: These three versions of the same image taken by the Mast Camera (Mastcam) on NASA\\'s Mars rover Curiosity illustrate different choices that scientists can make in presenting the colors recorded by the camera. The left image is the raw, unprocessed color, as it is received directly from Mars (and as available on the MSL Raw Images Web site: http://mars.jpl.nasa.gov/msl/multimedia/raw/). The center rendering was produced after calibration of the image to show an estimate of \\'natural\\' color, or approximately what the colors would look like if we were to view the scene ourselves on Mars. The right image shows the result of then applying a processing method called white-balancing, which shows an estimate of the colors of the terrain as if illuminated under Earth-like, rather than Martian, lighting. (Image source: \\'Raw,\\' \\'Natural\\' and \\'White-Balanced\\' Views of Martian Terrain NASA/JPL-Caltech/MSSS) Lead Stories has debunked several hoaxes and false claims about Mars in the past, footage \"with sound,\" which was misrepresented, a claim that a helicopter can\\'t fly in the Martian atmosphere, that scientists found mushrooms growing there and that the sunset was first photographed on Mars in 2021.',\n",
       "  'top_image': 'https://leadstories.com/caption_3479233.jpg'})"
      ]
     },
     "execution_count": 18,
     "metadata": {},
     "output_type": "execute_result"
    }
   ],
   "source": [
    "k, v = list(clean_db.items())[0]\n",
    "k, v"
   ]
  },
  {
   "cell_type": "code",
   "execution_count": 19,
   "metadata": {},
   "outputs": [
    {
     "data": {
      "text/plain": [
       "28852"
      ]
     },
     "execution_count": 19,
     "metadata": {},
     "output_type": "execute_result"
    }
   ],
   "source": [
    "len(clean_db)"
   ]
  },
  {
   "cell_type": "code",
   "execution_count": 20,
   "metadata": {},
   "outputs": [
    {
     "data": {
      "text/html": [
       "<div>\n",
       "<style scoped>\n",
       "    .dataframe tbody tr th:only-of-type {\n",
       "        vertical-align: middle;\n",
       "    }\n",
       "\n",
       "    .dataframe tbody tr th {\n",
       "        vertical-align: top;\n",
       "    }\n",
       "\n",
       "    .dataframe thead th {\n",
       "        text-align: right;\n",
       "    }\n",
       "</style>\n",
       "<table border=\"1\" class=\"dataframe\">\n",
       "  <thead>\n",
       "    <tr style=\"text-align: right;\">\n",
       "      <th></th>\n",
       "      <th>url</th>\n",
       "      <th>claim</th>\n",
       "      <th>content</th>\n",
       "      <th>top_image</th>\n",
       "      <th>index</th>\n",
       "    </tr>\n",
       "  </thead>\n",
       "  <tbody>\n",
       "    <tr>\n",
       "      <th>0</th>\n",
       "      <td>https://leadstories.com/hoax-alert/2022/07/fac...</td>\n",
       "      <td>NASA used images of Devon Island to fake photo...</td>\n",
       "      <td>Analog Mission Did NASA use the landscape of a...</td>\n",
       "      <td>https://leadstories.com/caption_3479233.jpg</td>\n",
       "      <td>https://leadstories.com/hoax-alert/2022/07/fac...</td>\n",
       "    </tr>\n",
       "    <tr>\n",
       "      <th>1</th>\n",
       "      <td>https://www.boomlive.in/fact-check/no-this-is-...</td>\n",
       "      <td>Photo shows image of death certificate with PM...</td>\n",
       "      <td>An image of a provisional certificate of COVID...</td>\n",
       "      <td>https://www.boomlive.in/h-upload/2021/04/22/94...</td>\n",
       "      <td>https://www.boomlive.in/fact-check/no-this-is-...</td>\n",
       "    </tr>\n",
       "    <tr>\n",
       "      <th>2</th>\n",
       "      <td>https://factly.in/the-moroccan-child-in-this-i...</td>\n",
       "      <td>Photo collage featuring the childhood and curr...</td>\n",
       "      <td>A collage containing the images of a girl chil...</td>\n",
       "      <td>https://factly.in/wp-content/uploads//2022/10/...</td>\n",
       "      <td>https://factly.in/the-moroccan-child-in-this-i...</td>\n",
       "    </tr>\n",
       "    <tr>\n",
       "      <th>3</th>\n",
       "      <td>https://newsmobile.in/articles/2022/01/28/fact...</td>\n",
       "      <td>Image shows a real photo of Sai Baba</td>\n",
       "      <td>A photograph of a garlanded man is being widel...</td>\n",
       "      <td>https://newsmobile.in/wp-content/uploads/2022/...</td>\n",
       "      <td>https://newsmobile.in/articles/2022/01/28/fact...</td>\n",
       "    </tr>\n",
       "    <tr>\n",
       "      <th>4</th>\n",
       "      <td>https://www.vishvasnews.com/english/politics/f...</td>\n",
       "      <td>Image of Kanhaiya Kumar Campaigning behind Afz...</td>\n",
       "      <td>An image is doing rounds on social media in wh...</td>\n",
       "      <td>https://www.vishvasnews.com/wp-content/uploads...</td>\n",
       "      <td>https://www.vishvasnews.com/english/politics/f...</td>\n",
       "    </tr>\n",
       "  </tbody>\n",
       "</table>\n",
       "</div>"
      ],
      "text/plain": [
       "                                                 url  \\\n",
       "0  https://leadstories.com/hoax-alert/2022/07/fac...   \n",
       "1  https://www.boomlive.in/fact-check/no-this-is-...   \n",
       "2  https://factly.in/the-moroccan-child-in-this-i...   \n",
       "3  https://newsmobile.in/articles/2022/01/28/fact...   \n",
       "4  https://www.vishvasnews.com/english/politics/f...   \n",
       "\n",
       "                                               claim  \\\n",
       "0  NASA used images of Devon Island to fake photo...   \n",
       "1  Photo shows image of death certificate with PM...   \n",
       "2  Photo collage featuring the childhood and curr...   \n",
       "3               Image shows a real photo of Sai Baba   \n",
       "4  Image of Kanhaiya Kumar Campaigning behind Afz...   \n",
       "\n",
       "                                             content  \\\n",
       "0  Analog Mission Did NASA use the landscape of a...   \n",
       "1  An image of a provisional certificate of COVID...   \n",
       "2  A collage containing the images of a girl chil...   \n",
       "3  A photograph of a garlanded man is being widel...   \n",
       "4  An image is doing rounds on social media in wh...   \n",
       "\n",
       "                                           top_image  \\\n",
       "0        https://leadstories.com/caption_3479233.jpg   \n",
       "1  https://www.boomlive.in/h-upload/2021/04/22/94...   \n",
       "2  https://factly.in/wp-content/uploads//2022/10/...   \n",
       "3  https://newsmobile.in/wp-content/uploads/2022/...   \n",
       "4  https://www.vishvasnews.com/wp-content/uploads...   \n",
       "\n",
       "                                               index  \n",
       "0  https://leadstories.com/hoax-alert/2022/07/fac...  \n",
       "1  https://www.boomlive.in/fact-check/no-this-is-...  \n",
       "2  https://factly.in/the-moroccan-child-in-this-i...  \n",
       "3  https://newsmobile.in/articles/2022/01/28/fact...  \n",
       "4  https://www.vishvasnews.com/english/politics/f...  "
      ]
     },
     "execution_count": 20,
     "metadata": {},
     "output_type": "execute_result"
    }
   ],
   "source": [
    "# convert to dataframe\n",
    "import pandas as pd\n",
    "df = pd.DataFrame.from_dict(clean_db, orient='index')\n",
    "df['index'] = df.index\n",
    "df = df.reset_index(drop=True)\n",
    "df.head()"
   ]
  },
  {
   "cell_type": "code",
   "execution_count": 21,
   "metadata": {},
   "outputs": [],
   "source": [
    "df.to_csv('../data/fact_30k.csv', index=False)"
   ]
  }
 ],
 "metadata": {
  "kernelspec": {
   "display_name": "elastic",
   "language": "python",
   "name": "python3"
  },
  "language_info": {
   "codemirror_mode": {
    "name": "ipython",
    "version": 3
   },
   "file_extension": ".py",
   "mimetype": "text/x-python",
   "name": "python",
   "nbconvert_exporter": "python",
   "pygments_lexer": "ipython3",
   "version": "3.11.6"
  },
  "orig_nbformat": 4,
  "vscode": {
   "interpreter": {
    "hash": "3e242d2624af79f4ab82e775fce7e2f7901da21f9b094faabf8c3149972e54fd"
   }
  }
 },
 "nbformat": 4,
 "nbformat_minor": 2
}
