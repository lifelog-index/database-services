{
 "cells": [
  {
   "cell_type": "markdown",
   "metadata": {},
   "source": [
    "```\n",
    "before go through this notebook, please start elastic server by using `docker-compose up -d` command\n",
    "```"
   ]
  },
  {
   "cell_type": "code",
   "execution_count": 1,
   "metadata": {},
   "outputs": [],
   "source": [
    "import requests\n",
    "import os\n",
    "from datetime import datetime\n",
    "from dotenv import load_dotenv\n",
    "from pathlib import Path\n",
    "import numpy as np\n",
    "import pandas as pd \n",
    "\n",
    "dotenv_path = Path('../.env.dev')\n",
    "load_dotenv(dotenv_path=dotenv_path)\n",
    "\n",
    "ELASTIC_PORT = os.environ.get(\"ELASTIC_PORT\", None)\n",
    "ELASTIC_USERNAME = os.environ.get(\"ELASTIC_USERNAME\", None)\n",
    "ELASTIC_PASSWORD = os.environ.get(\"ELASTIC_PASSWORD\", None)\n",
    "\n",
    "assert ELASTIC_PORT is not None, \"ELASTIC_PORT is not set\"\n",
    "assert ELASTIC_USERNAME is not None, \"ELASTIC_USERNAME is not set\"\n",
    "assert ELASTIC_PASSWORD is not None, \"ELASTIC_PASSWORD is not set\"\n",
    "\n",
    "config = {\n",
    "    # Global config\n",
    "    \"HOST\": \"0.0.0.0\",\n",
    "    \"PORT\": ELASTIC_PORT,\n",
    "    \"USERNAME\": ELASTIC_USERNAME,\n",
    "    \"PASSWORD\": ELASTIC_PASSWORD,\n",
    "    \"INDEX\": None,\n",
    "    \"RETURN_SIZE\": 10,\n",
    "    \"CACHE_DIR\": \".cache/\",\n",
    "    \"DIMENSION\": 2,\n",
    "}"
   ]
  },
  {
   "cell_type": "markdown",
   "metadata": {},
   "source": [
    "## Prepapre DB"
   ]
  },
  {
   "cell_type": "code",
   "execution_count": 3,
   "metadata": {},
   "outputs": [
    {
     "data": {
      "text/html": [
       "<div>\n",
       "<style scoped>\n",
       "    .dataframe tbody tr th:only-of-type {\n",
       "        vertical-align: middle;\n",
       "    }\n",
       "\n",
       "    .dataframe tbody tr th {\n",
       "        vertical-align: top;\n",
       "    }\n",
       "\n",
       "    .dataframe thead th {\n",
       "        text-align: right;\n",
       "    }\n",
       "</style>\n",
       "<table border=\"1\" class=\"dataframe\">\n",
       "  <thead>\n",
       "    <tr style=\"text-align: right;\">\n",
       "      <th></th>\n",
       "      <th>url</th>\n",
       "      <th>claim</th>\n",
       "      <th>content</th>\n",
       "      <th>top_image</th>\n",
       "      <th>index</th>\n",
       "    </tr>\n",
       "  </thead>\n",
       "  <tbody>\n",
       "    <tr>\n",
       "      <th>0</th>\n",
       "      <td>https://leadstories.com/hoax-alert/2022/07/fac...</td>\n",
       "      <td>NASA used images of Devon Island to fake photo...</td>\n",
       "      <td>Analog Mission Did NASA use the landscape of a...</td>\n",
       "      <td>https://leadstories.com/caption_3479233.jpg</td>\n",
       "      <td>https://leadstories.com/hoax-alert/2022/07/fac...</td>\n",
       "    </tr>\n",
       "  </tbody>\n",
       "</table>\n",
       "</div>"
      ],
      "text/plain": [
       "                                                 url  \\\n",
       "0  https://leadstories.com/hoax-alert/2022/07/fac...   \n",
       "\n",
       "                                               claim  \\\n",
       "0  NASA used images of Devon Island to fake photo...   \n",
       "\n",
       "                                             content  \\\n",
       "0  Analog Mission Did NASA use the landscape of a...   \n",
       "\n",
       "                                     top_image  \\\n",
       "0  https://leadstories.com/caption_3479233.jpg   \n",
       "\n",
       "                                               index  \n",
       "0  https://leadstories.com/hoax-alert/2022/07/fac...  "
      ]
     },
     "execution_count": 3,
     "metadata": {},
     "output_type": "execute_result"
    }
   ],
   "source": [
    "import pandas as pd \n",
    "from tqdm import tqdm \n",
    "df = pd.read_csv('../data/fact_30k.csv')\n",
    "df.head(1)"
   ]
  },
  {
   "cell_type": "code",
   "execution_count": 4,
   "metadata": {},
   "outputs": [
    {
     "data": {
      "text/html": [
       "<div>\n",
       "<style scoped>\n",
       "    .dataframe tbody tr th:only-of-type {\n",
       "        vertical-align: middle;\n",
       "    }\n",
       "\n",
       "    .dataframe tbody tr th {\n",
       "        vertical-align: top;\n",
       "    }\n",
       "\n",
       "    .dataframe thead th {\n",
       "        text-align: right;\n",
       "    }\n",
       "</style>\n",
       "<table border=\"1\" class=\"dataframe\">\n",
       "  <thead>\n",
       "    <tr style=\"text-align: right;\">\n",
       "      <th></th>\n",
       "      <th>url</th>\n",
       "      <th>claim</th>\n",
       "      <th>content</th>\n",
       "      <th>top_image</th>\n",
       "      <th>index</th>\n",
       "    </tr>\n",
       "  </thead>\n",
       "  <tbody>\n",
       "    <tr>\n",
       "      <th>count</th>\n",
       "      <td>28852</td>\n",
       "      <td>28852</td>\n",
       "      <td>28852</td>\n",
       "      <td>28852</td>\n",
       "      <td>28852</td>\n",
       "    </tr>\n",
       "    <tr>\n",
       "      <th>unique</th>\n",
       "      <td>28852</td>\n",
       "      <td>28279</td>\n",
       "      <td>26293</td>\n",
       "      <td>27358</td>\n",
       "      <td>28852</td>\n",
       "    </tr>\n",
       "    <tr>\n",
       "      <th>top</th>\n",
       "      <td>https://leadstories.com/hoax-alert/2018/05/fak...</td>\n",
       "      <td>Agencia Tributaria: Os ha calificado para un r...</td>\n",
       "      <td>Alt News Alternative News and Views in the Pos...</td>\n",
       "      <td>https://newsmobile.in/image</td>\n",
       "      <td>https://leadstories.com/hoax-alert/2018/05/fak...</td>\n",
       "    </tr>\n",
       "    <tr>\n",
       "      <th>freq</th>\n",
       "      <td>1</td>\n",
       "      <td>5</td>\n",
       "      <td>358</td>\n",
       "      <td>495</td>\n",
       "      <td>1</td>\n",
       "    </tr>\n",
       "  </tbody>\n",
       "</table>\n",
       "</div>"
      ],
      "text/plain": [
       "                                                      url  \\\n",
       "count                                               28852   \n",
       "unique                                              28852   \n",
       "top     https://leadstories.com/hoax-alert/2018/05/fak...   \n",
       "freq                                                    1   \n",
       "\n",
       "                                                    claim  \\\n",
       "count                                               28852   \n",
       "unique                                              28279   \n",
       "top     Agencia Tributaria: Os ha calificado para un r...   \n",
       "freq                                                    5   \n",
       "\n",
       "                                                  content  \\\n",
       "count                                               28852   \n",
       "unique                                              26293   \n",
       "top     Alt News Alternative News and Views in the Pos...   \n",
       "freq                                                  358   \n",
       "\n",
       "                          top_image  \\\n",
       "count                         28852   \n",
       "unique                        27358   \n",
       "top     https://newsmobile.in/image   \n",
       "freq                            495   \n",
       "\n",
       "                                                    index  \n",
       "count                                               28852  \n",
       "unique                                              28852  \n",
       "top     https://leadstories.com/hoax-alert/2018/05/fak...  \n",
       "freq                                                    1  "
      ]
     },
     "execution_count": 4,
     "metadata": {},
     "output_type": "execute_result"
    }
   ],
   "source": [
    "df = df.fillna('')\n",
    "df.describe()"
   ]
  },
  {
   "cell_type": "markdown",
   "metadata": {},
   "source": [
    "## Create index in Elasticsearch"
   ]
  },
  {
   "cell_type": "code",
   "execution_count": 5,
   "metadata": {},
   "outputs": [
    {
     "name": "stdout",
     "output_type": "stream",
     "text": [
      "Connected to Elasticsearch node\n"
     ]
    }
   ],
   "source": [
    "from pysearch.elastic import ElasticProcessor\n",
    "config['INDEX'] = 'factcheck'\n",
    "proc = ElasticProcessor(config)"
   ]
  },
  {
   "cell_type": "code",
   "execution_count": 6,
   "metadata": {},
   "outputs": [
    {
     "data": {
      "text/plain": [
       "dict_keys(['factcheck'])"
      ]
     },
     "execution_count": 6,
     "metadata": {},
     "output_type": "execute_result"
    }
   ],
   "source": [
    "proc.available_indices()"
   ]
  },
  {
   "cell_type": "code",
   "execution_count": 6,
   "metadata": {},
   "outputs": [],
   "source": [
    "# proc.kill('factcheck')"
   ]
  },
  {
   "cell_type": "code",
   "execution_count": 7,
   "metadata": {},
   "outputs": [],
   "source": [
    "df_structure = {  \n",
    "    \"mappings\": {\n",
    "        \"properties\": {\n",
    "            'index': {\"type\": \"text\"}, # required for pysearch\n",
    "            'url': {\"type\": \"text\"},\n",
    "            'claim': {\"type\": \"text\"},\n",
    "            'content': {\"type\": \"text\"},\n",
    "            'top_image': {\"type\": \"text\"},\n",
    "        }\n",
    "    }\n",
    "}"
   ]
  },
  {
   "cell_type": "code",
   "execution_count": 8,
   "metadata": {},
   "outputs": [
    {
     "name": "stderr",
     "output_type": "stream",
     "text": [
      "100%|██████████| 28852/28852 [00:20<00:00, 1441.20it/s]\n"
     ]
    }
   ],
   "source": [
    "proc.index_dataframe(df, df_structure)"
   ]
  },
  {
   "cell_type": "code",
   "execution_count": 9,
   "metadata": {},
   "outputs": [
    {
     "data": {
      "text/html": [
       "<pre style=\"white-space:pre;overflow-x:auto;line-height:normal;font-family:Menlo,'DejaVu Sans Mono',consolas,'Courier New',monospace\"><span style=\"font-weight: bold\">{</span>\n",
       "    <span style=\"color: #008000; text-decoration-color: #008000\">'properties'</span>: <span style=\"font-weight: bold\">{</span>\n",
       "        <span style=\"color: #008000; text-decoration-color: #008000\">'claim'</span>: <span style=\"font-weight: bold\">{</span><span style=\"color: #008000; text-decoration-color: #008000\">'type'</span>: <span style=\"color: #008000; text-decoration-color: #008000\">'text'</span><span style=\"font-weight: bold\">}</span>,\n",
       "        <span style=\"color: #008000; text-decoration-color: #008000\">'content'</span>: <span style=\"font-weight: bold\">{</span><span style=\"color: #008000; text-decoration-color: #008000\">'type'</span>: <span style=\"color: #008000; text-decoration-color: #008000\">'text'</span><span style=\"font-weight: bold\">}</span>,\n",
       "        <span style=\"color: #008000; text-decoration-color: #008000\">'index'</span>: <span style=\"font-weight: bold\">{</span><span style=\"color: #008000; text-decoration-color: #008000\">'type'</span>: <span style=\"color: #008000; text-decoration-color: #008000\">'text'</span><span style=\"font-weight: bold\">}</span>,\n",
       "        <span style=\"color: #008000; text-decoration-color: #008000\">'top_image'</span>: <span style=\"font-weight: bold\">{</span><span style=\"color: #008000; text-decoration-color: #008000\">'type'</span>: <span style=\"color: #008000; text-decoration-color: #008000\">'text'</span><span style=\"font-weight: bold\">}</span>,\n",
       "        <span style=\"color: #008000; text-decoration-color: #008000\">'url'</span>: <span style=\"font-weight: bold\">{</span><span style=\"color: #008000; text-decoration-color: #008000\">'type'</span>: <span style=\"color: #008000; text-decoration-color: #008000\">'text'</span><span style=\"font-weight: bold\">}</span>\n",
       "    <span style=\"font-weight: bold\">}</span>\n",
       "<span style=\"font-weight: bold\">}</span>\n",
       "</pre>\n"
      ],
      "text/plain": [
       "\u001b[1m{\u001b[0m\n",
       "    \u001b[32m'properties'\u001b[0m: \u001b[1m{\u001b[0m\n",
       "        \u001b[32m'claim'\u001b[0m: \u001b[1m{\u001b[0m\u001b[32m'type'\u001b[0m: \u001b[32m'text'\u001b[0m\u001b[1m}\u001b[0m,\n",
       "        \u001b[32m'content'\u001b[0m: \u001b[1m{\u001b[0m\u001b[32m'type'\u001b[0m: \u001b[32m'text'\u001b[0m\u001b[1m}\u001b[0m,\n",
       "        \u001b[32m'index'\u001b[0m: \u001b[1m{\u001b[0m\u001b[32m'type'\u001b[0m: \u001b[32m'text'\u001b[0m\u001b[1m}\u001b[0m,\n",
       "        \u001b[32m'top_image'\u001b[0m: \u001b[1m{\u001b[0m\u001b[32m'type'\u001b[0m: \u001b[32m'text'\u001b[0m\u001b[1m}\u001b[0m,\n",
       "        \u001b[32m'url'\u001b[0m: \u001b[1m{\u001b[0m\u001b[32m'type'\u001b[0m: \u001b[32m'text'\u001b[0m\u001b[1m}\u001b[0m\n",
       "    \u001b[1m}\u001b[0m\n",
       "\u001b[1m}\u001b[0m\n"
      ]
     },
     "metadata": {},
     "output_type": "display_data"
    }
   ],
   "source": [
    "import rich\n",
    "rich.print(proc.info())"
   ]
  },
  {
   "cell_type": "code",
   "execution_count": 10,
   "metadata": {},
   "outputs": [
    {
     "name": "stdout",
     "output_type": "stream",
     "text": [
      "Function run elapsed time: 0:00:00.000014\n"
     ]
    },
    {
     "data": {
      "text/plain": [
       "[{'_index': 'factcheck',\n",
       "  '_id': 'https://factly.in/photoshopped-image-shared-as-obama-holding-the-potrait-of-ambedkar/',\n",
       "  '_score': 32.278206,\n",
       "  '_source': {'url': 'https://factly.in/photoshopped-image-shared-as-obama-holding-the-potrait-of-ambedkar/',\n",
       "   'claim': 'Obama holding the portrait of Ambedkar.',\n",
       "   'content': 'A photo of Barack Obama (Former President of USA) holding the portrait of Ambedkar is being shared widely on social media. Let’s try to check the authenticity of the photo. The archived version of the post can be found here. Claim: Photo of Obama holding the portrait of Ambedkar. Fact: It is a photoshopped image. In the original picture, a set of gloves were present in the place of Ambedkar. Hence the claim made in the post is FALSE. When the image was run through the Yandex Reverse Image Search, many similar images were found in the search results. It was found that the posted image is a cropped version. The original full picture was found on the ‘Flickr’ website with the description – ‘Johnson give gloves to Obama’. Many other pictures and videos related to the event can be seen here, here and here. It can be seen that the same photo is also available as a photo-effect on the ‘PhotoFunia’ website. So, anything can be placed in the place of gloves. Talking about Ambedkar in his speech at the Indian Parliament, on 08t November 2010, Obama said – ‘We believe that no matter who you are or where you come from, every person can fulfill their God-given potential, just as a Dalit like Dr. Ambedkar could lift himself up and pen the words of the Constitution that protects the rights of all Indians.’ The full transcript of the speech can be read here. To sum it up, Obama was not holding the portrait of Ambedkar in the photo. Did you watch our new video in the DECODE series?',\n",
       "   'top_image': 'https://factly.in/wp-content/uploads//2020/01/Obama-holding-Ambedkar-photo-Thumbnail.jpg'}},\n",
       " {'_index': 'factcheck',\n",
       "  '_id': 'https://colombiacheck.com/chequeos/la-falsa-portada-del-new-york-times-que-asegura-que-obama-y-biden-fueron-arrestados',\n",
       "  '_score': 30.882624,\n",
       "  '_source': {'url': 'https://colombiacheck.com/chequeos/la-falsa-portada-del-new-york-times-que-asegura-que-obama-y-biden-fueron-arrestados',\n",
       "   'claim': 'Obama fue arrestado',\n",
       "   'content': 'En medio de las elecciones a la presidencia de Estados Unidos, en redes sociales se volvió viral una supuesta portada del diario The New York Times en la que se observan fotos de Barack y Michel Obama, el candidato a la presidencia Joe Biden y el ex fiscal de Estados Unidos Eric Holder con el titular de que Obama ha sido detenido acusado de fraude y traición. La supuesta noticia de dicha portada, agrega que Michelle Obama también enfrenta cargos, que el Congreso se reunió en sesión de emergencia y que una junta de gobierno ha tomado el poder mientras se llevan a cabo nuevas elecciones antes de que el juicio comience. Esta portada que fue compartida el pasado 7 de octubre por la página de Facebook Venet QQanon Tony ya tiene más de 400 compartidos y hay comentarios que incluso aseguran que Obama y sus aliados fueron detenidos hace más dos meses y que los reemplazaron por clones. Cabe recordar que QAnon es una teoría conspirativa que el presidente de Estados Unidos, Donald Trump lucha contra la pedofilia y el ‘estado profundo’ y que además una élite de políticos de Washington y estrellas de Hollywood tienen una red de pedofilia que secuestra niños para extraerles ‘adrenocromo’, compuesto que supuestamente provoca placer e increíbles alucinaciones. Esta publicación, según una herramienta a la que tenemos acceso por una alianza con Facebook para combatir la desinformación, ha sido vista en Colombia por más de 17 mil personas. Por esa razón, en Colombiacheck decidimos verificar el pantallazo y encontramos que se trata de un montaje. Empecemos por decir que Barack Obama, su esposa Michelle, Joe Biden, quien fue su vicepresidente y hoy aspira a ser presidente de Estados Unidos gozan de libertad, así lo pudimos verificar al hacer una revisión de sus recientes actividades públicas y publicaciones en redes sociales. Asimismo, al hacer un análisis de la portada, nada es legible más allá de los titulares, la fecha que se alcanza a distinguir pareciera ser agosto 2, pero el año no es claro, así como tampoco lo son los textos que acompañan las supuestas noticias que abren, quizás el diario más influyente del mundo. Si la portada que pretende confundir es la que corresponde al 2 de agosto de 2020, verificamos que ese día el diario The New York Times tuvo esta portada en la que el titular principal es “Luego de un breve respiro el virus vuelve a recargar” y se acompaña de tres fotografías que ilustran a personas vacacionando en Florida, Georgia y California. En el lado derecho de la portada de ese día se presenta una artículo en el que se registra el resurgimiento de la extrema derecha. Los otros cuatro titulares de ese día en la portada real del diario neoyorquino nada tienen que ver con lo registrado en la portada objeto de este chequeo y tampoco nada similar aparece en el índice que se ubica en la parte baja de esta página. De otro lado, al hacer una búsqueda inversa de imágenes en Google la misma página falsa aparece en al menos 29 sitios web y como parte de colección de memes en algunas páginas de la red social Pinterest. Por otra parte, al hacer un análisis del estilo gráfico y tipográfico del diario neoyorquino, el diseñador editorial de periódicos, Edward Certuche, aseguró que “la tipografía es muy parecida pero generalmente el New York Times usa mayúsculas y minúsculas, aquí todo está en mayúsculas. No se nota muy bien en la imagen, pero entre notas siempre utilizan líneas de separación”. Certuche agrega que “hace algún tiempo el NYT utiliza color en sus fotografías en primera página y el color del periódico es blanco, no en ese color amarillo envejecido. La foto de Michelle Obama no es el estilo NYT”. ¿En dónde están Obama, Michelle y Biden? Barack Obama hizo su más reciente aparición pública este miércoles 21 de octubre en Filadelfia, Pensilvania, en donde fue uno de los oradores del mitin de autos, organizado por la campaña Biden - Harris a la Presidencia de Estados Unidos, tal y como lo registró la cadena CBS en este tuit. Allí Obama arremetió contra Trump y entre otras cosas aseguró que “dejamos literalmente a esta Casa Blanca un manual de estrategias para una pandemia que les habría mostrado cómo responder antes de que el virus llegara a nuestras costas. Probablemente lo usaron para, no sé, apuntalar una mesa inestable en alguna parte\". Biden, por su parte, tiene en su cuenta de Twitter este 21 de octubre, una serie de publicaciones en las que promociona la participación de Obama en el mitin de Filadelfia y otro tuit en que critica a su rival por el manejo de la pandemia “El presidente Trump no tomó las precauciones necesarias para protegerse a sí mismo y a los demás. ¿Cómo podemos confiar en él para proteger el país?”, aseveró. Por el lado de Michelle Obama la ex primera dama tiene en su reciente línea de tiempo de su cuenta de Twitter @MichelleObama un video en el que hace sus argumentos de cierre en favor de Joe Biden y en el que le pide a los estadounidenses votar por el candidato demócrata y hacerlo de manera informada. Las actividades públicas de los personajes mencionados en la falsa página, así como las evidencias de la manipulación de la portada del diario neoyorquino, The New York Times, dejan claro que esa portada nunca fue publicada, por lo que concluimos que es falsa. Además, ni los Obama, ni Biden ni Holden están detenidos.',\n",
       "   'top_image': 'https://colombiacheck.s3.us-east-2.amazonaws.com/colcheck/s3fs-public/2020-10/201022-obama-falso-arresto-redes.png?VersionId=bABmnnjQue15kgMXnFxMKa0D7Kg0ebvv'}},\n",
       " {'_index': 'factcheck',\n",
       "  '_id': 'https://www.boomlive.in/world/fake-news-barack-obama-marijuana-cannabis-420-12918',\n",
       "  '_score': 30.712677,\n",
       "  '_source': {'url': 'https://www.boomlive.in/world/fake-news-barack-obama-marijuana-cannabis-420-12918',\n",
       "   'claim': 'Barack Obama posed with a pro-marijuana sign on April 20.',\n",
       "   'content': 'A Facebook post shared thousands of times appears to picture former US president Barack Obama standing next to a sign that says \"420,\" referring to the celebration of weed held April 20. But a reverse image search reveals the photo has been digitally altered; the original was posted on the Obama White House Instagram account in 2015 and the sign read \"1961,\" not \"420.\" Also Read: No, Foot Locker Did Not Donate $200 Million To Black Lives Matter The image, shared by rapper Rico Freeman, features Obama in sunglasses leaning against the sign, smiling. \"Happy Holidays,\" reads the caption of the April 20, 2021 Facebook post shared more than 2,500 times. The post was a re-share of Freeman\\'s from the same day in 2020, when he wrote: \"Happy 420 from the greatest president Ever!\" The 2020 post was shared 4,600 times, but both have since been removed. Screenshot of a Facebook post taken on April 21, 2021 The picture was also shared on Facebook here, and on Twitter here, here and here. The term \"420\" is most often used in North America, attributed to a group of young pot-lovers in the 1970s who met up at 4:20 pm. AFP Fact Check conducted a Google reverse image search which yielded this web page where the sign in the picture reads \"1961\" and identifies the photo as a 2015 Instagram post. Also Read: Fake Claims About Marijuana With Honey as \\'Cure for 40 Ailments\\' Surfaces on Facebook Searching Google for \"Obama insta 1961 sign\" leads to the actual picture shared by the Obama White House Instagram account on September 1, 2015. The original depicts the former president beside a sign saying \"1961\" and is captioned: \"Markers throughout Exit Glacier show how much it\\'s receded over time. The impacts of climate change are real, and the people of Alaska are living with them every day. It\\'s never been more important for us to work together to address this challenge.\" Screenshot of an Instagram post, taken on April 21, 2021 Obama has been open about his past cannabis use. Also Read: Trey Parker Has Not Quit Voicing South Park\\'s Mr. Hankey Due To BLM Posters, fridge magnets and mouse pads are sold online with the altered image, and this Pinterest account also markets prints of the photo. Possession of small amounts of marijuana was legalized in the US capital in 2015, and weed is legal in several other states. But federal law classifies the plant as a controlled substance. (Except for the headline, this story has not been edited by BOOM staff and is published from a syndicated feed.)',\n",
       "   'top_image': 'https://www.boomlive.in/h-upload/2021/04/26/947359-obama-pro-marijuana-sign-01.jpg'}}]"
      ]
     },
     "execution_count": 10,
     "metadata": {},
     "output_type": "execute_result"
    }
   ],
   "source": [
    "proc.search(text_query='Obama',topk=3)"
   ]
  }
 ],
 "metadata": {
  "kernelspec": {
   "display_name": "elastic",
   "language": "python",
   "name": "python3"
  },
  "language_info": {
   "codemirror_mode": {
    "name": "ipython",
    "version": 3
   },
   "file_extension": ".py",
   "mimetype": "text/x-python",
   "name": "python",
   "nbconvert_exporter": "python",
   "pygments_lexer": "ipython3",
   "version": "3.11.6"
  },
  "orig_nbformat": 4,
  "vscode": {
   "interpreter": {
    "hash": "3e242d2624af79f4ab82e775fce7e2f7901da21f9b094faabf8c3149972e54fd"
   }
  }
 },
 "nbformat": 4,
 "nbformat_minor": 2
}
